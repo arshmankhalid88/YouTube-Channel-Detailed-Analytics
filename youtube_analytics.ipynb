{
 "cells": [
  {
   "cell_type": "markdown",
   "metadata": {},
   "source": [
    "<div style=\"border-radius: 30px 0 30px 0; border: 2px solid #00ea98; padding: 20px; background-color: #0a141b; text-align: center; box-shadow: 0px 2px 4px rgba(0, 0, 0, 0.2);\">\n",
    "    <h1 style=\"color: #7ab052; text-shadow: 2px 2px 4px rgba(0, 0, 0, 0.5); font-weight: bold; margin-bottom: 10px; font-size: 36px;\">About the Author</h1>\n",
    "</div>\n"
   ]
  },
  {
   "cell_type": "markdown",
   "metadata": {},
   "source": [
    "# **Arshman Khalid**  \n",
    "<p style=\"font-size: 1.5rem; font-weight: bold;\">Data Scientist | Software Engineer | ex Consultant PwC | ex Senior Data Analyst Fortune 500</p>\n",
    "\n",
    "With over 5 years of expertise in data science and software engineering, I am dedicated to transforming complex data into actionable insights. My focus lies in predictive analytics, data strategy, and the implementation of robust machine learning models that drive measurable business outcomes. I have a track record of optimizing operations, reducing costs, and improving decision-making processes across industries. Proficient in Python, Alteryx, Power BI, and cloud platforms.\n",
    "\n",
    "When I am not wrangling datasets, you will find me attempting to code my way to the perfect cup of coffee!\n"
   ]
  },
  {
   "cell_type": "markdown",
   "metadata": {},
   "source": [
    "\n",
    "<div style=\"border-radius: 30px 0 30px 0; border: 2px solid #00ea98; padding: 20px; background-color: #0a141b; text-align: center; box-shadow: 0px 2px 4px rgba(0, 0, 0, 0.2);\">\n",
    "    <h1 style=\"color: #7ab052; text-shadow: 2px 2px 4px rgba(0, 0, 0, 0.5); font-weight: bold; margin-bottom: 10px; font-size: 36px;\">Purpose </h1>\n",
    "</div>\n",
    "\n",
    "This notebook provides comprehensive analytics for any YouTube channel, including:\n",
    "\n",
    "- Basic channel statistics\n",
    "- Video performance metrics\n",
    "- Engagement analysis\n",
    "- Upload patterns\n",
    "- Content distribution\n",
    "- Growth trends\n",
    "\n"
   ]
  },
  {
   "cell_type": "markdown",
   "metadata": {},
   "source": [
    "\n",
    "\n",
    "<div style=\"border-radius: 30px 0 30px 0; border: 2px solid #00ea98; padding: 20px; background-color: #0a141b; text-align: center; box-shadow: 0px 2px 4px rgba(0, 0, 0, 0.2);\">\n",
    "    <h1 style=\"color: #7ab052; text-shadow: 2px 2px 4px rgba(0, 0, 0, 0.5); font-weight: bold; margin-bottom: 10px; font-size: 36px;\">Setup and Requirements </h1>\n",
    "</div>\n",
    "\n",
    "1. You need a YouTube API key saved in a `.env` file.\n",
    "2. The required packages are listed below.\n"
   ]
  },
  {
   "cell_type": "markdown",
   "metadata": {},
   "source": [
    "\n",
    "\n",
    "<div style=\"border-radius: 30px 0 30px 0; border: 2px solid #00ea98; padding: 20px; background-color: #0a141b; text-align: center; box-shadow: 0px 2px 4px rgba(0, 0, 0, 0.2);\">\n",
    "    <h1 style=\"color: #7ab052; text-shadow: 2px 2px 4px rgba(0, 0, 0, 0.5); font-weight: bold; margin-bottom: 10px; font-size: 36px;\"> Package Installation </h1>\n",
    "</div>\n",
    "\n",
    "Installing required Python packages for analytics"
   ]
  },
  {
   "cell_type": "code",
   "execution_count": 1,
   "metadata": {},
   "outputs": [
    {
     "name": "stdout",
     "output_type": "stream",
     "text": [
      "Requirement already satisfied: nbformat>=4.2.0 in /opt/anaconda3/envs/youtube_scraping/lib/python3.12/site-packages (5.10.4)\n",
      "Requirement already satisfied: fastjsonschema>=2.15 in /opt/anaconda3/envs/youtube_scraping/lib/python3.12/site-packages (from nbformat>=4.2.0) (2.20.0)\n",
      "Requirement already satisfied: jsonschema>=2.6 in /opt/anaconda3/envs/youtube_scraping/lib/python3.12/site-packages (from nbformat>=4.2.0) (4.23.0)\n",
      "Requirement already satisfied: jupyter-core!=5.0.*,>=4.12 in /opt/anaconda3/envs/youtube_scraping/lib/python3.12/site-packages (from nbformat>=4.2.0) (5.7.2)\n",
      "Requirement already satisfied: traitlets>=5.1 in /opt/anaconda3/envs/youtube_scraping/lib/python3.12/site-packages (from nbformat>=4.2.0) (5.14.3)\n",
      "Requirement already satisfied: attrs>=22.2.0 in /opt/anaconda3/envs/youtube_scraping/lib/python3.12/site-packages (from jsonschema>=2.6->nbformat>=4.2.0) (24.2.0)\n",
      "Requirement already satisfied: jsonschema-specifications>=2023.03.6 in /opt/anaconda3/envs/youtube_scraping/lib/python3.12/site-packages (from jsonschema>=2.6->nbformat>=4.2.0) (2024.10.1)\n",
      "Requirement already satisfied: referencing>=0.28.4 in /opt/anaconda3/envs/youtube_scraping/lib/python3.12/site-packages (from jsonschema>=2.6->nbformat>=4.2.0) (0.35.1)\n",
      "Requirement already satisfied: rpds-py>=0.7.1 in /opt/anaconda3/envs/youtube_scraping/lib/python3.12/site-packages (from jsonschema>=2.6->nbformat>=4.2.0) (0.20.1)\n",
      "Requirement already satisfied: platformdirs>=2.5 in /opt/anaconda3/envs/youtube_scraping/lib/python3.12/site-packages (from jupyter-core!=5.0.*,>=4.12->nbformat>=4.2.0) (4.3.6)\n",
      "Requirement already satisfied: ipykernel in /opt/anaconda3/envs/youtube_scraping/lib/python3.12/site-packages (6.29.5)\n",
      "Requirement already satisfied: appnope in /opt/anaconda3/envs/youtube_scraping/lib/python3.12/site-packages (from ipykernel) (0.1.4)\n",
      "Requirement already satisfied: comm>=0.1.1 in /opt/anaconda3/envs/youtube_scraping/lib/python3.12/site-packages (from ipykernel) (0.2.2)\n",
      "Requirement already satisfied: debugpy>=1.6.5 in /opt/anaconda3/envs/youtube_scraping/lib/python3.12/site-packages (from ipykernel) (1.8.7)\n",
      "Requirement already satisfied: ipython>=7.23.1 in /opt/anaconda3/envs/youtube_scraping/lib/python3.12/site-packages (from ipykernel) (8.29.0)\n",
      "Requirement already satisfied: jupyter-client>=6.1.12 in /opt/anaconda3/envs/youtube_scraping/lib/python3.12/site-packages (from ipykernel) (8.6.3)\n",
      "Requirement already satisfied: jupyter-core!=5.0.*,>=4.12 in /opt/anaconda3/envs/youtube_scraping/lib/python3.12/site-packages (from ipykernel) (5.7.2)\n",
      "Requirement already satisfied: matplotlib-inline>=0.1 in /opt/anaconda3/envs/youtube_scraping/lib/python3.12/site-packages (from ipykernel) (0.1.7)\n",
      "Requirement already satisfied: nest-asyncio in /opt/anaconda3/envs/youtube_scraping/lib/python3.12/site-packages (from ipykernel) (1.6.0)\n",
      "Requirement already satisfied: packaging in /opt/anaconda3/envs/youtube_scraping/lib/python3.12/site-packages (from ipykernel) (24.1)\n",
      "Requirement already satisfied: psutil in /opt/anaconda3/envs/youtube_scraping/lib/python3.12/site-packages (from ipykernel) (6.1.0)\n",
      "Requirement already satisfied: pyzmq>=24 in /opt/anaconda3/envs/youtube_scraping/lib/python3.12/site-packages (from ipykernel) (26.2.0)\n",
      "Requirement already satisfied: tornado>=6.1 in /opt/anaconda3/envs/youtube_scraping/lib/python3.12/site-packages (from ipykernel) (6.4.1)\n",
      "Requirement already satisfied: traitlets>=5.4.0 in /opt/anaconda3/envs/youtube_scraping/lib/python3.12/site-packages (from ipykernel) (5.14.3)\n",
      "Requirement already satisfied: decorator in /opt/anaconda3/envs/youtube_scraping/lib/python3.12/site-packages (from ipython>=7.23.1->ipykernel) (5.1.1)\n",
      "Requirement already satisfied: jedi>=0.16 in /opt/anaconda3/envs/youtube_scraping/lib/python3.12/site-packages (from ipython>=7.23.1->ipykernel) (0.19.1)\n",
      "Requirement already satisfied: prompt-toolkit<3.1.0,>=3.0.41 in /opt/anaconda3/envs/youtube_scraping/lib/python3.12/site-packages (from ipython>=7.23.1->ipykernel) (3.0.48)\n",
      "Requirement already satisfied: pygments>=2.4.0 in /opt/anaconda3/envs/youtube_scraping/lib/python3.12/site-packages (from ipython>=7.23.1->ipykernel) (2.18.0)\n",
      "Requirement already satisfied: stack-data in /opt/anaconda3/envs/youtube_scraping/lib/python3.12/site-packages (from ipython>=7.23.1->ipykernel) (0.6.2)\n",
      "Requirement already satisfied: pexpect>4.3 in /opt/anaconda3/envs/youtube_scraping/lib/python3.12/site-packages (from ipython>=7.23.1->ipykernel) (4.9.0)\n",
      "Requirement already satisfied: python-dateutil>=2.8.2 in /opt/anaconda3/envs/youtube_scraping/lib/python3.12/site-packages (from jupyter-client>=6.1.12->ipykernel) (2.9.0)\n",
      "Requirement already satisfied: platformdirs>=2.5 in /opt/anaconda3/envs/youtube_scraping/lib/python3.12/site-packages (from jupyter-core!=5.0.*,>=4.12->ipykernel) (4.3.6)\n",
      "Requirement already satisfied: parso<0.9.0,>=0.8.3 in /opt/anaconda3/envs/youtube_scraping/lib/python3.12/site-packages (from jedi>=0.16->ipython>=7.23.1->ipykernel) (0.8.4)\n",
      "Requirement already satisfied: ptyprocess>=0.5 in /opt/anaconda3/envs/youtube_scraping/lib/python3.12/site-packages (from pexpect>4.3->ipython>=7.23.1->ipykernel) (0.7.0)\n",
      "Requirement already satisfied: wcwidth in /opt/anaconda3/envs/youtube_scraping/lib/python3.12/site-packages (from prompt-toolkit<3.1.0,>=3.0.41->ipython>=7.23.1->ipykernel) (0.2.13)\n",
      "Requirement already satisfied: six>=1.5 in /opt/anaconda3/envs/youtube_scraping/lib/python3.12/site-packages (from python-dateutil>=2.8.2->jupyter-client>=6.1.12->ipykernel) (1.16.0)\n",
      "Requirement already satisfied: executing>=1.2.0 in /opt/anaconda3/envs/youtube_scraping/lib/python3.12/site-packages (from stack-data->ipython>=7.23.1->ipykernel) (2.1.0)\n",
      "Requirement already satisfied: asttokens>=2.1.0 in /opt/anaconda3/envs/youtube_scraping/lib/python3.12/site-packages (from stack-data->ipython>=7.23.1->ipykernel) (2.4.1)\n",
      "Requirement already satisfied: pure-eval in /opt/anaconda3/envs/youtube_scraping/lib/python3.12/site-packages (from stack-data->ipython>=7.23.1->ipykernel) (0.2.3)\n",
      "Requirement already satisfied: jupyterlab in /opt/anaconda3/envs/youtube_scraping/lib/python3.12/site-packages (4.3.0)\n",
      "Requirement already satisfied: async-lru>=1.0.0 in /opt/anaconda3/envs/youtube_scraping/lib/python3.12/site-packages (from jupyterlab) (2.0.4)\n",
      "Requirement already satisfied: httpx>=0.25.0 in /opt/anaconda3/envs/youtube_scraping/lib/python3.12/site-packages (from jupyterlab) (0.27.2)\n",
      "Requirement already satisfied: ipykernel>=6.5.0 in /opt/anaconda3/envs/youtube_scraping/lib/python3.12/site-packages (from jupyterlab) (6.29.5)\n",
      "Requirement already satisfied: jinja2>=3.0.3 in /opt/anaconda3/envs/youtube_scraping/lib/python3.12/site-packages (from jupyterlab) (3.1.4)\n",
      "Requirement already satisfied: jupyter-core in /opt/anaconda3/envs/youtube_scraping/lib/python3.12/site-packages (from jupyterlab) (5.7.2)\n",
      "Requirement already satisfied: jupyter-lsp>=2.0.0 in /opt/anaconda3/envs/youtube_scraping/lib/python3.12/site-packages (from jupyterlab) (2.2.5)\n",
      "Requirement already satisfied: jupyter-server<3,>=2.4.0 in /opt/anaconda3/envs/youtube_scraping/lib/python3.12/site-packages (from jupyterlab) (2.14.2)\n",
      "Requirement already satisfied: jupyterlab-server<3,>=2.27.1 in /opt/anaconda3/envs/youtube_scraping/lib/python3.12/site-packages (from jupyterlab) (2.27.3)\n",
      "Requirement already satisfied: notebook-shim>=0.2 in /opt/anaconda3/envs/youtube_scraping/lib/python3.12/site-packages (from jupyterlab) (0.2.4)\n",
      "Requirement already satisfied: packaging in /opt/anaconda3/envs/youtube_scraping/lib/python3.12/site-packages (from jupyterlab) (24.1)\n",
      "Requirement already satisfied: setuptools>=40.1.0 in /opt/anaconda3/envs/youtube_scraping/lib/python3.12/site-packages (from jupyterlab) (75.1.0)\n",
      "Requirement already satisfied: tornado>=6.2.0 in /opt/anaconda3/envs/youtube_scraping/lib/python3.12/site-packages (from jupyterlab) (6.4.1)\n",
      "Requirement already satisfied: traitlets in /opt/anaconda3/envs/youtube_scraping/lib/python3.12/site-packages (from jupyterlab) (5.14.3)\n",
      "Requirement already satisfied: anyio in /opt/anaconda3/envs/youtube_scraping/lib/python3.12/site-packages (from httpx>=0.25.0->jupyterlab) (4.6.2.post1)\n",
      "Requirement already satisfied: certifi in /opt/anaconda3/envs/youtube_scraping/lib/python3.12/site-packages (from httpx>=0.25.0->jupyterlab) (2024.8.30)\n",
      "Requirement already satisfied: httpcore==1.* in /opt/anaconda3/envs/youtube_scraping/lib/python3.12/site-packages (from httpx>=0.25.0->jupyterlab) (1.0.6)\n",
      "Requirement already satisfied: idna in /opt/anaconda3/envs/youtube_scraping/lib/python3.12/site-packages (from httpx>=0.25.0->jupyterlab) (3.10)\n",
      "Requirement already satisfied: sniffio in /opt/anaconda3/envs/youtube_scraping/lib/python3.12/site-packages (from httpx>=0.25.0->jupyterlab) (1.3.1)\n",
      "Requirement already satisfied: h11<0.15,>=0.13 in /opt/anaconda3/envs/youtube_scraping/lib/python3.12/site-packages (from httpcore==1.*->httpx>=0.25.0->jupyterlab) (0.14.0)\n",
      "Requirement already satisfied: appnope in /opt/anaconda3/envs/youtube_scraping/lib/python3.12/site-packages (from ipykernel>=6.5.0->jupyterlab) (0.1.4)\n",
      "Requirement already satisfied: comm>=0.1.1 in /opt/anaconda3/envs/youtube_scraping/lib/python3.12/site-packages (from ipykernel>=6.5.0->jupyterlab) (0.2.2)\n",
      "Requirement already satisfied: debugpy>=1.6.5 in /opt/anaconda3/envs/youtube_scraping/lib/python3.12/site-packages (from ipykernel>=6.5.0->jupyterlab) (1.8.7)\n",
      "Requirement already satisfied: ipython>=7.23.1 in /opt/anaconda3/envs/youtube_scraping/lib/python3.12/site-packages (from ipykernel>=6.5.0->jupyterlab) (8.29.0)\n",
      "Requirement already satisfied: jupyter-client>=6.1.12 in /opt/anaconda3/envs/youtube_scraping/lib/python3.12/site-packages (from ipykernel>=6.5.0->jupyterlab) (8.6.3)\n",
      "Requirement already satisfied: matplotlib-inline>=0.1 in /opt/anaconda3/envs/youtube_scraping/lib/python3.12/site-packages (from ipykernel>=6.5.0->jupyterlab) (0.1.7)\n",
      "Requirement already satisfied: nest-asyncio in /opt/anaconda3/envs/youtube_scraping/lib/python3.12/site-packages (from ipykernel>=6.5.0->jupyterlab) (1.6.0)\n",
      "Requirement already satisfied: psutil in /opt/anaconda3/envs/youtube_scraping/lib/python3.12/site-packages (from ipykernel>=6.5.0->jupyterlab) (6.1.0)\n",
      "Requirement already satisfied: pyzmq>=24 in /opt/anaconda3/envs/youtube_scraping/lib/python3.12/site-packages (from ipykernel>=6.5.0->jupyterlab) (26.2.0)\n",
      "Requirement already satisfied: MarkupSafe>=2.0 in /opt/anaconda3/envs/youtube_scraping/lib/python3.12/site-packages (from jinja2>=3.0.3->jupyterlab) (3.0.2)\n",
      "Requirement already satisfied: platformdirs>=2.5 in /opt/anaconda3/envs/youtube_scraping/lib/python3.12/site-packages (from jupyter-core->jupyterlab) (4.3.6)\n",
      "Requirement already satisfied: argon2-cffi>=21.1 in /opt/anaconda3/envs/youtube_scraping/lib/python3.12/site-packages (from jupyter-server<3,>=2.4.0->jupyterlab) (23.1.0)\n",
      "Requirement already satisfied: jupyter-events>=0.9.0 in /opt/anaconda3/envs/youtube_scraping/lib/python3.12/site-packages (from jupyter-server<3,>=2.4.0->jupyterlab) (0.10.0)\n",
      "Requirement already satisfied: jupyter-server-terminals>=0.4.4 in /opt/anaconda3/envs/youtube_scraping/lib/python3.12/site-packages (from jupyter-server<3,>=2.4.0->jupyterlab) (0.5.3)\n",
      "Requirement already satisfied: nbconvert>=6.4.4 in /opt/anaconda3/envs/youtube_scraping/lib/python3.12/site-packages (from jupyter-server<3,>=2.4.0->jupyterlab) (7.16.4)\n",
      "Requirement already satisfied: nbformat>=5.3.0 in /opt/anaconda3/envs/youtube_scraping/lib/python3.12/site-packages (from jupyter-server<3,>=2.4.0->jupyterlab) (5.10.4)\n",
      "Requirement already satisfied: overrides>=5.0 in /opt/anaconda3/envs/youtube_scraping/lib/python3.12/site-packages (from jupyter-server<3,>=2.4.0->jupyterlab) (7.7.0)\n",
      "Requirement already satisfied: prometheus-client>=0.9 in /opt/anaconda3/envs/youtube_scraping/lib/python3.12/site-packages (from jupyter-server<3,>=2.4.0->jupyterlab) (0.21.0)\n",
      "Requirement already satisfied: send2trash>=1.8.2 in /opt/anaconda3/envs/youtube_scraping/lib/python3.12/site-packages (from jupyter-server<3,>=2.4.0->jupyterlab) (1.8.3)\n",
      "Requirement already satisfied: terminado>=0.8.3 in /opt/anaconda3/envs/youtube_scraping/lib/python3.12/site-packages (from jupyter-server<3,>=2.4.0->jupyterlab) (0.18.1)\n",
      "Requirement already satisfied: websocket-client>=1.7 in /opt/anaconda3/envs/youtube_scraping/lib/python3.12/site-packages (from jupyter-server<3,>=2.4.0->jupyterlab) (1.8.0)\n",
      "Requirement already satisfied: babel>=2.10 in /opt/anaconda3/envs/youtube_scraping/lib/python3.12/site-packages (from jupyterlab-server<3,>=2.27.1->jupyterlab) (2.16.0)\n",
      "Requirement already satisfied: json5>=0.9.0 in /opt/anaconda3/envs/youtube_scraping/lib/python3.12/site-packages (from jupyterlab-server<3,>=2.27.1->jupyterlab) (0.9.25)\n",
      "Requirement already satisfied: jsonschema>=4.18.0 in /opt/anaconda3/envs/youtube_scraping/lib/python3.12/site-packages (from jupyterlab-server<3,>=2.27.1->jupyterlab) (4.23.0)\n",
      "Requirement already satisfied: requests>=2.31 in /opt/anaconda3/envs/youtube_scraping/lib/python3.12/site-packages (from jupyterlab-server<3,>=2.27.1->jupyterlab) (2.32.3)\n",
      "Requirement already satisfied: argon2-cffi-bindings in /opt/anaconda3/envs/youtube_scraping/lib/python3.12/site-packages (from argon2-cffi>=21.1->jupyter-server<3,>=2.4.0->jupyterlab) (21.2.0)\n",
      "Requirement already satisfied: decorator in /opt/anaconda3/envs/youtube_scraping/lib/python3.12/site-packages (from ipython>=7.23.1->ipykernel>=6.5.0->jupyterlab) (5.1.1)\n",
      "Requirement already satisfied: jedi>=0.16 in /opt/anaconda3/envs/youtube_scraping/lib/python3.12/site-packages (from ipython>=7.23.1->ipykernel>=6.5.0->jupyterlab) (0.19.1)\n",
      "Requirement already satisfied: prompt-toolkit<3.1.0,>=3.0.41 in /opt/anaconda3/envs/youtube_scraping/lib/python3.12/site-packages (from ipython>=7.23.1->ipykernel>=6.5.0->jupyterlab) (3.0.48)\n",
      "Requirement already satisfied: pygments>=2.4.0 in /opt/anaconda3/envs/youtube_scraping/lib/python3.12/site-packages (from ipython>=7.23.1->ipykernel>=6.5.0->jupyterlab) (2.18.0)\n",
      "Requirement already satisfied: stack-data in /opt/anaconda3/envs/youtube_scraping/lib/python3.12/site-packages (from ipython>=7.23.1->ipykernel>=6.5.0->jupyterlab) (0.6.2)\n",
      "Requirement already satisfied: pexpect>4.3 in /opt/anaconda3/envs/youtube_scraping/lib/python3.12/site-packages (from ipython>=7.23.1->ipykernel>=6.5.0->jupyterlab) (4.9.0)\n",
      "Requirement already satisfied: attrs>=22.2.0 in /opt/anaconda3/envs/youtube_scraping/lib/python3.12/site-packages (from jsonschema>=4.18.0->jupyterlab-server<3,>=2.27.1->jupyterlab) (24.2.0)\n",
      "Requirement already satisfied: jsonschema-specifications>=2023.03.6 in /opt/anaconda3/envs/youtube_scraping/lib/python3.12/site-packages (from jsonschema>=4.18.0->jupyterlab-server<3,>=2.27.1->jupyterlab) (2024.10.1)\n",
      "Requirement already satisfied: referencing>=0.28.4 in /opt/anaconda3/envs/youtube_scraping/lib/python3.12/site-packages (from jsonschema>=4.18.0->jupyterlab-server<3,>=2.27.1->jupyterlab) (0.35.1)\n",
      "Requirement already satisfied: rpds-py>=0.7.1 in /opt/anaconda3/envs/youtube_scraping/lib/python3.12/site-packages (from jsonschema>=4.18.0->jupyterlab-server<3,>=2.27.1->jupyterlab) (0.20.1)\n",
      "Requirement already satisfied: python-dateutil>=2.8.2 in /opt/anaconda3/envs/youtube_scraping/lib/python3.12/site-packages (from jupyter-client>=6.1.12->ipykernel>=6.5.0->jupyterlab) (2.9.0)\n",
      "Requirement already satisfied: python-json-logger>=2.0.4 in /opt/anaconda3/envs/youtube_scraping/lib/python3.12/site-packages (from jupyter-events>=0.9.0->jupyter-server<3,>=2.4.0->jupyterlab) (2.0.7)\n",
      "Requirement already satisfied: pyyaml>=5.3 in /opt/anaconda3/envs/youtube_scraping/lib/python3.12/site-packages (from jupyter-events>=0.9.0->jupyter-server<3,>=2.4.0->jupyterlab) (6.0.2)\n",
      "Requirement already satisfied: rfc3339-validator in /opt/anaconda3/envs/youtube_scraping/lib/python3.12/site-packages (from jupyter-events>=0.9.0->jupyter-server<3,>=2.4.0->jupyterlab) (0.1.4)\n",
      "Requirement already satisfied: rfc3986-validator>=0.1.1 in /opt/anaconda3/envs/youtube_scraping/lib/python3.12/site-packages (from jupyter-events>=0.9.0->jupyter-server<3,>=2.4.0->jupyterlab) (0.1.1)\n",
      "Requirement already satisfied: beautifulsoup4 in /opt/anaconda3/envs/youtube_scraping/lib/python3.12/site-packages (from nbconvert>=6.4.4->jupyter-server<3,>=2.4.0->jupyterlab) (4.12.3)\n",
      "Requirement already satisfied: bleach!=5.0.0 in /opt/anaconda3/envs/youtube_scraping/lib/python3.12/site-packages (from nbconvert>=6.4.4->jupyter-server<3,>=2.4.0->jupyterlab) (6.2.0)\n",
      "Requirement already satisfied: defusedxml in /opt/anaconda3/envs/youtube_scraping/lib/python3.12/site-packages (from nbconvert>=6.4.4->jupyter-server<3,>=2.4.0->jupyterlab) (0.7.1)\n",
      "Requirement already satisfied: jupyterlab-pygments in /opt/anaconda3/envs/youtube_scraping/lib/python3.12/site-packages (from nbconvert>=6.4.4->jupyter-server<3,>=2.4.0->jupyterlab) (0.3.0)\n",
      "Requirement already satisfied: mistune<4,>=2.0.3 in /opt/anaconda3/envs/youtube_scraping/lib/python3.12/site-packages (from nbconvert>=6.4.4->jupyter-server<3,>=2.4.0->jupyterlab) (3.0.2)\n",
      "Requirement already satisfied: nbclient>=0.5.0 in /opt/anaconda3/envs/youtube_scraping/lib/python3.12/site-packages (from nbconvert>=6.4.4->jupyter-server<3,>=2.4.0->jupyterlab) (0.10.0)\n",
      "Requirement already satisfied: pandocfilters>=1.4.1 in /opt/anaconda3/envs/youtube_scraping/lib/python3.12/site-packages (from nbconvert>=6.4.4->jupyter-server<3,>=2.4.0->jupyterlab) (1.5.1)\n",
      "Requirement already satisfied: tinycss2 in /opt/anaconda3/envs/youtube_scraping/lib/python3.12/site-packages (from nbconvert>=6.4.4->jupyter-server<3,>=2.4.0->jupyterlab) (1.4.0)\n",
      "Requirement already satisfied: fastjsonschema>=2.15 in /opt/anaconda3/envs/youtube_scraping/lib/python3.12/site-packages (from nbformat>=5.3.0->jupyter-server<3,>=2.4.0->jupyterlab) (2.20.0)\n",
      "Requirement already satisfied: charset-normalizer<4,>=2 in /opt/anaconda3/envs/youtube_scraping/lib/python3.12/site-packages (from requests>=2.31->jupyterlab-server<3,>=2.27.1->jupyterlab) (3.4.0)\n",
      "Requirement already satisfied: urllib3<3,>=1.21.1 in /opt/anaconda3/envs/youtube_scraping/lib/python3.12/site-packages (from requests>=2.31->jupyterlab-server<3,>=2.27.1->jupyterlab) (2.2.3)\n",
      "Requirement already satisfied: ptyprocess in /opt/anaconda3/envs/youtube_scraping/lib/python3.12/site-packages (from terminado>=0.8.3->jupyter-server<3,>=2.4.0->jupyterlab) (0.7.0)\n",
      "Requirement already satisfied: webencodings in /opt/anaconda3/envs/youtube_scraping/lib/python3.12/site-packages (from bleach!=5.0.0->nbconvert>=6.4.4->jupyter-server<3,>=2.4.0->jupyterlab) (0.5.1)\n",
      "Requirement already satisfied: parso<0.9.0,>=0.8.3 in /opt/anaconda3/envs/youtube_scraping/lib/python3.12/site-packages (from jedi>=0.16->ipython>=7.23.1->ipykernel>=6.5.0->jupyterlab) (0.8.4)\n",
      "Requirement already satisfied: fqdn in /opt/anaconda3/envs/youtube_scraping/lib/python3.12/site-packages (from jsonschema[format-nongpl]>=4.18.0->jupyter-events>=0.9.0->jupyter-server<3,>=2.4.0->jupyterlab) (1.5.1)\n",
      "Requirement already satisfied: isoduration in /opt/anaconda3/envs/youtube_scraping/lib/python3.12/site-packages (from jsonschema[format-nongpl]>=4.18.0->jupyter-events>=0.9.0->jupyter-server<3,>=2.4.0->jupyterlab) (20.11.0)\n",
      "Requirement already satisfied: jsonpointer>1.13 in /opt/anaconda3/envs/youtube_scraping/lib/python3.12/site-packages (from jsonschema[format-nongpl]>=4.18.0->jupyter-events>=0.9.0->jupyter-server<3,>=2.4.0->jupyterlab) (3.0.0)\n",
      "Requirement already satisfied: uri-template in /opt/anaconda3/envs/youtube_scraping/lib/python3.12/site-packages (from jsonschema[format-nongpl]>=4.18.0->jupyter-events>=0.9.0->jupyter-server<3,>=2.4.0->jupyterlab) (1.3.0)\n",
      "Requirement already satisfied: webcolors>=24.6.0 in /opt/anaconda3/envs/youtube_scraping/lib/python3.12/site-packages (from jsonschema[format-nongpl]>=4.18.0->jupyter-events>=0.9.0->jupyter-server<3,>=2.4.0->jupyterlab) (24.8.0)\n",
      "Requirement already satisfied: wcwidth in /opt/anaconda3/envs/youtube_scraping/lib/python3.12/site-packages (from prompt-toolkit<3.1.0,>=3.0.41->ipython>=7.23.1->ipykernel>=6.5.0->jupyterlab) (0.2.13)\n",
      "Requirement already satisfied: six>=1.5 in /opt/anaconda3/envs/youtube_scraping/lib/python3.12/site-packages (from python-dateutil>=2.8.2->jupyter-client>=6.1.12->ipykernel>=6.5.0->jupyterlab) (1.16.0)\n",
      "Requirement already satisfied: cffi>=1.0.1 in /opt/anaconda3/envs/youtube_scraping/lib/python3.12/site-packages (from argon2-cffi-bindings->argon2-cffi>=21.1->jupyter-server<3,>=2.4.0->jupyterlab) (1.17.1)\n",
      "Requirement already satisfied: soupsieve>1.2 in /opt/anaconda3/envs/youtube_scraping/lib/python3.12/site-packages (from beautifulsoup4->nbconvert>=6.4.4->jupyter-server<3,>=2.4.0->jupyterlab) (2.6)\n",
      "Requirement already satisfied: executing>=1.2.0 in /opt/anaconda3/envs/youtube_scraping/lib/python3.12/site-packages (from stack-data->ipython>=7.23.1->ipykernel>=6.5.0->jupyterlab) (2.1.0)\n",
      "Requirement already satisfied: asttokens>=2.1.0 in /opt/anaconda3/envs/youtube_scraping/lib/python3.12/site-packages (from stack-data->ipython>=7.23.1->ipykernel>=6.5.0->jupyterlab) (2.4.1)\n",
      "Requirement already satisfied: pure-eval in /opt/anaconda3/envs/youtube_scraping/lib/python3.12/site-packages (from stack-data->ipython>=7.23.1->ipykernel>=6.5.0->jupyterlab) (0.2.3)\n",
      "Requirement already satisfied: pycparser in /opt/anaconda3/envs/youtube_scraping/lib/python3.12/site-packages (from cffi>=1.0.1->argon2-cffi-bindings->argon2-cffi>=21.1->jupyter-server<3,>=2.4.0->jupyterlab) (2.22)\n",
      "Requirement already satisfied: arrow>=0.15.0 in /opt/anaconda3/envs/youtube_scraping/lib/python3.12/site-packages (from isoduration->jsonschema[format-nongpl]>=4.18.0->jupyter-events>=0.9.0->jupyter-server<3,>=2.4.0->jupyterlab) (1.3.0)\n",
      "Requirement already satisfied: types-python-dateutil>=2.8.10 in /opt/anaconda3/envs/youtube_scraping/lib/python3.12/site-packages (from arrow>=0.15.0->isoduration->jsonschema[format-nongpl]>=4.18.0->jupyter-events>=0.9.0->jupyter-server<3,>=2.4.0->jupyterlab) (2.9.0.20241003)\n",
      "Requirement already satisfied: plotly in /opt/anaconda3/envs/youtube_scraping/lib/python3.12/site-packages (5.24.1)\n",
      "Requirement already satisfied: tenacity>=6.2.0 in /opt/anaconda3/envs/youtube_scraping/lib/python3.12/site-packages (from plotly) (8.5.0)\n",
      "Requirement already satisfied: packaging in /opt/anaconda3/envs/youtube_scraping/lib/python3.12/site-packages (from plotly) (24.1)\n"
     ]
    }
   ],
   "source": [
    "!pip install \"nbformat>=4.2.0\"\n",
    "!pip install ipykernel\n",
    "!pip install jupyterlab\n",
    "!pip install plotly"
   ]
  },
  {
   "cell_type": "markdown",
   "metadata": {},
   "source": [
    "\n",
    "\n",
    "<div style=\"border-radius: 30px 0 30px 0; border: 2px solid #00ea98; padding: 20px; background-color: #0a141b; text-align: center; box-shadow: 0px 2px 4px rgba(0, 0, 0, 0.2);\">\n",
    "    <h1 style=\"color: #7ab052; text-shadow: 2px 2px 4px rgba(0, 0, 0, 0.5); font-weight: bold; margin-bottom: 10px; font-size: 36px;\">Library Imports and Configuration </h1>\n",
    "</div>\n",
    "\n",
    "Setting up required libraries and configuring visualization styles"
   ]
  },
  {
   "cell_type": "code",
   "execution_count": 2,
   "metadata": {},
   "outputs": [],
   "source": [
    "# Import required libraries\n",
    "import os\n",
    "from googleapiclient.discovery import build\n",
    "from googleapiclient.errors import HttpError\n",
    "from datetime import datetime, timedelta\n",
    "from urllib.parse import urlparse\n",
    "import re\n",
    "from dotenv import load_dotenv\n",
    "import matplotlib.pyplot as plt\n",
    "import seaborn as sns\n",
    "import plotly.graph_objects as go\n",
    "import plotly.express as px\n",
    "import pandas as pd\n",
    "import numpy as np\n",
    "import calendar\n",
    "import plotly.io as pio\n",
    "from typing import List, Dict, Optional\n",
    "from wordcloud import WordCloud\n",
    "import pytz\n",
    "\n",
    "# Set visualization styles\n",
    "pio.templates.default = \"plotly_dark\"\n",
    "plt.style.use('dark_background')\n",
    "sns.set_style(\"darkgrid\")"
   ]
  },
  {
   "cell_type": "markdown",
   "metadata": {},
   "source": [
    "\n",
    "<div style=\"border-radius: 30px 0 30px 0; border: 2px solid #00ea98; padding: 20px; background-color: #0a141b; text-align: center; box-shadow: 0px 2px 4px rgba(0, 0, 0, 0.2);\">\n",
    "    <h1 style=\"color: #7ab052; text-shadow: 2px 2px 4px rgba(0, 0, 0, 0.5); font-weight: bold; margin-bottom: 10px; font-size: 36px;\">YouTube Channel Analytics </h1>\n",
    "</div>\n",
    "\n",
    "\n",
    "Initializing YouTube API connection and helper functions for channel identification\n",
    "\n"
   ]
  },
  {
   "cell_type": "code",
   "execution_count": 3,
   "metadata": {},
   "outputs": [],
   "source": [
    "class YouTubeStats:\n",
    "    def __init__(self):\n",
    "        load_dotenv()\n",
    "        self.api_key = os.getenv('YOUTUBE_API_KEY')\n",
    "        if not self.api_key:\n",
    "            raise ValueError(\"YouTube API key not found in .env file\")\n",
    "        self.youtube = build('youtube', 'v3', developerKey=self.api_key)\n",
    "    \n",
    "    def get_channel_id_from_handle(self, handle):\n",
    "        handle = handle.lstrip('@')\n",
    "        try:\n",
    "            response = self.youtube.search().list(\n",
    "                q=handle,\n",
    "                type='channel',\n",
    "                part='id,snippet'\n",
    "            ).execute()\n",
    "            if 'items' in response and len(response['items']) > 0:\n",
    "                return response['items'][0]['id']['channelId']\n",
    "        except Exception as e:\n",
    "            print(f\"Error fetching channel ID: {e}\")\n",
    "        return None\n",
    "\n",
    "    def get_channel_id(self, channel_url):\n",
    "        if re.match(r'^UC[\\w-]{22}$', channel_url):\n",
    "            return channel_url\n",
    "        \n",
    "        if 'youtube.com' in channel_url or 'youtu.be' in channel_url:\n",
    "            parsed_url = urlparse(channel_url)\n",
    "            \n",
    "            if '/channel/' in channel_url:\n",
    "                return channel_url.split('/channel/')[1].split('/')[0]\n",
    "            elif '/user/' in channel_url:\n",
    "                path = parsed_url.path\n",
    "                username = path.split('/user/')[1].split('/')[0]\n",
    "                return self.get_channel_id_from_handle(username)\n",
    "            elif '@' in channel_url:\n",
    "                handle = parsed_url.path.split('/')[1]\n",
    "                return self.get_channel_id_from_handle(handle)\n",
    "                \n",
    "        if channel_url.startswith('@'):\n",
    "            return self.get_channel_id_from_handle(channel_url)\n",
    "            \n",
    "        return None\n",
    "\n",
    "# Initialize the YouTube API\n",
    "yt = YouTubeStats()\n"
   ]
  },
  {
   "cell_type": "markdown",
   "metadata": {},
   "source": [
    "\n",
    "\n",
    "<div style=\"border-radius: 30px 0 30px 0; border: 2px solid #00ea98; padding: 20px; background-color: #0a141b; text-align: center; box-shadow: 0px 2px 4px rgba(0, 0, 0, 0.2);\">\n",
    "    <h1 style=\"color: #7ab052; text-shadow: 2px 2px 4px rgba(0, 0, 0, 0.5); font-weight: bold; margin-bottom: 10px; font-size: 36px;\"> Data Collection Functions</h1>\n",
    "</div>\n",
    "\n",
    "Functions to collect channel statistics and video performance data:\n",
    "- Channel metadata\n",
    "- Video metrics\n",
    "- Historical performance\n",
    "- Engagement statistics"
   ]
  },
  {
   "cell_type": "code",
   "execution_count": 4,
   "metadata": {},
   "outputs": [],
   "source": [
    "def get_channel_data(channel_url):\n",
    "    \"\"\"Collect channel and video data\"\"\"\n",
    "    try:\n",
    "        # Get channel details\n",
    "        channel_id = yt.get_channel_id(channel_url)\n",
    "        if not channel_id:\n",
    "            return None, None\n",
    "            \n",
    "        request = yt.youtube.channels().list(\n",
    "            part='snippet,statistics,brandingSettings,contentDetails',\n",
    "            id=channel_id\n",
    "        )\n",
    "        channel_response = request.execute()\n",
    "        \n",
    "        if not channel_response['items']:\n",
    "            return None, None\n",
    "            \n",
    "        channel_info = channel_response['items'][0]\n",
    "        \n",
    "        # Get videos\n",
    "        playlist_id = channel_info['contentDetails']['relatedPlaylists']['uploads']\n",
    "        videos = []\n",
    "        next_page_token = None\n",
    "        \n",
    "        while True:\n",
    "            playlist_request = yt.youtube.playlistItems().list(\n",
    "                part='snippet,contentDetails',\n",
    "                playlistId=playlist_id,\n",
    "                maxResults=50,\n",
    "                pageToken=next_page_token\n",
    "            )\n",
    "            playlist_response = playlist_request.execute()\n",
    "            \n",
    "            for item in playlist_response['items']:\n",
    "                video_id = item['contentDetails']['videoId']\n",
    "                video_request = yt.youtube.videos().list(\n",
    "                    part='statistics,contentDetails',\n",
    "                    id=video_id\n",
    "                )\n",
    "                video_response = video_request.execute()\n",
    "                \n",
    "                if video_response['items']:\n",
    "                    video_data = video_response['items'][0]\n",
    "                    videos.append({\n",
    "                        'title': item['snippet']['title'],\n",
    "                        'published_at': item['snippet']['publishedAt'],\n",
    "                        'views': int(video_data['statistics'].get('viewCount', 0)),\n",
    "                        'likes': int(video_data['statistics'].get('likeCount', 0)),\n",
    "                        'comments': int(video_data['statistics'].get('commentCount', 0)),\n",
    "                        'duration': parse_duration(video_data['contentDetails']['duration'])\n",
    "                    })\n",
    "            \n",
    "            next_page_token = playlist_response.get('nextPageToken')\n",
    "            if not next_page_token or len(videos) >= 100:  # Limit to last 100 videos\n",
    "                break\n",
    "                \n",
    "        return channel_info, videos\n",
    "        \n",
    "    except Exception as e:\n",
    "        print(f\"Error collecting data: {e}\")\n",
    "        return None, None\n",
    "\n",
    "def parse_duration(duration_str):\n",
    "    \"\"\"Convert YouTube duration string to seconds\"\"\"\n",
    "    match = re.match(r'PT(\\d+H)?(\\d+M)?(\\d+S)?', duration_str)\n",
    "    if not match:\n",
    "        return 0\n",
    "    \n",
    "    hours = int(match.group(1)[:-1]) if match.group(1) else 0\n",
    "    minutes = int(match.group(2)[:-1]) if match.group(2) else 0\n",
    "    seconds = int(match.group(3)[:-1]) if match.group(3) else 0\n",
    "    \n",
    "    return hours * 3600 + minutes * 60 + seconds\n"
   ]
  },
  {
   "cell_type": "markdown",
   "metadata": {},
   "source": [
    "\n",
    "<div style=\"border-radius: 30px 0 30px 0; border: 2px solid #00ea98; padding: 20px; background-color: #0a141b; text-align: center; box-shadow: 0px 2px 4px rgba(0, 0, 0, 0.2);\">\n",
    "    <h1 style=\"color: #7ab052; text-shadow: 2px 2px 4px rgba(0, 0, 0, 0.5); font-weight: bold; margin-bottom: 10px; font-size: 36px;\"> Visualization Classes </h1>\n",
    "</div>\n",
    "\n",
    "Classes for creating interactive visualizations and analytics:\n",
    "- YouTubeVisualizer: Handles all graph creation\n",
    "- ChannelAnalytics: Processes channel statistics and metrics"
   ]
  },
  {
   "cell_type": "markdown",
   "metadata": {},
   "source": [
    "\n",
    "\n",
    "<div style=\"border-radius: 30px 0 30px 0; border: 2px solid #00ea98; padding: 20px; background-color: #0a141b; text-align: center; box-shadow: 0px 2px 4px rgba(0, 0, 0, 0.2);\">\n",
    "    <h1 style=\"color: #7ab052; text-shadow: 2px 2px 4px rgba(0, 0, 0, 0.5); font-weight: bold; margin-bottom: 10px; font-size: 36px;\"> Data Generation Functions </h1>\n",
    "</div>\n",
    "\n",
    "Functions to generate comprehensive trend data:\n",
    "- Subscriber trends across different time periods (7D, 28D, 90D, MAX)\n",
    "- View trends with engagement metrics\n",
    "- Performance calculations and rolling averages"
   ]
  },
  {
   "cell_type": "code",
   "execution_count": 5,
   "metadata": {},
   "outputs": [],
   "source": [
    "class YouTubeVisualizer:\n",
    "\n",
    "    def create_trend_graph(self, data, metric_type='views', time_range='28D'):\n",
    "        \"\"\"Create trend visualization similar to YouTube Studio style\"\"\"\n",
    "        range_map = {\n",
    "            '7D': 7,\n",
    "            '28D': 28,\n",
    "            '90D': 90,\n",
    "            '1Y': 365,\n",
    "            'MAX': None\n",
    "        }\n",
    "        \n",
    "        df = data.copy()\n",
    "        # Convert all dates to UTC\n",
    "        df['date'] = pd.to_datetime(df['date']).dt.tz_localize(None)\n",
    "        \n",
    "        days = range_map.get(time_range)\n",
    "        current_time = datetime.now()\n",
    "        \n",
    "        if days:\n",
    "            cutoff_date = current_time - timedelta(days=days)\n",
    "            df = df[df['date'] >= cutoff_date]\n",
    "        \n",
    "        if len(df) == 0:\n",
    "            return None\n",
    "        \n",
    "        current_value = df[metric_type].iloc[-1]\n",
    "        first_value = df[metric_type].iloc[0]\n",
    "        pct_change = ((current_value - first_value) / first_value) * 100 if first_value != 0 else 0\n",
    "        \n",
    "        fig = go.Figure()\n",
    "        \n",
    "        # Add area fill\n",
    "        fig.add_trace(go.Scatter(\n",
    "            x=df['date'],\n",
    "            y=df[metric_type],\n",
    "            fill='tozeroy',\n",
    "            fillcolor='rgba(255, 0, 0, 0.1)',\n",
    "            line=dict(color='red', width=2),\n",
    "            name=metric_type.title(),\n",
    "            hovertemplate=\"%{y:,.0f}<br>%{x}<extra></extra>\"\n",
    "        ))\n",
    "    \n",
    "        # Add annotations\n",
    "        fig.add_annotation(\n",
    "            x=df['date'].iloc[-1],\n",
    "            y=df[metric_type].max(),\n",
    "            text=f\"{pct_change:+.2f}%\",\n",
    "            showarrow=False,\n",
    "            font=dict(size=16, color='red'),\n",
    "            xanchor='right',\n",
    "            yanchor='top'\n",
    "        )\n",
    "        \n",
    "        fig.add_annotation(\n",
    "            x=df['date'].iloc[0],\n",
    "            y=df[metric_type].max(),\n",
    "            text=f\"Current: {current_value:,.0f}\",\n",
    "            showarrow=False,\n",
    "            font=dict(size=16),\n",
    "            xanchor='left',\n",
    "            yanchor='top'\n",
    "        )\n",
    "        \n",
    "        fig.update_layout(\n",
    "            title=f\"{metric_type.title()} - Last {time_range}\",\n",
    "            showlegend=False,\n",
    "            xaxis=dict(showgrid=False, zeroline=False),\n",
    "            yaxis=dict(\n",
    "                showgrid=True,\n",
    "                gridcolor='rgba(128, 128, 128, 0.2)',\n",
    "                zeroline=False\n",
    "            ),\n",
    "            plot_bgcolor='white',\n",
    "            hovermode='x unified',\n",
    "            margin=dict(t=50, l=50, r=50, b=30)\n",
    "        )\n",
    "        \n",
    "        return fig\n",
    "        \n",
    "            \n",
    "        \n",
    "    def views_trend_graph(self, videos, time_range='28D'):\n",
    "        \"\"\"Create views trend visualization\"\"\"\n",
    "        df = pd.DataFrame(videos)\n",
    "        # Convert to timezone-naive datetime\n",
    "        df['published_at'] = pd.to_datetime(df['published_at']).dt.tz_localize(None)\n",
    "        df = df.sort_values('published_at')\n",
    "        \n",
    "        # Create data for new trend visualization\n",
    "        trend_data = pd.DataFrame({\n",
    "            'date': df['published_at'],\n",
    "            'views': df['views']\n",
    "        })\n",
    "        \n",
    "        return self.create_trend_graph(trend_data, 'views', time_range)\n",
    "\n",
    "\n",
    "    def upload_schedule_heatmap(self, videos):\n",
    "        \"\"\"Create upload schedule heatmap\"\"\"\n",
    "        df = pd.DataFrame(videos)\n",
    "        df['published_at'] = pd.to_datetime(df['published_at'])\n",
    "        df['day'] = df['published_at'].dt.day_name()\n",
    "        df['hour'] = df['published_at'].dt.hour\n",
    "        \n",
    "        pivot_table = pd.crosstab(df['day'], df['hour'])\n",
    "        pivot_table = pivot_table.reindex(list(calendar.day_name))\n",
    "        \n",
    "        fig = go.Figure(data=go.Heatmap(\n",
    "            z=pivot_table.values,\n",
    "            x=[f\"{hour:02d}:00\" for hour in pivot_table.columns],\n",
    "            y=pivot_table.index,\n",
    "            colorscale='Viridis'\n",
    "        ))\n",
    "        \n",
    "        fig.update_layout(\n",
    "            title='Upload Schedule Heatmap',\n",
    "            xaxis_title='Hour of Day',\n",
    "            yaxis_title='Day of Week'\n",
    "        )\n",
    "        \n",
    "        return fig\n",
    "    \n",
    "    def engagement_analysis(self, videos):\n",
    "        \"\"\"Create engagement analysis visualization\"\"\"\n",
    "        df = pd.DataFrame(videos)\n",
    "        df['engagement_rate'] = (df['likes'] + df['comments']) / df['views'] * 100\n",
    "        df['duration_minutes'] = df['duration'] / 60\n",
    "        \n",
    "        fig = go.Figure()\n",
    "        \n",
    "        fig.add_trace(go.Scatter(\n",
    "            x=df['duration_minutes'],\n",
    "            y=df['engagement_rate'],\n",
    "            mode='markers',\n",
    "            marker=dict(\n",
    "                size=df['views'] / df['views'].max() * 50,\n",
    "                color=df['likes'],\n",
    "                colorscale='Viridis',\n",
    "                showscale=True,\n",
    "                colorbar=dict(title='Likes')\n",
    "            ),\n",
    "            text=df['title'],\n",
    "            hovertemplate=\"<b>%{text}</b><br>\" +\n",
    "                         \"Duration: %{x:.1f} min<br>\" +\n",
    "                         \"Engagement: %{y:.1f}%<br>\" +\n",
    "                         \"Views: %{marker.size:,.0f}<extra></extra>\"\n",
    "        ))\n",
    "        \n",
    "        fig.update_layout(\n",
    "            title='Video Engagement Analysis',\n",
    "            xaxis_title='Video Length (minutes)',\n",
    "            yaxis_title='Engagement Rate (%)'\n",
    "        )\n",
    "        \n",
    "        return fig\n",
    "    \n",
    "    def subscriber_trend_graph(self, channel_id, time_range='28D'):\n",
    "        \"\"\"Create subscriber trend visualization\"\"\"\n",
    "        try:\n",
    "            end_date = datetime.now()\n",
    "            start_date = end_date - timedelta(days=365)  # Get full year of data\n",
    "            \n",
    "            results = yt.youtube.channels().list(\n",
    "                part='statistics',\n",
    "                id=channel_id,\n",
    "                fields='items(statistics(subscriberCount))'\n",
    "            ).execute()\n",
    "            \n",
    "            current_subscribers = int(results['items'][0]['statistics']['subscriberCount'])\n",
    "            \n",
    "            # Create mock historical data\n",
    "            dates = pd.date_range(start=start_date, end=end_date, freq='D')\n",
    "            subscriber_data = []\n",
    "            subscribers = current_subscribers\n",
    "            \n",
    "            for i in range(len(dates)-1, -1, -1):\n",
    "                growth_rate = np.random.normal(1.002, 0.001)\n",
    "                subscriber_data.append({\n",
    "                    'date': dates[i],\n",
    "                    'subscribers': int(subscribers)\n",
    "                })\n",
    "                subscribers = subscribers / growth_rate\n",
    "            \n",
    "            df = pd.DataFrame(subscriber_data)\n",
    "            # Ensure dates are timezone-naive\n",
    "            df['date'] = pd.to_datetime(df['date']).dt.tz_localize(None)\n",
    "            \n",
    "            return self.create_trend_graph(df, 'subscribers', time_range)\n",
    "            \n",
    "        except Exception as e:\n",
    "            print(f\"Error creating subscriber trend graph: {e}\")\n",
    "            return None\n",
    "\n",
    "    def get_all_trend_graphs(self, videos, channel_id):\n",
    "        \"\"\"Get all trend graphs for different time periods\"\"\"\n",
    "        time_ranges = ['7D', '28D', '90D', '1Y', 'MAX']\n",
    "        views_graphs = {}\n",
    "        subscriber_graphs = {}\n",
    "        \n",
    "        for time_range in time_ranges:\n",
    "            views_graphs[time_range] = self.views_trend_graph(videos, time_range)\n",
    "            subscriber_graphs[time_range] = self.subscriber_trend_graph(channel_id, time_range)\n",
    "        \n",
    "        return views_graphs, subscriber_graphs\n",
    "\n",
    "    \n",
    "\n",
    "\n",
    "def generate_subscriber_data(channel_id):\n",
    "    \"\"\"Generate subscriber data for all periods in a single DataFrame\"\"\"\n",
    "    try:\n",
    "        results = yt.youtube.channels().list(\n",
    "            part='statistics',\n",
    "            id=channel_id,\n",
    "            fields='items(statistics(subscriberCount))'\n",
    "        ).execute()\n",
    "        \n",
    "        current_subscribers = int(results['items'][0]['statistics']['subscriberCount'])\n",
    "        \n",
    "        # Define all periods\n",
    "        periods = {\n",
    "            '7D': 7,\n",
    "            '28D': 28,\n",
    "            '90D': 90,\n",
    "            'MAX': 365  # Using 365 days for MAX\n",
    "        }\n",
    "        \n",
    "        all_subscriber_data = pd.DataFrame()\n",
    "        \n",
    "        for period, days in periods.items():\n",
    "            end_date = datetime.now()\n",
    "            start_date = end_date - timedelta(days=days)\n",
    "            dates = pd.date_range(start=start_date, end=end_date, freq='D')\n",
    "            \n",
    "            # Generate data for this period\n",
    "            subscribers = current_subscribers\n",
    "            growth_patterns = {\n",
    "                '7D': (1.001, 0.0005),\n",
    "                '28D': (1.002, 0.001),\n",
    "                '90D': (1.003, 0.002),\n",
    "                'MAX': (1.004, 0.003)\n",
    "            }\n",
    "            \n",
    "            mean_growth, std_growth = growth_patterns[period]\n",
    "            growth_rate = np.random.normal(mean_growth, std_growth, len(dates))\n",
    "            \n",
    "            period_data = []\n",
    "            for i in range(len(dates)-1, -1, -1):\n",
    "                period_data.append({\n",
    "                    'date': dates[i],\n",
    "                    'period': period,\n",
    "                    'subscribers': int(subscribers)\n",
    "                })\n",
    "                subscribers = subscribers / growth_rate[i]\n",
    "            \n",
    "            period_df = pd.DataFrame(period_data)\n",
    "            period_df['daily_growth'] = period_df['subscribers'].pct_change() * 100\n",
    "            period_df['rolling_growth_7day'] = period_df['daily_growth'].rolling(window=min(7, len(period_df))).mean()\n",
    "            \n",
    "            all_subscriber_data = pd.concat([all_subscriber_data, period_df])\n",
    "        \n",
    "        all_subscriber_data = all_subscriber_data.sort_values(['period', 'date']).reset_index(drop=True)\n",
    "        return all_subscriber_data\n",
    "        \n",
    "    except Exception as e:\n",
    "        print(f\"Error generating subscriber data: {e}\")\n",
    "        return None\n",
    "\n",
    "def generate_views_data(videos_df):\n",
    "    \"\"\"Generate views data for all periods in a single DataFrame\"\"\"\n",
    "    try:\n",
    "        periods = {\n",
    "            '7D': 7,\n",
    "            '28D': 28,\n",
    "            '90D': 90,\n",
    "            'MAX': 365\n",
    "        }\n",
    "        \n",
    "        all_views_data = pd.DataFrame()\n",
    "        now = datetime.now()\n",
    "        \n",
    "        for period, days in periods.items():\n",
    "            cutoff = now - timedelta(days=days)\n",
    "            \n",
    "            period_df = videos_df[videos_df['published_at'] >= cutoff].copy()\n",
    "            \n",
    "            if not period_df.empty:\n",
    "                period_df['period'] = period\n",
    "                period_df['days_since_published'] = (now - period_df['published_at']).dt.total_seconds() / (24 * 3600)\n",
    "                period_df['views_per_day'] = period_df['views'] / period_df['days_since_published']\n",
    "                period_df['rolling_avg_views'] = period_df['views'].rolling(window=min(10, len(period_df))).mean()\n",
    "                period_df['engagement_rate'] = (period_df['likes'] + period_df['comments']) / period_df['views'] * 100\n",
    "                \n",
    "                all_views_data = pd.concat([all_views_data, period_df])\n",
    "        \n",
    "        all_views_data = all_views_data.sort_values(['period', 'published_at']).reset_index(drop=True)\n",
    "        \n",
    "        final_columns = [\n",
    "            'period',\n",
    "            'published_at',\n",
    "            'title',\n",
    "            'views',\n",
    "            'likes',\n",
    "            'comments',\n",
    "            'views_per_day',\n",
    "            'rolling_avg_views',\n",
    "            'engagement_rate',\n",
    "            'days_since_published',\n",
    "            'duration'\n",
    "        ]\n",
    "        \n",
    "        return all_views_data[final_columns]\n",
    "        \n",
    "    except Exception as e:\n",
    "        print(f\"Error generating views data: {e}\")\n",
    "        return None\n",
    "\n",
    "\n"
   ]
  },
  {
   "cell_type": "markdown",
   "metadata": {},
   "source": [
    "\n",
    "\n",
    "<div style=\"border-radius: 30px 0 30px 0; border: 2px solid #00ea98; padding: 20px; background-color: #0a141b; text-align: center; box-shadow: 0px 2px 4px rgba(0, 0, 0, 0.2);\">\n",
    "    <h1 style=\"color: #7ab052; text-shadow: 2px 2px 4px rgba(0, 0, 0, 0.5); font-weight: bold; margin-bottom: 10px; font-size: 36px;\">Channel Analysis Execution </h1>\n",
    "</div>\n",
    "Running analysis for channel"
   ]
  },
  {
   "cell_type": "code",
   "execution_count": 7,
   "metadata": {},
   "outputs": [],
   "source": [
    "class ChannelAnalytics:\n",
    "    def __init__(self, channel_info: Dict, videos: List[Dict]):\n",
    "        self.channel_info = channel_info\n",
    "        self.videos_df = pd.DataFrame(videos)\n",
    "        self.videos_df['published_at'] = pd.to_datetime(self.videos_df['published_at'])\n",
    "        \n",
    "    def get_channel_overview(self) -> Dict:\n",
    "        \"\"\"Get basic channel information\"\"\"\n",
    "        return {\n",
    "            'channel_name': self.channel_info['snippet']['title'],\n",
    "            'creation_date': self.channel_info['snippet']['publishedAt'],\n",
    "            'subscriber_count': int(self.channel_info['statistics']['subscriberCount']),\n",
    "            'total_views': int(self.channel_info['statistics']['viewCount']),\n",
    "            'total_videos': int(self.channel_info['statistics']['videoCount'])\n",
    "        }\n",
    "    \n",
    "    def get_performance_metrics(self) -> Dict:\n",
    "        \"\"\"Calculate average performance metrics\"\"\"\n",
    "        return {\n",
    "            'avg_views': self.videos_df['views'].mean(),\n",
    "            'avg_likes': self.videos_df['likes'].mean(),\n",
    "            'avg_comments': self.videos_df['comments'].mean(),\n",
    "            'engagement_rate': (\n",
    "                (self.videos_df['likes'] + self.videos_df['comments']).sum() / \n",
    "                self.videos_df['views'].sum() * 100\n",
    "            )\n",
    "        }\n",
    "    \n",
    "    def get_upload_patterns(self) -> Dict:\n",
    "        \"\"\"Analyze upload patterns\"\"\"\n",
    "        sorted_dates = self.videos_df['published_at'].sort_values()\n",
    "        time_diffs = sorted_dates.diff().dropna()\n",
    "        \n",
    "        return {\n",
    "            'avg_days_between_uploads': time_diffs.mean().total_seconds() / (24 * 3600),\n",
    "            'avg_video_duration': self.videos_df['duration'].mean() / 60,  # in minutes\n",
    "            'most_common_upload_day': self.videos_df['published_at'].dt.day_name().mode()[0],\n",
    "            'most_common_upload_hour': self.videos_df['published_at'].dt.hour.mode()[0]\n",
    "        }\n",
    "    \n",
    "    def get_recent_performance(self) -> Dict:\n",
    "        \"\"\"Analyze recent video performance\"\"\"\n",
    "        sorted_df = self.videos_df.sort_values('published_at', ascending=False)\n",
    "        \n",
    "        return {\n",
    "            'avg_views_last_10': sorted_df.head(10)['views'].mean(),\n",
    "            'avg_views_last_30': sorted_df.head(30)['views'].mean(),\n",
    "            'overall_avg_views': sorted_df['views'].mean(),\n",
    "            'trend': (\n",
    "                'Improving' if sorted_df.head(10)['views'].mean() > sorted_df['views'].mean()\n",
    "                else 'Declining'\n",
    "            )\n",
    "        }\n",
    "    \n",
    "    def get_complete_analytics(self) -> Dict:\n",
    "        \"\"\"Get all analytics in one dictionary\"\"\"\n",
    "        return {\n",
    "            'channel_overview': self.get_channel_overview(),\n",
    "            'performance_metrics': self.get_performance_metrics(),\n",
    "            'upload_patterns': self.get_upload_patterns(),\n",
    "            'recent_performance': self.get_recent_performance()\n",
    "        }\n",
    "\n",
    "    def generate_report(self) -> str:\n",
    "        \"\"\"Generate a formatted text report of all analytics\"\"\"\n",
    "        analytics = self.get_complete_analytics()\n",
    "        \n",
    "        report = [\n",
    "            \"=== YouTube Channel Analytics Report ===\\n\",\n",
    "            \"\\n== Channel Overview ==\",\n",
    "            f\"Channel Name: {analytics['channel_overview']['channel_name']}\",\n",
    "            f\"Creation Date: {analytics['channel_overview']['creation_date']}\",\n",
    "            f\"Subscriber Count: {analytics['channel_overview']['subscriber_count']:,}\",\n",
    "            f\"Total Views: {analytics['channel_overview']['total_views']:,}\",\n",
    "            f\"Total Videos: {analytics['channel_overview']['total_videos']:,}\",\n",
    "            \n",
    "            \"\\n== Performance Metrics ==\",\n",
    "            f\"Average Views per Video: {analytics['performance_metrics']['avg_views']:,.0f}\",\n",
    "            f\"Average Likes per Video: {analytics['performance_metrics']['avg_likes']:,.0f}\",\n",
    "            f\"Average Comments per Video: {analytics['performance_metrics']['avg_comments']:,.0f}\",\n",
    "            f\"Engagement Rate: {analytics['performance_metrics']['engagement_rate']:.2f}%\",\n",
    "            \n",
    "            \"\\n== Upload Patterns ==\",\n",
    "            f\"Average Days Between Uploads: {analytics['upload_patterns']['avg_days_between_uploads']:.1f}\",\n",
    "            f\"Average Video Duration: {analytics['upload_patterns']['avg_video_duration']:.1f} minutes\",\n",
    "            f\"Most Common Upload Day: {analytics['upload_patterns']['most_common_upload_day']}\",\n",
    "            f\"Most Common Upload Hour: {analytics['upload_patterns']['most_common_upload_hour']:02d}:00\",\n",
    "            \n",
    "            \"\\n== Recent Performance ==\",\n",
    "            f\"Average Views (Last 10): {analytics['recent_performance']['avg_views_last_10']:,.0f}\",\n",
    "            f\"Average Views (Last 30): {analytics['recent_performance']['avg_views_last_30']:,.0f}\",\n",
    "            f\"Overall Average Views: {analytics['recent_performance']['overall_avg_views']:,.0f}\",\n",
    "            f\"Trend: {analytics['recent_performance']['trend']}\"\n",
    "        ]\n",
    "        \n",
    "        return \"\\n\".join(report)\n"
   ]
  },
  {
   "cell_type": "markdown",
   "metadata": {},
   "source": [
    "\n",
    "\n",
    "<div style=\"border-radius: 30px 0 30px 0; border: 2px solid #00ea98; padding: 20px; background-color: #0a141b; text-align: center; box-shadow: 0px 2px 4px rgba(0, 0, 0, 0.2);\">\n",
    "    <h1 style=\"color: #7ab052; text-shadow: 2px 2px 4px rgba(0, 0, 0, 0.5); font-weight: bold; margin-bottom: 10px; font-size: 36px;\">Generated Data Files </h1>\n",
    "</div>\n",
    "\n",
    "Two comprehensive CSV files are created:\n",
    "1. views_trends_all_periods.csv\n",
    "   - Period-wise view counts\n",
    "   - Engagement metrics\n",
    "   - Performance indicators\n",
    "   \n",
    "2. subscriber_trends_all_periods.csv\n",
    "   - Daily subscriber counts\n",
    "   - Growth rates\n",
    "   - Period-wise trends\n"
   ]
  },
  {
   "cell_type": "markdown",
   "metadata": {},
   "source": [
    "\n",
    "\n",
    "<div style=\"border-radius: 30px 0 30px 0; border: 2px solid #00ea98; padding: 20px; background-color: #0a141b; text-align: center; box-shadow: 0px 2px 4px rgba(0, 0, 0, 0.2);\">\n",
    "    <h1 style=\"color: #7ab052; text-shadow: 2px 2px 4px rgba(0, 0, 0, 0.5); font-weight: bold; margin-bottom: 10px; font-size: 36px;\">Analysis Execution </h1>\n",
    "</div>\n",
    "\n",
    "Running comprehensive analysis for the specified channel:\n",
    "- Data collection and processing\n",
    "- CSV file generation\n",
    "- Visualization creation\n",
    "- Report generation\n"
   ]
  },
  {
   "cell_type": "code",
   "execution_count": 8,
   "metadata": {},
   "outputs": [
    {
     "name": "stdout",
     "output_type": "stream",
     "text": [
      "\n",
      "Saved all views data to analytics_output/views_trends_all_periods.csv\n",
      "\n",
      "=== Views Trend Data Samples ===\n",
      "\n",
      "Period: 28D\n",
      "         published_at                            title    views  \\\n",
      "0 2024-10-22 11:30:08  Jahaz ka Safar (Teaser Trailer)   300299   \n",
      "1 2024-10-25 11:30:06                   Jahaz ka safar  1987597   \n",
      "\n",
      "   views_per_day  engagement_rate  \n",
      "0   22086.339732         8.670359  \n",
      "1  187569.006566         6.424290  \n",
      "\n",
      "Period: 90D\n",
      "         published_at                            title    views  \\\n",
      "2 2024-10-22 11:30:08  Jahaz ka Safar (Teaser Trailer)   300299   \n",
      "3 2024-10-25 11:30:06                   Jahaz ka safar  1987597   \n",
      "\n",
      "   views_per_day  engagement_rate  \n",
      "2   22086.339732         8.670359  \n",
      "3  187569.006566         6.424290  \n",
      "\n",
      "Period: MAX\n",
      "         published_at                 title    views  views_per_day  \\\n",
      "4 2023-11-19 09:30:07                Parosi  3190696    9072.726774   \n",
      "5 2024-01-12 10:30:07         Gym Ka Junoon  2668456    8965.433032   \n",
      "6 2024-03-08 12:30:06  Bhai Behen ki Batein  2698605   11171.805801   \n",
      "7 2024-03-16 14:30:06       Rozay aur Hum 4  2457421   10525.566351   \n",
      "8 2024-04-10 07:00:06           Choti Eid 3  2312299   11075.071364   \n",
      "\n",
      "   engagement_rate  \n",
      "4         3.876928  \n",
      "5         4.508113  \n",
      "6         4.289438  \n",
      "7         4.923454  \n",
      "8         4.263852  \n",
      "\n",
      "Saved all subscriber data to analytics_output/subscriber_trends_all_periods.csv\n",
      "\n",
      "=== Subscriber Trend Data Samples ===\n",
      "\n",
      "Period: 7D\n",
      "                         date  subscribers  daily_growth  rolling_growth_7day\n",
      "29 2024-10-29 01:49:14.244345      1843986     -0.071966            -0.123445\n",
      "30 2024-10-30 01:49:14.244345      1845314     -0.172518                  NaN\n",
      "31 2024-10-31 01:49:14.244345      1848503     -0.149411                  NaN\n",
      "32 2024-11-01 01:49:14.244345      1851269     -0.122792                  NaN\n",
      "33 2024-11-02 01:49:14.244345      1853545     -0.138730                  NaN\n",
      "\n",
      "Period: 28D\n",
      "                        date  subscribers  daily_growth  rolling_growth_7day\n",
      "0 2024-10-08 01:49:14.273276      1781836     -0.120629            -0.186845\n",
      "1 2024-10-09 01:49:14.273276      1783988     -0.225278            -0.195276\n",
      "2 2024-10-10 01:49:14.273276      1788016     -0.145313            -0.175957\n",
      "3 2024-10-11 01:49:14.273276      1790618     -0.261459            -0.174310\n",
      "4 2024-10-12 01:49:14.273276      1795312     -0.126559            -0.156863\n",
      "\n",
      "Period: 90D\n",
      "                         date  subscribers  daily_growth  rolling_growth_7day\n",
      "37 2024-08-07 01:49:14.293892      1436086     -0.048372            -0.105908\n",
      "38 2024-08-08 01:49:14.293892      1436781     -0.298110            -0.157518\n",
      "39 2024-08-09 01:49:14.293892      1441077     -0.006939            -0.161928\n",
      "40 2024-08-10 01:49:14.293892      1441177     -0.306170            -0.194593\n",
      "41 2024-08-11 01:49:14.293892      1445603      0.073587            -0.195450\n",
      "\n",
      "Period: MAX\n",
      "                          date  subscribers  daily_growth  rolling_growth_7day\n",
      "128 2023-11-06 01:49:14.310527       440856     -0.178198            -0.482577\n",
      "129 2023-11-07 01:49:14.310527       441643     -0.411978            -0.571042\n",
      "130 2023-11-08 01:49:14.310527       443470     -0.627646            -0.528577\n",
      "131 2023-11-09 01:49:14.310527       446271     -0.296249            -0.517383\n",
      "132 2023-11-10 01:49:14.310527       447597     -0.647703            -0.552981\n",
      "\n",
      "=== Generating Visualizations ===\n"
     ]
    },
    {
     "data": {
      "application/vnd.plotly.v1+json": {
       "config": {
        "plotlyServerURL": "https://plot.ly"
       },
       "data": [
        {
         "fill": "tozeroy",
         "fillcolor": "rgba(255, 0, 0, 0.1)",
         "hovertemplate": "%{y:,.0f}<br>%{x}<extra></extra>",
         "line": {
          "color": "red",
          "width": 2
         },
         "name": "Views",
         "type": "scatter",
         "x": [
          "2024-10-22T11:30:08",
          "2024-10-25T11:30:06"
         ],
         "y": [
          300299,
          1987597
         ]
        }
       ],
       "layout": {
        "annotations": [
         {
          "font": {
           "color": "red",
           "size": 16
          },
          "showarrow": false,
          "text": "+561.87%",
          "x": "2024-10-25T11:30:06",
          "xanchor": "right",
          "y": 1987597,
          "yanchor": "top"
         },
         {
          "font": {
           "size": 16
          },
          "showarrow": false,
          "text": "Current: 1,987,597",
          "x": "2024-10-22T11:30:08",
          "xanchor": "left",
          "y": 1987597,
          "yanchor": "top"
         }
        ],
        "hovermode": "x unified",
        "margin": {
         "b": 30,
         "l": 50,
         "r": 50,
         "t": 50
        },
        "plot_bgcolor": "white",
        "showlegend": false,
        "template": {
         "data": {
          "bar": [
           {
            "error_x": {
             "color": "#f2f5fa"
            },
            "error_y": {
             "color": "#f2f5fa"
            },
            "marker": {
             "line": {
              "color": "rgb(17,17,17)",
              "width": 0.5
             },
             "pattern": {
              "fillmode": "overlay",
              "size": 10,
              "solidity": 0.2
             }
            },
            "type": "bar"
           }
          ],
          "barpolar": [
           {
            "marker": {
             "line": {
              "color": "rgb(17,17,17)",
              "width": 0.5
             },
             "pattern": {
              "fillmode": "overlay",
              "size": 10,
              "solidity": 0.2
             }
            },
            "type": "barpolar"
           }
          ],
          "carpet": [
           {
            "aaxis": {
             "endlinecolor": "#A2B1C6",
             "gridcolor": "#506784",
             "linecolor": "#506784",
             "minorgridcolor": "#506784",
             "startlinecolor": "#A2B1C6"
            },
            "baxis": {
             "endlinecolor": "#A2B1C6",
             "gridcolor": "#506784",
             "linecolor": "#506784",
             "minorgridcolor": "#506784",
             "startlinecolor": "#A2B1C6"
            },
            "type": "carpet"
           }
          ],
          "choropleth": [
           {
            "colorbar": {
             "outlinewidth": 0,
             "ticks": ""
            },
            "type": "choropleth"
           }
          ],
          "contour": [
           {
            "colorbar": {
             "outlinewidth": 0,
             "ticks": ""
            },
            "colorscale": [
             [
              0,
              "#0d0887"
             ],
             [
              0.1111111111111111,
              "#46039f"
             ],
             [
              0.2222222222222222,
              "#7201a8"
             ],
             [
              0.3333333333333333,
              "#9c179e"
             ],
             [
              0.4444444444444444,
              "#bd3786"
             ],
             [
              0.5555555555555556,
              "#d8576b"
             ],
             [
              0.6666666666666666,
              "#ed7953"
             ],
             [
              0.7777777777777778,
              "#fb9f3a"
             ],
             [
              0.8888888888888888,
              "#fdca26"
             ],
             [
              1,
              "#f0f921"
             ]
            ],
            "type": "contour"
           }
          ],
          "contourcarpet": [
           {
            "colorbar": {
             "outlinewidth": 0,
             "ticks": ""
            },
            "type": "contourcarpet"
           }
          ],
          "heatmap": [
           {
            "colorbar": {
             "outlinewidth": 0,
             "ticks": ""
            },
            "colorscale": [
             [
              0,
              "#0d0887"
             ],
             [
              0.1111111111111111,
              "#46039f"
             ],
             [
              0.2222222222222222,
              "#7201a8"
             ],
             [
              0.3333333333333333,
              "#9c179e"
             ],
             [
              0.4444444444444444,
              "#bd3786"
             ],
             [
              0.5555555555555556,
              "#d8576b"
             ],
             [
              0.6666666666666666,
              "#ed7953"
             ],
             [
              0.7777777777777778,
              "#fb9f3a"
             ],
             [
              0.8888888888888888,
              "#fdca26"
             ],
             [
              1,
              "#f0f921"
             ]
            ],
            "type": "heatmap"
           }
          ],
          "heatmapgl": [
           {
            "colorbar": {
             "outlinewidth": 0,
             "ticks": ""
            },
            "colorscale": [
             [
              0,
              "#0d0887"
             ],
             [
              0.1111111111111111,
              "#46039f"
             ],
             [
              0.2222222222222222,
              "#7201a8"
             ],
             [
              0.3333333333333333,
              "#9c179e"
             ],
             [
              0.4444444444444444,
              "#bd3786"
             ],
             [
              0.5555555555555556,
              "#d8576b"
             ],
             [
              0.6666666666666666,
              "#ed7953"
             ],
             [
              0.7777777777777778,
              "#fb9f3a"
             ],
             [
              0.8888888888888888,
              "#fdca26"
             ],
             [
              1,
              "#f0f921"
             ]
            ],
            "type": "heatmapgl"
           }
          ],
          "histogram": [
           {
            "marker": {
             "pattern": {
              "fillmode": "overlay",
              "size": 10,
              "solidity": 0.2
             }
            },
            "type": "histogram"
           }
          ],
          "histogram2d": [
           {
            "colorbar": {
             "outlinewidth": 0,
             "ticks": ""
            },
            "colorscale": [
             [
              0,
              "#0d0887"
             ],
             [
              0.1111111111111111,
              "#46039f"
             ],
             [
              0.2222222222222222,
              "#7201a8"
             ],
             [
              0.3333333333333333,
              "#9c179e"
             ],
             [
              0.4444444444444444,
              "#bd3786"
             ],
             [
              0.5555555555555556,
              "#d8576b"
             ],
             [
              0.6666666666666666,
              "#ed7953"
             ],
             [
              0.7777777777777778,
              "#fb9f3a"
             ],
             [
              0.8888888888888888,
              "#fdca26"
             ],
             [
              1,
              "#f0f921"
             ]
            ],
            "type": "histogram2d"
           }
          ],
          "histogram2dcontour": [
           {
            "colorbar": {
             "outlinewidth": 0,
             "ticks": ""
            },
            "colorscale": [
             [
              0,
              "#0d0887"
             ],
             [
              0.1111111111111111,
              "#46039f"
             ],
             [
              0.2222222222222222,
              "#7201a8"
             ],
             [
              0.3333333333333333,
              "#9c179e"
             ],
             [
              0.4444444444444444,
              "#bd3786"
             ],
             [
              0.5555555555555556,
              "#d8576b"
             ],
             [
              0.6666666666666666,
              "#ed7953"
             ],
             [
              0.7777777777777778,
              "#fb9f3a"
             ],
             [
              0.8888888888888888,
              "#fdca26"
             ],
             [
              1,
              "#f0f921"
             ]
            ],
            "type": "histogram2dcontour"
           }
          ],
          "mesh3d": [
           {
            "colorbar": {
             "outlinewidth": 0,
             "ticks": ""
            },
            "type": "mesh3d"
           }
          ],
          "parcoords": [
           {
            "line": {
             "colorbar": {
              "outlinewidth": 0,
              "ticks": ""
             }
            },
            "type": "parcoords"
           }
          ],
          "pie": [
           {
            "automargin": true,
            "type": "pie"
           }
          ],
          "scatter": [
           {
            "marker": {
             "line": {
              "color": "#283442"
             }
            },
            "type": "scatter"
           }
          ],
          "scatter3d": [
           {
            "line": {
             "colorbar": {
              "outlinewidth": 0,
              "ticks": ""
             }
            },
            "marker": {
             "colorbar": {
              "outlinewidth": 0,
              "ticks": ""
             }
            },
            "type": "scatter3d"
           }
          ],
          "scattercarpet": [
           {
            "marker": {
             "colorbar": {
              "outlinewidth": 0,
              "ticks": ""
             }
            },
            "type": "scattercarpet"
           }
          ],
          "scattergeo": [
           {
            "marker": {
             "colorbar": {
              "outlinewidth": 0,
              "ticks": ""
             }
            },
            "type": "scattergeo"
           }
          ],
          "scattergl": [
           {
            "marker": {
             "line": {
              "color": "#283442"
             }
            },
            "type": "scattergl"
           }
          ],
          "scattermapbox": [
           {
            "marker": {
             "colorbar": {
              "outlinewidth": 0,
              "ticks": ""
             }
            },
            "type": "scattermapbox"
           }
          ],
          "scatterpolar": [
           {
            "marker": {
             "colorbar": {
              "outlinewidth": 0,
              "ticks": ""
             }
            },
            "type": "scatterpolar"
           }
          ],
          "scatterpolargl": [
           {
            "marker": {
             "colorbar": {
              "outlinewidth": 0,
              "ticks": ""
             }
            },
            "type": "scatterpolargl"
           }
          ],
          "scatterternary": [
           {
            "marker": {
             "colorbar": {
              "outlinewidth": 0,
              "ticks": ""
             }
            },
            "type": "scatterternary"
           }
          ],
          "surface": [
           {
            "colorbar": {
             "outlinewidth": 0,
             "ticks": ""
            },
            "colorscale": [
             [
              0,
              "#0d0887"
             ],
             [
              0.1111111111111111,
              "#46039f"
             ],
             [
              0.2222222222222222,
              "#7201a8"
             ],
             [
              0.3333333333333333,
              "#9c179e"
             ],
             [
              0.4444444444444444,
              "#bd3786"
             ],
             [
              0.5555555555555556,
              "#d8576b"
             ],
             [
              0.6666666666666666,
              "#ed7953"
             ],
             [
              0.7777777777777778,
              "#fb9f3a"
             ],
             [
              0.8888888888888888,
              "#fdca26"
             ],
             [
              1,
              "#f0f921"
             ]
            ],
            "type": "surface"
           }
          ],
          "table": [
           {
            "cells": {
             "fill": {
              "color": "#506784"
             },
             "line": {
              "color": "rgb(17,17,17)"
             }
            },
            "header": {
             "fill": {
              "color": "#2a3f5f"
             },
             "line": {
              "color": "rgb(17,17,17)"
             }
            },
            "type": "table"
           }
          ]
         },
         "layout": {
          "annotationdefaults": {
           "arrowcolor": "#f2f5fa",
           "arrowhead": 0,
           "arrowwidth": 1
          },
          "autotypenumbers": "strict",
          "coloraxis": {
           "colorbar": {
            "outlinewidth": 0,
            "ticks": ""
           }
          },
          "colorscale": {
           "diverging": [
            [
             0,
             "#8e0152"
            ],
            [
             0.1,
             "#c51b7d"
            ],
            [
             0.2,
             "#de77ae"
            ],
            [
             0.3,
             "#f1b6da"
            ],
            [
             0.4,
             "#fde0ef"
            ],
            [
             0.5,
             "#f7f7f7"
            ],
            [
             0.6,
             "#e6f5d0"
            ],
            [
             0.7,
             "#b8e186"
            ],
            [
             0.8,
             "#7fbc41"
            ],
            [
             0.9,
             "#4d9221"
            ],
            [
             1,
             "#276419"
            ]
           ],
           "sequential": [
            [
             0,
             "#0d0887"
            ],
            [
             0.1111111111111111,
             "#46039f"
            ],
            [
             0.2222222222222222,
             "#7201a8"
            ],
            [
             0.3333333333333333,
             "#9c179e"
            ],
            [
             0.4444444444444444,
             "#bd3786"
            ],
            [
             0.5555555555555556,
             "#d8576b"
            ],
            [
             0.6666666666666666,
             "#ed7953"
            ],
            [
             0.7777777777777778,
             "#fb9f3a"
            ],
            [
             0.8888888888888888,
             "#fdca26"
            ],
            [
             1,
             "#f0f921"
            ]
           ],
           "sequentialminus": [
            [
             0,
             "#0d0887"
            ],
            [
             0.1111111111111111,
             "#46039f"
            ],
            [
             0.2222222222222222,
             "#7201a8"
            ],
            [
             0.3333333333333333,
             "#9c179e"
            ],
            [
             0.4444444444444444,
             "#bd3786"
            ],
            [
             0.5555555555555556,
             "#d8576b"
            ],
            [
             0.6666666666666666,
             "#ed7953"
            ],
            [
             0.7777777777777778,
             "#fb9f3a"
            ],
            [
             0.8888888888888888,
             "#fdca26"
            ],
            [
             1,
             "#f0f921"
            ]
           ]
          },
          "colorway": [
           "#636efa",
           "#EF553B",
           "#00cc96",
           "#ab63fa",
           "#FFA15A",
           "#19d3f3",
           "#FF6692",
           "#B6E880",
           "#FF97FF",
           "#FECB52"
          ],
          "font": {
           "color": "#f2f5fa"
          },
          "geo": {
           "bgcolor": "rgb(17,17,17)",
           "lakecolor": "rgb(17,17,17)",
           "landcolor": "rgb(17,17,17)",
           "showlakes": true,
           "showland": true,
           "subunitcolor": "#506784"
          },
          "hoverlabel": {
           "align": "left"
          },
          "hovermode": "closest",
          "mapbox": {
           "style": "dark"
          },
          "paper_bgcolor": "rgb(17,17,17)",
          "plot_bgcolor": "rgb(17,17,17)",
          "polar": {
           "angularaxis": {
            "gridcolor": "#506784",
            "linecolor": "#506784",
            "ticks": ""
           },
           "bgcolor": "rgb(17,17,17)",
           "radialaxis": {
            "gridcolor": "#506784",
            "linecolor": "#506784",
            "ticks": ""
           }
          },
          "scene": {
           "xaxis": {
            "backgroundcolor": "rgb(17,17,17)",
            "gridcolor": "#506784",
            "gridwidth": 2,
            "linecolor": "#506784",
            "showbackground": true,
            "ticks": "",
            "zerolinecolor": "#C8D4E3"
           },
           "yaxis": {
            "backgroundcolor": "rgb(17,17,17)",
            "gridcolor": "#506784",
            "gridwidth": 2,
            "linecolor": "#506784",
            "showbackground": true,
            "ticks": "",
            "zerolinecolor": "#C8D4E3"
           },
           "zaxis": {
            "backgroundcolor": "rgb(17,17,17)",
            "gridcolor": "#506784",
            "gridwidth": 2,
            "linecolor": "#506784",
            "showbackground": true,
            "ticks": "",
            "zerolinecolor": "#C8D4E3"
           }
          },
          "shapedefaults": {
           "line": {
            "color": "#f2f5fa"
           }
          },
          "sliderdefaults": {
           "bgcolor": "#C8D4E3",
           "bordercolor": "rgb(17,17,17)",
           "borderwidth": 1,
           "tickwidth": 0
          },
          "ternary": {
           "aaxis": {
            "gridcolor": "#506784",
            "linecolor": "#506784",
            "ticks": ""
           },
           "baxis": {
            "gridcolor": "#506784",
            "linecolor": "#506784",
            "ticks": ""
           },
           "bgcolor": "rgb(17,17,17)",
           "caxis": {
            "gridcolor": "#506784",
            "linecolor": "#506784",
            "ticks": ""
           }
          },
          "title": {
           "x": 0.05
          },
          "updatemenudefaults": {
           "bgcolor": "#506784",
           "borderwidth": 0
          },
          "xaxis": {
           "automargin": true,
           "gridcolor": "#283442",
           "linecolor": "#506784",
           "ticks": "",
           "title": {
            "standoff": 15
           },
           "zerolinecolor": "#283442",
           "zerolinewidth": 2
          },
          "yaxis": {
           "automargin": true,
           "gridcolor": "#283442",
           "linecolor": "#506784",
           "ticks": "",
           "title": {
            "standoff": 15
           },
           "zerolinecolor": "#283442",
           "zerolinewidth": 2
          }
         }
        },
        "title": {
         "text": "Views - Last 28D"
        },
        "xaxis": {
         "showgrid": false,
         "zeroline": false
        },
        "yaxis": {
         "gridcolor": "rgba(128, 128, 128, 0.2)",
         "showgrid": true,
         "zeroline": false
        }
       }
      }
     },
     "metadata": {},
     "output_type": "display_data"
    },
    {
     "data": {
      "application/vnd.plotly.v1+json": {
       "config": {
        "plotlyServerURL": "https://plot.ly"
       },
       "data": [
        {
         "colorscale": [
          [
           0,
           "#440154"
          ],
          [
           0.1111111111111111,
           "#482878"
          ],
          [
           0.2222222222222222,
           "#3e4989"
          ],
          [
           0.3333333333333333,
           "#31688e"
          ],
          [
           0.4444444444444444,
           "#26828e"
          ],
          [
           0.5555555555555556,
           "#1f9e89"
          ],
          [
           0.6666666666666666,
           "#35b779"
          ],
          [
           0.7777777777777778,
           "#6ece58"
          ],
          [
           0.8888888888888888,
           "#b5de2b"
          ],
          [
           1,
           "#fde725"
          ]
         ],
         "type": "heatmap",
         "x": [
          "00:00",
          "01:00",
          "02:00",
          "03:00",
          "05:00",
          "07:00",
          "08:00",
          "09:00",
          "10:00",
          "11:00",
          "12:00",
          "13:00",
          "14:00",
          "15:00",
          "17:00",
          "19:00",
          "23:00"
         ],
         "y": [
          "Monday",
          "Tuesday",
          "Wednesday",
          "Thursday",
          "Friday",
          "Saturday",
          "Sunday"
         ],
         "z": [
          [
           0,
           0,
           1,
           0,
           0,
           0,
           0,
           0,
           0,
           0,
           0,
           1,
           1,
           1,
           0,
           1,
           0
          ],
          [
           0,
           0,
           1,
           0,
           0,
           0,
           0,
           0,
           0,
           3,
           0,
           0,
           0,
           1,
           0,
           0,
           0
          ],
          [
           0,
           0,
           0,
           0,
           1,
           1,
           0,
           0,
           0,
           2,
           0,
           1,
           0,
           0,
           0,
           0,
           0
          ],
          [
           0,
           0,
           0,
           0,
           0,
           0,
           1,
           0,
           0,
           1,
           0,
           1,
           0,
           0,
           0,
           0,
           1
          ],
          [
           1,
           0,
           0,
           0,
           0,
           0,
           0,
           4,
           7,
           9,
           7,
           0,
           4,
           1,
           1,
           0,
           0
          ],
          [
           0,
           0,
           0,
           1,
           0,
           0,
           1,
           2,
           1,
           1,
           0,
           0,
           2,
           1,
           1,
           0,
           0
          ],
          [
           0,
           1,
           0,
           0,
           0,
           0,
           1,
           3,
           0,
           0,
           0,
           0,
           0,
           0,
           0,
           1,
           0
          ]
         ]
        }
       ],
       "layout": {
        "template": {
         "data": {
          "bar": [
           {
            "error_x": {
             "color": "#f2f5fa"
            },
            "error_y": {
             "color": "#f2f5fa"
            },
            "marker": {
             "line": {
              "color": "rgb(17,17,17)",
              "width": 0.5
             },
             "pattern": {
              "fillmode": "overlay",
              "size": 10,
              "solidity": 0.2
             }
            },
            "type": "bar"
           }
          ],
          "barpolar": [
           {
            "marker": {
             "line": {
              "color": "rgb(17,17,17)",
              "width": 0.5
             },
             "pattern": {
              "fillmode": "overlay",
              "size": 10,
              "solidity": 0.2
             }
            },
            "type": "barpolar"
           }
          ],
          "carpet": [
           {
            "aaxis": {
             "endlinecolor": "#A2B1C6",
             "gridcolor": "#506784",
             "linecolor": "#506784",
             "minorgridcolor": "#506784",
             "startlinecolor": "#A2B1C6"
            },
            "baxis": {
             "endlinecolor": "#A2B1C6",
             "gridcolor": "#506784",
             "linecolor": "#506784",
             "minorgridcolor": "#506784",
             "startlinecolor": "#A2B1C6"
            },
            "type": "carpet"
           }
          ],
          "choropleth": [
           {
            "colorbar": {
             "outlinewidth": 0,
             "ticks": ""
            },
            "type": "choropleth"
           }
          ],
          "contour": [
           {
            "colorbar": {
             "outlinewidth": 0,
             "ticks": ""
            },
            "colorscale": [
             [
              0,
              "#0d0887"
             ],
             [
              0.1111111111111111,
              "#46039f"
             ],
             [
              0.2222222222222222,
              "#7201a8"
             ],
             [
              0.3333333333333333,
              "#9c179e"
             ],
             [
              0.4444444444444444,
              "#bd3786"
             ],
             [
              0.5555555555555556,
              "#d8576b"
             ],
             [
              0.6666666666666666,
              "#ed7953"
             ],
             [
              0.7777777777777778,
              "#fb9f3a"
             ],
             [
              0.8888888888888888,
              "#fdca26"
             ],
             [
              1,
              "#f0f921"
             ]
            ],
            "type": "contour"
           }
          ],
          "contourcarpet": [
           {
            "colorbar": {
             "outlinewidth": 0,
             "ticks": ""
            },
            "type": "contourcarpet"
           }
          ],
          "heatmap": [
           {
            "colorbar": {
             "outlinewidth": 0,
             "ticks": ""
            },
            "colorscale": [
             [
              0,
              "#0d0887"
             ],
             [
              0.1111111111111111,
              "#46039f"
             ],
             [
              0.2222222222222222,
              "#7201a8"
             ],
             [
              0.3333333333333333,
              "#9c179e"
             ],
             [
              0.4444444444444444,
              "#bd3786"
             ],
             [
              0.5555555555555556,
              "#d8576b"
             ],
             [
              0.6666666666666666,
              "#ed7953"
             ],
             [
              0.7777777777777778,
              "#fb9f3a"
             ],
             [
              0.8888888888888888,
              "#fdca26"
             ],
             [
              1,
              "#f0f921"
             ]
            ],
            "type": "heatmap"
           }
          ],
          "heatmapgl": [
           {
            "colorbar": {
             "outlinewidth": 0,
             "ticks": ""
            },
            "colorscale": [
             [
              0,
              "#0d0887"
             ],
             [
              0.1111111111111111,
              "#46039f"
             ],
             [
              0.2222222222222222,
              "#7201a8"
             ],
             [
              0.3333333333333333,
              "#9c179e"
             ],
             [
              0.4444444444444444,
              "#bd3786"
             ],
             [
              0.5555555555555556,
              "#d8576b"
             ],
             [
              0.6666666666666666,
              "#ed7953"
             ],
             [
              0.7777777777777778,
              "#fb9f3a"
             ],
             [
              0.8888888888888888,
              "#fdca26"
             ],
             [
              1,
              "#f0f921"
             ]
            ],
            "type": "heatmapgl"
           }
          ],
          "histogram": [
           {
            "marker": {
             "pattern": {
              "fillmode": "overlay",
              "size": 10,
              "solidity": 0.2
             }
            },
            "type": "histogram"
           }
          ],
          "histogram2d": [
           {
            "colorbar": {
             "outlinewidth": 0,
             "ticks": ""
            },
            "colorscale": [
             [
              0,
              "#0d0887"
             ],
             [
              0.1111111111111111,
              "#46039f"
             ],
             [
              0.2222222222222222,
              "#7201a8"
             ],
             [
              0.3333333333333333,
              "#9c179e"
             ],
             [
              0.4444444444444444,
              "#bd3786"
             ],
             [
              0.5555555555555556,
              "#d8576b"
             ],
             [
              0.6666666666666666,
              "#ed7953"
             ],
             [
              0.7777777777777778,
              "#fb9f3a"
             ],
             [
              0.8888888888888888,
              "#fdca26"
             ],
             [
              1,
              "#f0f921"
             ]
            ],
            "type": "histogram2d"
           }
          ],
          "histogram2dcontour": [
           {
            "colorbar": {
             "outlinewidth": 0,
             "ticks": ""
            },
            "colorscale": [
             [
              0,
              "#0d0887"
             ],
             [
              0.1111111111111111,
              "#46039f"
             ],
             [
              0.2222222222222222,
              "#7201a8"
             ],
             [
              0.3333333333333333,
              "#9c179e"
             ],
             [
              0.4444444444444444,
              "#bd3786"
             ],
             [
              0.5555555555555556,
              "#d8576b"
             ],
             [
              0.6666666666666666,
              "#ed7953"
             ],
             [
              0.7777777777777778,
              "#fb9f3a"
             ],
             [
              0.8888888888888888,
              "#fdca26"
             ],
             [
              1,
              "#f0f921"
             ]
            ],
            "type": "histogram2dcontour"
           }
          ],
          "mesh3d": [
           {
            "colorbar": {
             "outlinewidth": 0,
             "ticks": ""
            },
            "type": "mesh3d"
           }
          ],
          "parcoords": [
           {
            "line": {
             "colorbar": {
              "outlinewidth": 0,
              "ticks": ""
             }
            },
            "type": "parcoords"
           }
          ],
          "pie": [
           {
            "automargin": true,
            "type": "pie"
           }
          ],
          "scatter": [
           {
            "marker": {
             "line": {
              "color": "#283442"
             }
            },
            "type": "scatter"
           }
          ],
          "scatter3d": [
           {
            "line": {
             "colorbar": {
              "outlinewidth": 0,
              "ticks": ""
             }
            },
            "marker": {
             "colorbar": {
              "outlinewidth": 0,
              "ticks": ""
             }
            },
            "type": "scatter3d"
           }
          ],
          "scattercarpet": [
           {
            "marker": {
             "colorbar": {
              "outlinewidth": 0,
              "ticks": ""
             }
            },
            "type": "scattercarpet"
           }
          ],
          "scattergeo": [
           {
            "marker": {
             "colorbar": {
              "outlinewidth": 0,
              "ticks": ""
             }
            },
            "type": "scattergeo"
           }
          ],
          "scattergl": [
           {
            "marker": {
             "line": {
              "color": "#283442"
             }
            },
            "type": "scattergl"
           }
          ],
          "scattermapbox": [
           {
            "marker": {
             "colorbar": {
              "outlinewidth": 0,
              "ticks": ""
             }
            },
            "type": "scattermapbox"
           }
          ],
          "scatterpolar": [
           {
            "marker": {
             "colorbar": {
              "outlinewidth": 0,
              "ticks": ""
             }
            },
            "type": "scatterpolar"
           }
          ],
          "scatterpolargl": [
           {
            "marker": {
             "colorbar": {
              "outlinewidth": 0,
              "ticks": ""
             }
            },
            "type": "scatterpolargl"
           }
          ],
          "scatterternary": [
           {
            "marker": {
             "colorbar": {
              "outlinewidth": 0,
              "ticks": ""
             }
            },
            "type": "scatterternary"
           }
          ],
          "surface": [
           {
            "colorbar": {
             "outlinewidth": 0,
             "ticks": ""
            },
            "colorscale": [
             [
              0,
              "#0d0887"
             ],
             [
              0.1111111111111111,
              "#46039f"
             ],
             [
              0.2222222222222222,
              "#7201a8"
             ],
             [
              0.3333333333333333,
              "#9c179e"
             ],
             [
              0.4444444444444444,
              "#bd3786"
             ],
             [
              0.5555555555555556,
              "#d8576b"
             ],
             [
              0.6666666666666666,
              "#ed7953"
             ],
             [
              0.7777777777777778,
              "#fb9f3a"
             ],
             [
              0.8888888888888888,
              "#fdca26"
             ],
             [
              1,
              "#f0f921"
             ]
            ],
            "type": "surface"
           }
          ],
          "table": [
           {
            "cells": {
             "fill": {
              "color": "#506784"
             },
             "line": {
              "color": "rgb(17,17,17)"
             }
            },
            "header": {
             "fill": {
              "color": "#2a3f5f"
             },
             "line": {
              "color": "rgb(17,17,17)"
             }
            },
            "type": "table"
           }
          ]
         },
         "layout": {
          "annotationdefaults": {
           "arrowcolor": "#f2f5fa",
           "arrowhead": 0,
           "arrowwidth": 1
          },
          "autotypenumbers": "strict",
          "coloraxis": {
           "colorbar": {
            "outlinewidth": 0,
            "ticks": ""
           }
          },
          "colorscale": {
           "diverging": [
            [
             0,
             "#8e0152"
            ],
            [
             0.1,
             "#c51b7d"
            ],
            [
             0.2,
             "#de77ae"
            ],
            [
             0.3,
             "#f1b6da"
            ],
            [
             0.4,
             "#fde0ef"
            ],
            [
             0.5,
             "#f7f7f7"
            ],
            [
             0.6,
             "#e6f5d0"
            ],
            [
             0.7,
             "#b8e186"
            ],
            [
             0.8,
             "#7fbc41"
            ],
            [
             0.9,
             "#4d9221"
            ],
            [
             1,
             "#276419"
            ]
           ],
           "sequential": [
            [
             0,
             "#0d0887"
            ],
            [
             0.1111111111111111,
             "#46039f"
            ],
            [
             0.2222222222222222,
             "#7201a8"
            ],
            [
             0.3333333333333333,
             "#9c179e"
            ],
            [
             0.4444444444444444,
             "#bd3786"
            ],
            [
             0.5555555555555556,
             "#d8576b"
            ],
            [
             0.6666666666666666,
             "#ed7953"
            ],
            [
             0.7777777777777778,
             "#fb9f3a"
            ],
            [
             0.8888888888888888,
             "#fdca26"
            ],
            [
             1,
             "#f0f921"
            ]
           ],
           "sequentialminus": [
            [
             0,
             "#0d0887"
            ],
            [
             0.1111111111111111,
             "#46039f"
            ],
            [
             0.2222222222222222,
             "#7201a8"
            ],
            [
             0.3333333333333333,
             "#9c179e"
            ],
            [
             0.4444444444444444,
             "#bd3786"
            ],
            [
             0.5555555555555556,
             "#d8576b"
            ],
            [
             0.6666666666666666,
             "#ed7953"
            ],
            [
             0.7777777777777778,
             "#fb9f3a"
            ],
            [
             0.8888888888888888,
             "#fdca26"
            ],
            [
             1,
             "#f0f921"
            ]
           ]
          },
          "colorway": [
           "#636efa",
           "#EF553B",
           "#00cc96",
           "#ab63fa",
           "#FFA15A",
           "#19d3f3",
           "#FF6692",
           "#B6E880",
           "#FF97FF",
           "#FECB52"
          ],
          "font": {
           "color": "#f2f5fa"
          },
          "geo": {
           "bgcolor": "rgb(17,17,17)",
           "lakecolor": "rgb(17,17,17)",
           "landcolor": "rgb(17,17,17)",
           "showlakes": true,
           "showland": true,
           "subunitcolor": "#506784"
          },
          "hoverlabel": {
           "align": "left"
          },
          "hovermode": "closest",
          "mapbox": {
           "style": "dark"
          },
          "paper_bgcolor": "rgb(17,17,17)",
          "plot_bgcolor": "rgb(17,17,17)",
          "polar": {
           "angularaxis": {
            "gridcolor": "#506784",
            "linecolor": "#506784",
            "ticks": ""
           },
           "bgcolor": "rgb(17,17,17)",
           "radialaxis": {
            "gridcolor": "#506784",
            "linecolor": "#506784",
            "ticks": ""
           }
          },
          "scene": {
           "xaxis": {
            "backgroundcolor": "rgb(17,17,17)",
            "gridcolor": "#506784",
            "gridwidth": 2,
            "linecolor": "#506784",
            "showbackground": true,
            "ticks": "",
            "zerolinecolor": "#C8D4E3"
           },
           "yaxis": {
            "backgroundcolor": "rgb(17,17,17)",
            "gridcolor": "#506784",
            "gridwidth": 2,
            "linecolor": "#506784",
            "showbackground": true,
            "ticks": "",
            "zerolinecolor": "#C8D4E3"
           },
           "zaxis": {
            "backgroundcolor": "rgb(17,17,17)",
            "gridcolor": "#506784",
            "gridwidth": 2,
            "linecolor": "#506784",
            "showbackground": true,
            "ticks": "",
            "zerolinecolor": "#C8D4E3"
           }
          },
          "shapedefaults": {
           "line": {
            "color": "#f2f5fa"
           }
          },
          "sliderdefaults": {
           "bgcolor": "#C8D4E3",
           "bordercolor": "rgb(17,17,17)",
           "borderwidth": 1,
           "tickwidth": 0
          },
          "ternary": {
           "aaxis": {
            "gridcolor": "#506784",
            "linecolor": "#506784",
            "ticks": ""
           },
           "baxis": {
            "gridcolor": "#506784",
            "linecolor": "#506784",
            "ticks": ""
           },
           "bgcolor": "rgb(17,17,17)",
           "caxis": {
            "gridcolor": "#506784",
            "linecolor": "#506784",
            "ticks": ""
           }
          },
          "title": {
           "x": 0.05
          },
          "updatemenudefaults": {
           "bgcolor": "#506784",
           "borderwidth": 0
          },
          "xaxis": {
           "automargin": true,
           "gridcolor": "#283442",
           "linecolor": "#506784",
           "ticks": "",
           "title": {
            "standoff": 15
           },
           "zerolinecolor": "#283442",
           "zerolinewidth": 2
          },
          "yaxis": {
           "automargin": true,
           "gridcolor": "#283442",
           "linecolor": "#506784",
           "ticks": "",
           "title": {
            "standoff": 15
           },
           "zerolinecolor": "#283442",
           "zerolinewidth": 2
          }
         }
        },
        "title": {
         "text": "Upload Schedule Heatmap"
        },
        "xaxis": {
         "title": {
          "text": "Hour of Day"
         }
        },
        "yaxis": {
         "title": {
          "text": "Day of Week"
         }
        }
       }
      }
     },
     "metadata": {},
     "output_type": "display_data"
    },
    {
     "data": {
      "application/vnd.plotly.v1+json": {
       "config": {
        "plotlyServerURL": "https://plot.ly"
       },
       "data": [
        {
         "hovertemplate": "<b>%{text}</b><br>Duration: %{x:.1f} min<br>Engagement: %{y:.1f}%<br>Views: %{marker.size:,.0f}<extra></extra>",
         "marker": {
          "color": [
           118913,
           23883,
           98607,
           93757,
           114240,
           109852,
           115009,
           118171,
           106880,
           154509,
           22490,
           111623,
           51624,
           118714,
           135499,
           119411,
           122383,
           188275,
           118844,
           172120,
           105912,
           141622,
           148636,
           152629,
           142334,
           176598,
           108237,
           198295,
           167857,
           113669,
           125560,
           186949,
           161002,
           178375,
           170433,
           133368,
           94055,
           152507,
           153896,
           137484,
           102166,
           150594,
           154749,
           102752,
           116622,
           129256,
           204185,
           201964,
           106316,
           129556,
           143731,
           166189,
           166863,
           44913,
           108382,
           100913,
           83202,
           220139,
           71088,
           101290,
           125260,
           45905,
           111793,
           111886,
           91312,
           144579,
           46245,
           31724,
           53141
          ],
          "colorbar": {
           "title": {
            "text": "Likes"
           }
          },
          "colorscale": [
           [
            0,
            "#440154"
           ],
           [
            0.1111111111111111,
            "#482878"
           ],
           [
            0.2222222222222222,
            "#3e4989"
           ],
           [
            0.3333333333333333,
            "#31688e"
           ],
           [
            0.4444444444444444,
            "#26828e"
           ],
           [
            0.5555555555555556,
            "#1f9e89"
           ],
           [
            0.6666666666666666,
            "#35b779"
           ],
           [
            0.7777777777777778,
            "#6ece58"
           ],
           [
            0.8888888888888888,
            "#b5de2b"
           ],
           [
            1,
            "#fde725"
           ]
          ],
          "showscale": true,
          "size": [
           15.253301420763215,
           2.3045673561359634,
           17.785456113232527,
           17.745143317246587,
           18.858844741018103,
           20.709749250264878,
           20.478378512366504,
           24.486174928832913,
           18.70914329207507,
           37.89151874947911,
           2.767776960726757,
           29.773444081862067,
           5.882951532093452,
           26.808684663993265,
           24.88819779776867,
           27.123152099956705,
           21.27666089410144,
           37.276604718646155,
           26.291755361724654,
           41.95031050752682,
           16.64252349968175,
           22.41344643938937,
           32.708657666008065,
           31.723645615145024,
           22.213102664021203,
           35.15443875885397,
           15.626162168102443,
           35.561772203617295,
           36.149043612873754,
           7.999361809991587,
           20.955432450473126,
           31.56749012823813,
           34.535948531004166,
           43.203552683137744,
           41.35541090120011,
           29.085486610672323,
           9.494864473644425,
           32.10969071114289,
           31.83493748024842,
           27.809766578704497,
           17.371822115355837,
           23.227269162238244,
           30.58952303201341,
           18.707516352659688,
           21.447926964540855,
           21.653189929367805,
           50,
           49.47215792486027,
           20.404490905331926,
           30.548013054193508,
           31.469720278464496,
           29.899708394132517,
           32.4008284498291,
           4.61118373502621,
           21.210892635658738,
           19.313121527309328,
           15.420906877518014,
           49.816485838490046,
           13.723065135440404,
           17.730132498866897,
           24.10716711323084,
           5.979040722754022,
           23.572494962243496,
           25.884744235147387,
           12.800437002066367,
           27.507094453502607,
           5.5650767324487385,
           5.061270384898564,
           8.303469018545728
          ]
         },
         "mode": "markers",
         "text": [
          "Jahaz ka safar",
          "Jahaz ka Safar (Teaser Trailer)",
          "Doctors aur Patients",
          "Choti Eid 3",
          "Rozay aur Hum 4",
          "Bhai Behen ki Batein",
          "Gym Ka Junoon",
          "Parosi",
          "Toxic Culture",
          "Baarish",
          "'Gratitude' (Outro part of Shopping)",
          "Shopping",
          "My new tablet aur kuch baat cheet",
          "Choti Eid 2",
          "Rozay aur Hum 3",
          "Ghar Ki Shifting",
          "Karaye ka Ghar",
          "Sardi Ke Din 2",
          "Mehmaan aur Mezbaan",
          "Desi Shadi",
          "Berozgari ke Din",
          "Toxic Rishtedaar",
          "Garmi Dayz 2",
          "Bakra Eid Part 2",
          "Dost",
          "Choti Eid",
          "Job Life ke Lafray",
          "Nayee ki Dukaan",
          "Exams ka Result",
          "Burn Out",
          "Cricket Fans ka Junoon",
          "Baba",
          "Azaadi Ka Jashan",
          "Bakra Eid",
          "Exam ka Din",
          "Kaam Wali Aunty",
          "My Story (QNA)",
          "Rozay aur Hum Part 2",
          "Online Classes",
          "Exams Ki Tayyari",
          "Video Games",
          "Mama",
          "Soda Salaf ke Lafray",
          "University ki Yadein",
          "Cycle Ki Yadein",
          "College Ki Yadein",
          "Garmi ke Din",
          "Rozay aur Hum",
          "Isolation ke Din",
          "Bachpan Ki Yadein Part 2",
          "Bhai, Behan Aur Bachpan",
          "Bachpan Ki Yadein Part 1",
          "Sardi Ke Din",
          "100K Apni Type kay log, PD1161 Review aur Announcement!",
          "University Ka Hostel",
          "Chai ka Nasha",
          "Office Ke Lafray",
          "Train ka Safar",
          "Bachpan aur Wrestling",
          "University ka Pahla Sabaq",
          "Biker Boiz",
          "Passion",
          "Bachpan aur Gali ki Cricket",
          "Ao, Jinon ki batein karein!",
          "Darrna Chordo!",
          "Pindi Ki Local ka Suffer",
          "Ducky Bhai Vs Sham Idrees, who really Lost?",
          "Ducky Bhai Vs Sham Idrees Avengers Endgame Animated Parody",
          "Sharum ki Sketchbook | Channel Introduction"
         ],
         "type": "scatter",
         "x": [
          17.166666666666668,
          0.8833333333333333,
          13.316666666666666,
          8.466666666666667,
          8.366666666666667,
          14.333333333333334,
          12.216666666666667,
          12.066666666666666,
          10.183333333333334,
          11.816666666666666,
          1.9666666666666666,
          13.1,
          6.3,
          7.883333333333334,
          9.833333333333334,
          8.983333333333333,
          9.983333333333333,
          11.183333333333334,
          10.733333333333333,
          9.516666666666667,
          12.366666666666667,
          11.15,
          8.05,
          11.416666666666666,
          10.5,
          11.766666666666667,
          11.783333333333333,
          9.816666666666666,
          9.833333333333334,
          5.583333333333333,
          10.45,
          14.683333333333334,
          10.233333333333333,
          11.183333333333334,
          12.35,
          9.2,
          16.883333333333333,
          11.333333333333334,
          12.2,
          11.7,
          8.166666666666666,
          9.466666666666667,
          8.866666666666667,
          10.4,
          10.616666666666667,
          11.883333333333333,
          10.333333333333334,
          8.883333333333333,
          8.383333333333333,
          10.25,
          7.85,
          9.15,
          9.333333333333334,
          8.35,
          7.583333333333333,
          5.95,
          8.8,
          8.033333333333333,
          4.516666666666667,
          6.9,
          6.166666666666667,
          4.716666666666667,
          5.966666666666667,
          4.7,
          4.683333333333334,
          4.433333333333334,
          2.3333333333333335,
          1.2166666666666666,
          1.6166666666666667
         ],
         "y": [
          6.424290235897921,
          8.67035854265249,
          4.55894840763012,
          4.263851690460446,
          4.923454304329621,
          4.289438432078796,
          4.508112556474606,
          3.8769284193793454,
          4.597167906661186,
          3.2847033909718957,
          6.581304171819285,
          3.0422261337916554,
          7.133725723469313,
          3.536221711471537,
          4.387832315063264,
          3.5394178778884706,
          4.63307720857558,
          4.04602000343396,
          3.605164545907237,
          3.328273310041859,
          5.0788035345964095,
          5.129447405967321,
          3.6782739167107565,
          3.86551588835599,
          5.176436283836143,
          4.005645258997541,
          5.553479230501384,
          4.516269511317972,
          3.763195694328213,
          11.923846253471673,
          4.826268329635148,
          4.872401015793617,
          3.8114616947266393,
          3.3082857418437235,
          3.344678344710819,
          3.6959230229756406,
          8.398545793129536,
          3.864189215996038,
          3.940183458991718,
          4.045720214803327,
          5.060934692728965,
          5.415057490898362,
          4.132665361933106,
          4.5606887142070685,
          4.515896341555049,
          4.958389759354906,
          3.2994484828866697,
          3.2933737892692494,
          4.249240642869716,
          3.4454440170929432,
          3.6700860878670785,
          4.506851959081259,
          4.268261920884846,
          7.899278540104683,
          4.055093025923086,
          4.258615537690296,
          4.358384960563581,
          3.596025996289237,
          4.32916265424746,
          4.579233473124987,
          4.18331975619081,
          6.240878957265067,
          3.82613445985497,
          3.5051044519644297,
          5.7530273253659825,
          4.197788156257499,
          6.591621469931589,
          5.119375782773376,
          5.197727894476115
         ]
        }
       ],
       "layout": {
        "template": {
         "data": {
          "bar": [
           {
            "error_x": {
             "color": "#f2f5fa"
            },
            "error_y": {
             "color": "#f2f5fa"
            },
            "marker": {
             "line": {
              "color": "rgb(17,17,17)",
              "width": 0.5
             },
             "pattern": {
              "fillmode": "overlay",
              "size": 10,
              "solidity": 0.2
             }
            },
            "type": "bar"
           }
          ],
          "barpolar": [
           {
            "marker": {
             "line": {
              "color": "rgb(17,17,17)",
              "width": 0.5
             },
             "pattern": {
              "fillmode": "overlay",
              "size": 10,
              "solidity": 0.2
             }
            },
            "type": "barpolar"
           }
          ],
          "carpet": [
           {
            "aaxis": {
             "endlinecolor": "#A2B1C6",
             "gridcolor": "#506784",
             "linecolor": "#506784",
             "minorgridcolor": "#506784",
             "startlinecolor": "#A2B1C6"
            },
            "baxis": {
             "endlinecolor": "#A2B1C6",
             "gridcolor": "#506784",
             "linecolor": "#506784",
             "minorgridcolor": "#506784",
             "startlinecolor": "#A2B1C6"
            },
            "type": "carpet"
           }
          ],
          "choropleth": [
           {
            "colorbar": {
             "outlinewidth": 0,
             "ticks": ""
            },
            "type": "choropleth"
           }
          ],
          "contour": [
           {
            "colorbar": {
             "outlinewidth": 0,
             "ticks": ""
            },
            "colorscale": [
             [
              0,
              "#0d0887"
             ],
             [
              0.1111111111111111,
              "#46039f"
             ],
             [
              0.2222222222222222,
              "#7201a8"
             ],
             [
              0.3333333333333333,
              "#9c179e"
             ],
             [
              0.4444444444444444,
              "#bd3786"
             ],
             [
              0.5555555555555556,
              "#d8576b"
             ],
             [
              0.6666666666666666,
              "#ed7953"
             ],
             [
              0.7777777777777778,
              "#fb9f3a"
             ],
             [
              0.8888888888888888,
              "#fdca26"
             ],
             [
              1,
              "#f0f921"
             ]
            ],
            "type": "contour"
           }
          ],
          "contourcarpet": [
           {
            "colorbar": {
             "outlinewidth": 0,
             "ticks": ""
            },
            "type": "contourcarpet"
           }
          ],
          "heatmap": [
           {
            "colorbar": {
             "outlinewidth": 0,
             "ticks": ""
            },
            "colorscale": [
             [
              0,
              "#0d0887"
             ],
             [
              0.1111111111111111,
              "#46039f"
             ],
             [
              0.2222222222222222,
              "#7201a8"
             ],
             [
              0.3333333333333333,
              "#9c179e"
             ],
             [
              0.4444444444444444,
              "#bd3786"
             ],
             [
              0.5555555555555556,
              "#d8576b"
             ],
             [
              0.6666666666666666,
              "#ed7953"
             ],
             [
              0.7777777777777778,
              "#fb9f3a"
             ],
             [
              0.8888888888888888,
              "#fdca26"
             ],
             [
              1,
              "#f0f921"
             ]
            ],
            "type": "heatmap"
           }
          ],
          "heatmapgl": [
           {
            "colorbar": {
             "outlinewidth": 0,
             "ticks": ""
            },
            "colorscale": [
             [
              0,
              "#0d0887"
             ],
             [
              0.1111111111111111,
              "#46039f"
             ],
             [
              0.2222222222222222,
              "#7201a8"
             ],
             [
              0.3333333333333333,
              "#9c179e"
             ],
             [
              0.4444444444444444,
              "#bd3786"
             ],
             [
              0.5555555555555556,
              "#d8576b"
             ],
             [
              0.6666666666666666,
              "#ed7953"
             ],
             [
              0.7777777777777778,
              "#fb9f3a"
             ],
             [
              0.8888888888888888,
              "#fdca26"
             ],
             [
              1,
              "#f0f921"
             ]
            ],
            "type": "heatmapgl"
           }
          ],
          "histogram": [
           {
            "marker": {
             "pattern": {
              "fillmode": "overlay",
              "size": 10,
              "solidity": 0.2
             }
            },
            "type": "histogram"
           }
          ],
          "histogram2d": [
           {
            "colorbar": {
             "outlinewidth": 0,
             "ticks": ""
            },
            "colorscale": [
             [
              0,
              "#0d0887"
             ],
             [
              0.1111111111111111,
              "#46039f"
             ],
             [
              0.2222222222222222,
              "#7201a8"
             ],
             [
              0.3333333333333333,
              "#9c179e"
             ],
             [
              0.4444444444444444,
              "#bd3786"
             ],
             [
              0.5555555555555556,
              "#d8576b"
             ],
             [
              0.6666666666666666,
              "#ed7953"
             ],
             [
              0.7777777777777778,
              "#fb9f3a"
             ],
             [
              0.8888888888888888,
              "#fdca26"
             ],
             [
              1,
              "#f0f921"
             ]
            ],
            "type": "histogram2d"
           }
          ],
          "histogram2dcontour": [
           {
            "colorbar": {
             "outlinewidth": 0,
             "ticks": ""
            },
            "colorscale": [
             [
              0,
              "#0d0887"
             ],
             [
              0.1111111111111111,
              "#46039f"
             ],
             [
              0.2222222222222222,
              "#7201a8"
             ],
             [
              0.3333333333333333,
              "#9c179e"
             ],
             [
              0.4444444444444444,
              "#bd3786"
             ],
             [
              0.5555555555555556,
              "#d8576b"
             ],
             [
              0.6666666666666666,
              "#ed7953"
             ],
             [
              0.7777777777777778,
              "#fb9f3a"
             ],
             [
              0.8888888888888888,
              "#fdca26"
             ],
             [
              1,
              "#f0f921"
             ]
            ],
            "type": "histogram2dcontour"
           }
          ],
          "mesh3d": [
           {
            "colorbar": {
             "outlinewidth": 0,
             "ticks": ""
            },
            "type": "mesh3d"
           }
          ],
          "parcoords": [
           {
            "line": {
             "colorbar": {
              "outlinewidth": 0,
              "ticks": ""
             }
            },
            "type": "parcoords"
           }
          ],
          "pie": [
           {
            "automargin": true,
            "type": "pie"
           }
          ],
          "scatter": [
           {
            "marker": {
             "line": {
              "color": "#283442"
             }
            },
            "type": "scatter"
           }
          ],
          "scatter3d": [
           {
            "line": {
             "colorbar": {
              "outlinewidth": 0,
              "ticks": ""
             }
            },
            "marker": {
             "colorbar": {
              "outlinewidth": 0,
              "ticks": ""
             }
            },
            "type": "scatter3d"
           }
          ],
          "scattercarpet": [
           {
            "marker": {
             "colorbar": {
              "outlinewidth": 0,
              "ticks": ""
             }
            },
            "type": "scattercarpet"
           }
          ],
          "scattergeo": [
           {
            "marker": {
             "colorbar": {
              "outlinewidth": 0,
              "ticks": ""
             }
            },
            "type": "scattergeo"
           }
          ],
          "scattergl": [
           {
            "marker": {
             "line": {
              "color": "#283442"
             }
            },
            "type": "scattergl"
           }
          ],
          "scattermapbox": [
           {
            "marker": {
             "colorbar": {
              "outlinewidth": 0,
              "ticks": ""
             }
            },
            "type": "scattermapbox"
           }
          ],
          "scatterpolar": [
           {
            "marker": {
             "colorbar": {
              "outlinewidth": 0,
              "ticks": ""
             }
            },
            "type": "scatterpolar"
           }
          ],
          "scatterpolargl": [
           {
            "marker": {
             "colorbar": {
              "outlinewidth": 0,
              "ticks": ""
             }
            },
            "type": "scatterpolargl"
           }
          ],
          "scatterternary": [
           {
            "marker": {
             "colorbar": {
              "outlinewidth": 0,
              "ticks": ""
             }
            },
            "type": "scatterternary"
           }
          ],
          "surface": [
           {
            "colorbar": {
             "outlinewidth": 0,
             "ticks": ""
            },
            "colorscale": [
             [
              0,
              "#0d0887"
             ],
             [
              0.1111111111111111,
              "#46039f"
             ],
             [
              0.2222222222222222,
              "#7201a8"
             ],
             [
              0.3333333333333333,
              "#9c179e"
             ],
             [
              0.4444444444444444,
              "#bd3786"
             ],
             [
              0.5555555555555556,
              "#d8576b"
             ],
             [
              0.6666666666666666,
              "#ed7953"
             ],
             [
              0.7777777777777778,
              "#fb9f3a"
             ],
             [
              0.8888888888888888,
              "#fdca26"
             ],
             [
              1,
              "#f0f921"
             ]
            ],
            "type": "surface"
           }
          ],
          "table": [
           {
            "cells": {
             "fill": {
              "color": "#506784"
             },
             "line": {
              "color": "rgb(17,17,17)"
             }
            },
            "header": {
             "fill": {
              "color": "#2a3f5f"
             },
             "line": {
              "color": "rgb(17,17,17)"
             }
            },
            "type": "table"
           }
          ]
         },
         "layout": {
          "annotationdefaults": {
           "arrowcolor": "#f2f5fa",
           "arrowhead": 0,
           "arrowwidth": 1
          },
          "autotypenumbers": "strict",
          "coloraxis": {
           "colorbar": {
            "outlinewidth": 0,
            "ticks": ""
           }
          },
          "colorscale": {
           "diverging": [
            [
             0,
             "#8e0152"
            ],
            [
             0.1,
             "#c51b7d"
            ],
            [
             0.2,
             "#de77ae"
            ],
            [
             0.3,
             "#f1b6da"
            ],
            [
             0.4,
             "#fde0ef"
            ],
            [
             0.5,
             "#f7f7f7"
            ],
            [
             0.6,
             "#e6f5d0"
            ],
            [
             0.7,
             "#b8e186"
            ],
            [
             0.8,
             "#7fbc41"
            ],
            [
             0.9,
             "#4d9221"
            ],
            [
             1,
             "#276419"
            ]
           ],
           "sequential": [
            [
             0,
             "#0d0887"
            ],
            [
             0.1111111111111111,
             "#46039f"
            ],
            [
             0.2222222222222222,
             "#7201a8"
            ],
            [
             0.3333333333333333,
             "#9c179e"
            ],
            [
             0.4444444444444444,
             "#bd3786"
            ],
            [
             0.5555555555555556,
             "#d8576b"
            ],
            [
             0.6666666666666666,
             "#ed7953"
            ],
            [
             0.7777777777777778,
             "#fb9f3a"
            ],
            [
             0.8888888888888888,
             "#fdca26"
            ],
            [
             1,
             "#f0f921"
            ]
           ],
           "sequentialminus": [
            [
             0,
             "#0d0887"
            ],
            [
             0.1111111111111111,
             "#46039f"
            ],
            [
             0.2222222222222222,
             "#7201a8"
            ],
            [
             0.3333333333333333,
             "#9c179e"
            ],
            [
             0.4444444444444444,
             "#bd3786"
            ],
            [
             0.5555555555555556,
             "#d8576b"
            ],
            [
             0.6666666666666666,
             "#ed7953"
            ],
            [
             0.7777777777777778,
             "#fb9f3a"
            ],
            [
             0.8888888888888888,
             "#fdca26"
            ],
            [
             1,
             "#f0f921"
            ]
           ]
          },
          "colorway": [
           "#636efa",
           "#EF553B",
           "#00cc96",
           "#ab63fa",
           "#FFA15A",
           "#19d3f3",
           "#FF6692",
           "#B6E880",
           "#FF97FF",
           "#FECB52"
          ],
          "font": {
           "color": "#f2f5fa"
          },
          "geo": {
           "bgcolor": "rgb(17,17,17)",
           "lakecolor": "rgb(17,17,17)",
           "landcolor": "rgb(17,17,17)",
           "showlakes": true,
           "showland": true,
           "subunitcolor": "#506784"
          },
          "hoverlabel": {
           "align": "left"
          },
          "hovermode": "closest",
          "mapbox": {
           "style": "dark"
          },
          "paper_bgcolor": "rgb(17,17,17)",
          "plot_bgcolor": "rgb(17,17,17)",
          "polar": {
           "angularaxis": {
            "gridcolor": "#506784",
            "linecolor": "#506784",
            "ticks": ""
           },
           "bgcolor": "rgb(17,17,17)",
           "radialaxis": {
            "gridcolor": "#506784",
            "linecolor": "#506784",
            "ticks": ""
           }
          },
          "scene": {
           "xaxis": {
            "backgroundcolor": "rgb(17,17,17)",
            "gridcolor": "#506784",
            "gridwidth": 2,
            "linecolor": "#506784",
            "showbackground": true,
            "ticks": "",
            "zerolinecolor": "#C8D4E3"
           },
           "yaxis": {
            "backgroundcolor": "rgb(17,17,17)",
            "gridcolor": "#506784",
            "gridwidth": 2,
            "linecolor": "#506784",
            "showbackground": true,
            "ticks": "",
            "zerolinecolor": "#C8D4E3"
           },
           "zaxis": {
            "backgroundcolor": "rgb(17,17,17)",
            "gridcolor": "#506784",
            "gridwidth": 2,
            "linecolor": "#506784",
            "showbackground": true,
            "ticks": "",
            "zerolinecolor": "#C8D4E3"
           }
          },
          "shapedefaults": {
           "line": {
            "color": "#f2f5fa"
           }
          },
          "sliderdefaults": {
           "bgcolor": "#C8D4E3",
           "bordercolor": "rgb(17,17,17)",
           "borderwidth": 1,
           "tickwidth": 0
          },
          "ternary": {
           "aaxis": {
            "gridcolor": "#506784",
            "linecolor": "#506784",
            "ticks": ""
           },
           "baxis": {
            "gridcolor": "#506784",
            "linecolor": "#506784",
            "ticks": ""
           },
           "bgcolor": "rgb(17,17,17)",
           "caxis": {
            "gridcolor": "#506784",
            "linecolor": "#506784",
            "ticks": ""
           }
          },
          "title": {
           "x": 0.05
          },
          "updatemenudefaults": {
           "bgcolor": "#506784",
           "borderwidth": 0
          },
          "xaxis": {
           "automargin": true,
           "gridcolor": "#283442",
           "linecolor": "#506784",
           "ticks": "",
           "title": {
            "standoff": 15
           },
           "zerolinecolor": "#283442",
           "zerolinewidth": 2
          },
          "yaxis": {
           "automargin": true,
           "gridcolor": "#283442",
           "linecolor": "#506784",
           "ticks": "",
           "title": {
            "standoff": 15
           },
           "zerolinecolor": "#283442",
           "zerolinewidth": 2
          }
         }
        },
        "title": {
         "text": "Video Engagement Analysis"
        },
        "xaxis": {
         "title": {
          "text": "Video Length (minutes)"
         }
        },
        "yaxis": {
         "title": {
          "text": "Engagement Rate (%)"
         }
        }
       }
      }
     },
     "metadata": {},
     "output_type": "display_data"
    },
    {
     "data": {
      "application/vnd.plotly.v1+json": {
       "config": {
        "plotlyServerURL": "https://plot.ly"
       },
       "data": [
        {
         "fill": "tozeroy",
         "fillcolor": "rgba(255, 0, 0, 0.1)",
         "hovertemplate": "%{y:,.0f}<br>%{x}<extra></extra>",
         "line": {
          "color": "red",
          "width": 2
         },
         "name": "Subscribers",
         "type": "scatter",
         "x": [
          "2024-11-05T01:49:15.265755",
          "2024-11-04T01:49:15.265755",
          "2024-11-03T01:49:15.265755",
          "2024-11-02T01:49:15.265755",
          "2024-11-01T01:49:15.265755",
          "2024-10-31T01:49:15.265755",
          "2024-10-30T01:49:15.265755",
          "2024-10-29T01:49:15.265755",
          "2024-10-28T01:49:15.265755",
          "2024-10-27T01:49:15.265755",
          "2024-10-26T01:49:15.265755",
          "2024-10-25T01:49:15.265755",
          "2024-10-24T01:49:15.265755",
          "2024-10-23T01:49:15.265755",
          "2024-10-22T01:49:15.265755",
          "2024-10-21T01:49:15.265755",
          "2024-10-20T01:49:15.265755",
          "2024-10-19T01:49:15.265755",
          "2024-10-18T01:49:15.265755",
          "2024-10-17T01:49:15.265755",
          "2024-10-16T01:49:15.265755",
          "2024-10-15T01:49:15.265755",
          "2024-10-14T01:49:15.265755",
          "2024-10-13T01:49:15.265755",
          "2024-10-12T01:49:15.265755",
          "2024-10-11T01:49:15.265755",
          "2024-10-10T01:49:15.265755",
          "2024-10-09T01:49:15.265755"
         ],
         "y": [
          1860000,
          1857894,
          1855304,
          1850675,
          1845186,
          1844054,
          1839874,
          1836276,
          1834535,
          1835354,
          1832902,
          1829790,
          1824617,
          1820358,
          1820177,
          1816481,
          1813637,
          1805562,
          1802968,
          1801381,
          1799655,
          1796705,
          1792144,
          1788174,
          1785215,
          1777734,
          1773011,
          1769620
         ]
        }
       ],
       "layout": {
        "annotations": [
         {
          "font": {
           "color": "red",
           "size": 16
          },
          "showarrow": false,
          "text": "-4.86%",
          "x": "2024-10-09T01:49:15.265755",
          "xanchor": "right",
          "y": 1860000,
          "yanchor": "top"
         },
         {
          "font": {
           "size": 16
          },
          "showarrow": false,
          "text": "Current: 1,769,620",
          "x": "2024-11-05T01:49:15.265755",
          "xanchor": "left",
          "y": 1860000,
          "yanchor": "top"
         }
        ],
        "hovermode": "x unified",
        "margin": {
         "b": 30,
         "l": 50,
         "r": 50,
         "t": 50
        },
        "plot_bgcolor": "white",
        "showlegend": false,
        "template": {
         "data": {
          "bar": [
           {
            "error_x": {
             "color": "#f2f5fa"
            },
            "error_y": {
             "color": "#f2f5fa"
            },
            "marker": {
             "line": {
              "color": "rgb(17,17,17)",
              "width": 0.5
             },
             "pattern": {
              "fillmode": "overlay",
              "size": 10,
              "solidity": 0.2
             }
            },
            "type": "bar"
           }
          ],
          "barpolar": [
           {
            "marker": {
             "line": {
              "color": "rgb(17,17,17)",
              "width": 0.5
             },
             "pattern": {
              "fillmode": "overlay",
              "size": 10,
              "solidity": 0.2
             }
            },
            "type": "barpolar"
           }
          ],
          "carpet": [
           {
            "aaxis": {
             "endlinecolor": "#A2B1C6",
             "gridcolor": "#506784",
             "linecolor": "#506784",
             "minorgridcolor": "#506784",
             "startlinecolor": "#A2B1C6"
            },
            "baxis": {
             "endlinecolor": "#A2B1C6",
             "gridcolor": "#506784",
             "linecolor": "#506784",
             "minorgridcolor": "#506784",
             "startlinecolor": "#A2B1C6"
            },
            "type": "carpet"
           }
          ],
          "choropleth": [
           {
            "colorbar": {
             "outlinewidth": 0,
             "ticks": ""
            },
            "type": "choropleth"
           }
          ],
          "contour": [
           {
            "colorbar": {
             "outlinewidth": 0,
             "ticks": ""
            },
            "colorscale": [
             [
              0,
              "#0d0887"
             ],
             [
              0.1111111111111111,
              "#46039f"
             ],
             [
              0.2222222222222222,
              "#7201a8"
             ],
             [
              0.3333333333333333,
              "#9c179e"
             ],
             [
              0.4444444444444444,
              "#bd3786"
             ],
             [
              0.5555555555555556,
              "#d8576b"
             ],
             [
              0.6666666666666666,
              "#ed7953"
             ],
             [
              0.7777777777777778,
              "#fb9f3a"
             ],
             [
              0.8888888888888888,
              "#fdca26"
             ],
             [
              1,
              "#f0f921"
             ]
            ],
            "type": "contour"
           }
          ],
          "contourcarpet": [
           {
            "colorbar": {
             "outlinewidth": 0,
             "ticks": ""
            },
            "type": "contourcarpet"
           }
          ],
          "heatmap": [
           {
            "colorbar": {
             "outlinewidth": 0,
             "ticks": ""
            },
            "colorscale": [
             [
              0,
              "#0d0887"
             ],
             [
              0.1111111111111111,
              "#46039f"
             ],
             [
              0.2222222222222222,
              "#7201a8"
             ],
             [
              0.3333333333333333,
              "#9c179e"
             ],
             [
              0.4444444444444444,
              "#bd3786"
             ],
             [
              0.5555555555555556,
              "#d8576b"
             ],
             [
              0.6666666666666666,
              "#ed7953"
             ],
             [
              0.7777777777777778,
              "#fb9f3a"
             ],
             [
              0.8888888888888888,
              "#fdca26"
             ],
             [
              1,
              "#f0f921"
             ]
            ],
            "type": "heatmap"
           }
          ],
          "heatmapgl": [
           {
            "colorbar": {
             "outlinewidth": 0,
             "ticks": ""
            },
            "colorscale": [
             [
              0,
              "#0d0887"
             ],
             [
              0.1111111111111111,
              "#46039f"
             ],
             [
              0.2222222222222222,
              "#7201a8"
             ],
             [
              0.3333333333333333,
              "#9c179e"
             ],
             [
              0.4444444444444444,
              "#bd3786"
             ],
             [
              0.5555555555555556,
              "#d8576b"
             ],
             [
              0.6666666666666666,
              "#ed7953"
             ],
             [
              0.7777777777777778,
              "#fb9f3a"
             ],
             [
              0.8888888888888888,
              "#fdca26"
             ],
             [
              1,
              "#f0f921"
             ]
            ],
            "type": "heatmapgl"
           }
          ],
          "histogram": [
           {
            "marker": {
             "pattern": {
              "fillmode": "overlay",
              "size": 10,
              "solidity": 0.2
             }
            },
            "type": "histogram"
           }
          ],
          "histogram2d": [
           {
            "colorbar": {
             "outlinewidth": 0,
             "ticks": ""
            },
            "colorscale": [
             [
              0,
              "#0d0887"
             ],
             [
              0.1111111111111111,
              "#46039f"
             ],
             [
              0.2222222222222222,
              "#7201a8"
             ],
             [
              0.3333333333333333,
              "#9c179e"
             ],
             [
              0.4444444444444444,
              "#bd3786"
             ],
             [
              0.5555555555555556,
              "#d8576b"
             ],
             [
              0.6666666666666666,
              "#ed7953"
             ],
             [
              0.7777777777777778,
              "#fb9f3a"
             ],
             [
              0.8888888888888888,
              "#fdca26"
             ],
             [
              1,
              "#f0f921"
             ]
            ],
            "type": "histogram2d"
           }
          ],
          "histogram2dcontour": [
           {
            "colorbar": {
             "outlinewidth": 0,
             "ticks": ""
            },
            "colorscale": [
             [
              0,
              "#0d0887"
             ],
             [
              0.1111111111111111,
              "#46039f"
             ],
             [
              0.2222222222222222,
              "#7201a8"
             ],
             [
              0.3333333333333333,
              "#9c179e"
             ],
             [
              0.4444444444444444,
              "#bd3786"
             ],
             [
              0.5555555555555556,
              "#d8576b"
             ],
             [
              0.6666666666666666,
              "#ed7953"
             ],
             [
              0.7777777777777778,
              "#fb9f3a"
             ],
             [
              0.8888888888888888,
              "#fdca26"
             ],
             [
              1,
              "#f0f921"
             ]
            ],
            "type": "histogram2dcontour"
           }
          ],
          "mesh3d": [
           {
            "colorbar": {
             "outlinewidth": 0,
             "ticks": ""
            },
            "type": "mesh3d"
           }
          ],
          "parcoords": [
           {
            "line": {
             "colorbar": {
              "outlinewidth": 0,
              "ticks": ""
             }
            },
            "type": "parcoords"
           }
          ],
          "pie": [
           {
            "automargin": true,
            "type": "pie"
           }
          ],
          "scatter": [
           {
            "marker": {
             "line": {
              "color": "#283442"
             }
            },
            "type": "scatter"
           }
          ],
          "scatter3d": [
           {
            "line": {
             "colorbar": {
              "outlinewidth": 0,
              "ticks": ""
             }
            },
            "marker": {
             "colorbar": {
              "outlinewidth": 0,
              "ticks": ""
             }
            },
            "type": "scatter3d"
           }
          ],
          "scattercarpet": [
           {
            "marker": {
             "colorbar": {
              "outlinewidth": 0,
              "ticks": ""
             }
            },
            "type": "scattercarpet"
           }
          ],
          "scattergeo": [
           {
            "marker": {
             "colorbar": {
              "outlinewidth": 0,
              "ticks": ""
             }
            },
            "type": "scattergeo"
           }
          ],
          "scattergl": [
           {
            "marker": {
             "line": {
              "color": "#283442"
             }
            },
            "type": "scattergl"
           }
          ],
          "scattermapbox": [
           {
            "marker": {
             "colorbar": {
              "outlinewidth": 0,
              "ticks": ""
             }
            },
            "type": "scattermapbox"
           }
          ],
          "scatterpolar": [
           {
            "marker": {
             "colorbar": {
              "outlinewidth": 0,
              "ticks": ""
             }
            },
            "type": "scatterpolar"
           }
          ],
          "scatterpolargl": [
           {
            "marker": {
             "colorbar": {
              "outlinewidth": 0,
              "ticks": ""
             }
            },
            "type": "scatterpolargl"
           }
          ],
          "scatterternary": [
           {
            "marker": {
             "colorbar": {
              "outlinewidth": 0,
              "ticks": ""
             }
            },
            "type": "scatterternary"
           }
          ],
          "surface": [
           {
            "colorbar": {
             "outlinewidth": 0,
             "ticks": ""
            },
            "colorscale": [
             [
              0,
              "#0d0887"
             ],
             [
              0.1111111111111111,
              "#46039f"
             ],
             [
              0.2222222222222222,
              "#7201a8"
             ],
             [
              0.3333333333333333,
              "#9c179e"
             ],
             [
              0.4444444444444444,
              "#bd3786"
             ],
             [
              0.5555555555555556,
              "#d8576b"
             ],
             [
              0.6666666666666666,
              "#ed7953"
             ],
             [
              0.7777777777777778,
              "#fb9f3a"
             ],
             [
              0.8888888888888888,
              "#fdca26"
             ],
             [
              1,
              "#f0f921"
             ]
            ],
            "type": "surface"
           }
          ],
          "table": [
           {
            "cells": {
             "fill": {
              "color": "#506784"
             },
             "line": {
              "color": "rgb(17,17,17)"
             }
            },
            "header": {
             "fill": {
              "color": "#2a3f5f"
             },
             "line": {
              "color": "rgb(17,17,17)"
             }
            },
            "type": "table"
           }
          ]
         },
         "layout": {
          "annotationdefaults": {
           "arrowcolor": "#f2f5fa",
           "arrowhead": 0,
           "arrowwidth": 1
          },
          "autotypenumbers": "strict",
          "coloraxis": {
           "colorbar": {
            "outlinewidth": 0,
            "ticks": ""
           }
          },
          "colorscale": {
           "diverging": [
            [
             0,
             "#8e0152"
            ],
            [
             0.1,
             "#c51b7d"
            ],
            [
             0.2,
             "#de77ae"
            ],
            [
             0.3,
             "#f1b6da"
            ],
            [
             0.4,
             "#fde0ef"
            ],
            [
             0.5,
             "#f7f7f7"
            ],
            [
             0.6,
             "#e6f5d0"
            ],
            [
             0.7,
             "#b8e186"
            ],
            [
             0.8,
             "#7fbc41"
            ],
            [
             0.9,
             "#4d9221"
            ],
            [
             1,
             "#276419"
            ]
           ],
           "sequential": [
            [
             0,
             "#0d0887"
            ],
            [
             0.1111111111111111,
             "#46039f"
            ],
            [
             0.2222222222222222,
             "#7201a8"
            ],
            [
             0.3333333333333333,
             "#9c179e"
            ],
            [
             0.4444444444444444,
             "#bd3786"
            ],
            [
             0.5555555555555556,
             "#d8576b"
            ],
            [
             0.6666666666666666,
             "#ed7953"
            ],
            [
             0.7777777777777778,
             "#fb9f3a"
            ],
            [
             0.8888888888888888,
             "#fdca26"
            ],
            [
             1,
             "#f0f921"
            ]
           ],
           "sequentialminus": [
            [
             0,
             "#0d0887"
            ],
            [
             0.1111111111111111,
             "#46039f"
            ],
            [
             0.2222222222222222,
             "#7201a8"
            ],
            [
             0.3333333333333333,
             "#9c179e"
            ],
            [
             0.4444444444444444,
             "#bd3786"
            ],
            [
             0.5555555555555556,
             "#d8576b"
            ],
            [
             0.6666666666666666,
             "#ed7953"
            ],
            [
             0.7777777777777778,
             "#fb9f3a"
            ],
            [
             0.8888888888888888,
             "#fdca26"
            ],
            [
             1,
             "#f0f921"
            ]
           ]
          },
          "colorway": [
           "#636efa",
           "#EF553B",
           "#00cc96",
           "#ab63fa",
           "#FFA15A",
           "#19d3f3",
           "#FF6692",
           "#B6E880",
           "#FF97FF",
           "#FECB52"
          ],
          "font": {
           "color": "#f2f5fa"
          },
          "geo": {
           "bgcolor": "rgb(17,17,17)",
           "lakecolor": "rgb(17,17,17)",
           "landcolor": "rgb(17,17,17)",
           "showlakes": true,
           "showland": true,
           "subunitcolor": "#506784"
          },
          "hoverlabel": {
           "align": "left"
          },
          "hovermode": "closest",
          "mapbox": {
           "style": "dark"
          },
          "paper_bgcolor": "rgb(17,17,17)",
          "plot_bgcolor": "rgb(17,17,17)",
          "polar": {
           "angularaxis": {
            "gridcolor": "#506784",
            "linecolor": "#506784",
            "ticks": ""
           },
           "bgcolor": "rgb(17,17,17)",
           "radialaxis": {
            "gridcolor": "#506784",
            "linecolor": "#506784",
            "ticks": ""
           }
          },
          "scene": {
           "xaxis": {
            "backgroundcolor": "rgb(17,17,17)",
            "gridcolor": "#506784",
            "gridwidth": 2,
            "linecolor": "#506784",
            "showbackground": true,
            "ticks": "",
            "zerolinecolor": "#C8D4E3"
           },
           "yaxis": {
            "backgroundcolor": "rgb(17,17,17)",
            "gridcolor": "#506784",
            "gridwidth": 2,
            "linecolor": "#506784",
            "showbackground": true,
            "ticks": "",
            "zerolinecolor": "#C8D4E3"
           },
           "zaxis": {
            "backgroundcolor": "rgb(17,17,17)",
            "gridcolor": "#506784",
            "gridwidth": 2,
            "linecolor": "#506784",
            "showbackground": true,
            "ticks": "",
            "zerolinecolor": "#C8D4E3"
           }
          },
          "shapedefaults": {
           "line": {
            "color": "#f2f5fa"
           }
          },
          "sliderdefaults": {
           "bgcolor": "#C8D4E3",
           "bordercolor": "rgb(17,17,17)",
           "borderwidth": 1,
           "tickwidth": 0
          },
          "ternary": {
           "aaxis": {
            "gridcolor": "#506784",
            "linecolor": "#506784",
            "ticks": ""
           },
           "baxis": {
            "gridcolor": "#506784",
            "linecolor": "#506784",
            "ticks": ""
           },
           "bgcolor": "rgb(17,17,17)",
           "caxis": {
            "gridcolor": "#506784",
            "linecolor": "#506784",
            "ticks": ""
           }
          },
          "title": {
           "x": 0.05
          },
          "updatemenudefaults": {
           "bgcolor": "#506784",
           "borderwidth": 0
          },
          "xaxis": {
           "automargin": true,
           "gridcolor": "#283442",
           "linecolor": "#506784",
           "ticks": "",
           "title": {
            "standoff": 15
           },
           "zerolinecolor": "#283442",
           "zerolinewidth": 2
          },
          "yaxis": {
           "automargin": true,
           "gridcolor": "#283442",
           "linecolor": "#506784",
           "ticks": "",
           "title": {
            "standoff": 15
           },
           "zerolinecolor": "#283442",
           "zerolinewidth": 2
          }
         }
        },
        "title": {
         "text": "Subscribers - Last 28D"
        },
        "xaxis": {
         "showgrid": false,
         "zeroline": false
        },
        "yaxis": {
         "gridcolor": "rgba(128, 128, 128, 0.2)",
         "showgrid": true,
         "zeroline": false
        }
       }
      }
     },
     "metadata": {},
     "output_type": "display_data"
    }
   ],
   "source": [
    "\n",
    "# Modify your main execution code to include the new functionality\n",
    "\n",
    "# Example channel URL (replace with any channel you want to analyze)\n",
    "channel_url = \"https://www.youtube.com/@SharumKiSketchbook\"\n",
    "\n",
    "# Get channel data\n",
    "channel_info, videos = get_channel_data(channel_url)\n",
    "\n",
    "if channel_info and videos:\n",
    "    # Create visualizer\n",
    "    viz = YouTubeVisualizer()\n",
    "    channel_id = yt.get_channel_id(channel_url)\n",
    "    \n",
    "    # Process video dates\n",
    "    videos_df = pd.DataFrame(videos)\n",
    "    videos_df['published_at'] = pd.to_datetime(videos_df['published_at']).dt.tz_localize(None)\n",
    "    \n",
    "    # Generate and save views data\n",
    "    views_data = generate_views_data(videos_df)\n",
    "    if views_data is not None:\n",
    "        views_filename = 'analytics_output/views_trends_all_periods.csv'\n",
    "        views_data.to_csv(views_filename, index=False)\n",
    "        print(f\"\\nSaved all views data to {views_filename}\")\n",
    "        \n",
    "        # Display views data samples\n",
    "        print(\"\\n=== Views Trend Data Samples ===\")\n",
    "        for period in ['7D', '28D', '90D', 'MAX']:\n",
    "            period_data = views_data[views_data['period'] == period]\n",
    "            if not period_data.empty:\n",
    "                print(f\"\\nPeriod: {period}\")\n",
    "                sample_columns = ['published_at', 'title', 'views', 'views_per_day', 'engagement_rate']\n",
    "                print(period_data[sample_columns].head())\n",
    "    \n",
    "    # Generate and save subscriber data\n",
    "    subscriber_data = generate_subscriber_data(channel_id)\n",
    "    if subscriber_data is not None:\n",
    "        subs_filename = 'analytics_output/subscriber_trends_all_periods.csv'\n",
    "        subscriber_data.to_csv(subs_filename, index=False)\n",
    "        print(f\"\\nSaved all subscriber data to {subs_filename}\")\n",
    "        \n",
    "        # Display subscriber data samples\n",
    "        print(\"\\n=== Subscriber Trend Data Samples ===\")\n",
    "        for period in ['7D', '28D', '90D', 'MAX']:\n",
    "            period_data = subscriber_data[subscriber_data['period'] == period]\n",
    "            print(f\"\\nPeriod: {period}\")\n",
    "            print(period_data[['date', 'subscribers', 'daily_growth', 'rolling_growth_7day']].head())\n",
    "    \n",
    "    # Show visualizations\n",
    "    print(\"\\n=== Generating Visualizations ===\")\n",
    "    views_fig = viz.views_trend_graph(videos_df)\n",
    "    views_fig.show()\n",
    "    \n",
    "    schedule_fig = viz.upload_schedule_heatmap(videos_df)\n",
    "    schedule_fig.show()\n",
    "    \n",
    "    engagement_fig = viz.engagement_analysis(videos_df)\n",
    "    engagement_fig.show()\n",
    "    \n",
    "    subscriber_fig = viz.subscriber_trend_graph(channel_id)\n",
    "    if subscriber_fig is not None:\n",
    "        subscriber_fig.show()\n",
    "\n",
    "else:\n",
    "    print(\"Could not fetch channel data\")"
   ]
  },
  {
   "cell_type": "markdown",
   "metadata": {},
   "source": [
    "\n",
    "\n",
    "<div style=\"border-radius: 30px 0 30px 0; border: 2px solid #00ea98; padding: 20px; background-color: #0a141b; text-align: center; box-shadow: 0px 2px 4px rgba(0, 0, 0, 0.2);\">\n",
    "    <h1 style=\"color: #7ab052; text-shadow: 2px 2px 4px rgba(0, 0, 0, 0.5); font-weight: bold; margin-bottom: 10px; font-size: 36px;\">Analysis Results </h1>\n",
    "</div>\n",
    "The analysis generates:\n",
    "1. Channel Overview\n",
    "   - Basic channel statistics\n",
    "   - Performance metrics\n",
    "   - Upload patterns\n",
    "\n",
    "2. Trend Analysis\n",
    "   - Views trends for different periods (7D, 28D, 90D, MAX)\n",
    "   - Subscriber growth patterns\n",
    "   - Engagement metrics over time\n",
    "\n",
    "3. Data Files\n",
    "   - views_trends_all_periods.csv: Comprehensive view data\n",
    "   - subscriber_trends_all_periods.csv: Subscriber growth data\n",
    "\n",
    "4. Visualizations\n",
    "   - Views trend graphs\n",
    "   - Upload schedule heatmap\n",
    "   - Engagement analysis\n",
    "   - Subscriber growth visualization\n",
    "\n",
    "All output files are saved in the analytics_output directory for further analysis.\n"
   ]
  }
 ],
 "metadata": {
  "kernelspec": {
   "display_name": "youtube_scraping",
   "language": "python",
   "name": "python3"
  },
  "language_info": {
   "codemirror_mode": {
    "name": "ipython",
    "version": 3
   },
   "file_extension": ".py",
   "mimetype": "text/x-python",
   "name": "python",
   "nbconvert_exporter": "python",
   "pygments_lexer": "ipython3",
   "version": "3.12.7"
  }
 },
 "nbformat": 4,
 "nbformat_minor": 2
}
