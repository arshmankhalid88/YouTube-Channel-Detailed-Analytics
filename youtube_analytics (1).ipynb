{
 "cells": [
  {
   "cell_type": "markdown",
   "metadata": {},
   "source": [
    "<div style=\"border-radius: 30px 0 30px 0; border: 2px solid #00ea98; padding: 20px; background-color: #0a141b; text-align: center; box-shadow: 0px 2px 4px rgba(0, 0, 0, 0.2);\">\n",
    "    <h1 style=\"color: #7ab052; text-shadow: 2px 2px 4px rgba(0, 0, 0, 0.5); font-weight: bold; margin-bottom: 10px; font-size: 36px;\">About the Author</h1>\n",
    "</div>\n"
   ]
  },
  {
   "cell_type": "markdown",
   "metadata": {},
   "source": [
    "# **Arshman Khalid**  \n",
    "<p style=\"font-size: 1.5rem; font-weight: bold;\">Data Scientist | Software Engineer | ex Consultant PwC | ex Senior Data Analyst Fortune 500</p>\n",
    "\n",
    "With over 5 years of expertise in data science and software engineering, I am dedicated to transforming complex data into actionable insights. My focus lies in predictive analytics, data strategy, and the implementation of robust machine learning models that drive measurable business outcomes. I have a track record of optimizing operations, reducing costs, and improving decision-making processes across industries. Proficient in Python, Alteryx, Power BI, and cloud platforms.\n",
    "\n",
    "When I am not wrangling datasets, you will find me attempting to code my way to the perfect cup of coffee!\n"
   ]
  },
  {
   "cell_type": "markdown",
   "metadata": {},
   "source": [
    "\n",
    "<div style=\"border-radius: 30px 0 30px 0; border: 2px solid #00ea98; padding: 20px; background-color: #0a141b; text-align: center; box-shadow: 0px 2px 4px rgba(0, 0, 0, 0.2);\">\n",
    "    <h1 style=\"color: #7ab052; text-shadow: 2px 2px 4px rgba(0, 0, 0, 0.5); font-weight: bold; margin-bottom: 10px; font-size: 36px;\">Purpose </h1>\n",
    "</div>\n",
    "\n",
    "This notebook provides comprehensive analytics for any YouTube channel, including:\n",
    "\n",
    "- Basic channel statistics\n",
    "- Video performance metrics\n",
    "- Engagement analysis\n",
    "- Upload patterns\n",
    "- Content distribution\n",
    "- Growth trends\n",
    "\n"
   ]
  },
  {
   "cell_type": "markdown",
   "metadata": {},
   "source": [
    "\n",
    "\n",
    "<div style=\"border-radius: 30px 0 30px 0; border: 2px solid #00ea98; padding: 20px; background-color: #0a141b; text-align: center; box-shadow: 0px 2px 4px rgba(0, 0, 0, 0.2);\">\n",
    "    <h1 style=\"color: #7ab052; text-shadow: 2px 2px 4px rgba(0, 0, 0, 0.5); font-weight: bold; margin-bottom: 10px; font-size: 36px;\">Setup and Requirements </h1>\n",
    "</div>\n",
    "\n",
    "1. You need a YouTube API key saved in a `.env` file.\n",
    "2. The required packages are listed below.\n"
   ]
  },
  {
   "cell_type": "markdown",
   "metadata": {},
   "source": [
    "\n",
    "\n",
    "<div style=\"border-radius: 30px 0 30px 0; border: 2px solid #00ea98; padding: 20px; background-color: #0a141b; text-align: center; box-shadow: 0px 2px 4px rgba(0, 0, 0, 0.2);\">\n",
    "    <h1 style=\"color: #7ab052; text-shadow: 2px 2px 4px rgba(0, 0, 0, 0.5); font-weight: bold; margin-bottom: 10px; font-size: 36px;\"> Package Installation </h1>\n",
    "</div>\n",
    "\n",
    "Installing required Python packages for Youtube Analytics"
   ]
  },
  {
   "cell_type": "code",
   "execution_count": 1,
   "metadata": {},
   "outputs": [
    {
     "name": "stdout",
     "output_type": "stream",
     "text": [
      "Requirement already satisfied: nbformat>=4.2.0 in /opt/anaconda3/envs/youtube_scraping/lib/python3.12/site-packages (5.10.4)\n",
      "Requirement already satisfied: fastjsonschema>=2.15 in /opt/anaconda3/envs/youtube_scraping/lib/python3.12/site-packages (from nbformat>=4.2.0) (2.20.0)\n",
      "Requirement already satisfied: jsonschema>=2.6 in /opt/anaconda3/envs/youtube_scraping/lib/python3.12/site-packages (from nbformat>=4.2.0) (4.23.0)\n",
      "Requirement already satisfied: jupyter-core!=5.0.*,>=4.12 in /opt/anaconda3/envs/youtube_scraping/lib/python3.12/site-packages (from nbformat>=4.2.0) (5.7.2)\n",
      "Requirement already satisfied: traitlets>=5.1 in /opt/anaconda3/envs/youtube_scraping/lib/python3.12/site-packages (from nbformat>=4.2.0) (5.14.3)\n",
      "Requirement already satisfied: attrs>=22.2.0 in /opt/anaconda3/envs/youtube_scraping/lib/python3.12/site-packages (from jsonschema>=2.6->nbformat>=4.2.0) (24.2.0)\n",
      "Requirement already satisfied: jsonschema-specifications>=2023.03.6 in /opt/anaconda3/envs/youtube_scraping/lib/python3.12/site-packages (from jsonschema>=2.6->nbformat>=4.2.0) (2024.10.1)\n",
      "Requirement already satisfied: referencing>=0.28.4 in /opt/anaconda3/envs/youtube_scraping/lib/python3.12/site-packages (from jsonschema>=2.6->nbformat>=4.2.0) (0.35.1)\n",
      "Requirement already satisfied: rpds-py>=0.7.1 in /opt/anaconda3/envs/youtube_scraping/lib/python3.12/site-packages (from jsonschema>=2.6->nbformat>=4.2.0) (0.20.1)\n",
      "Requirement already satisfied: platformdirs>=2.5 in /opt/anaconda3/envs/youtube_scraping/lib/python3.12/site-packages (from jupyter-core!=5.0.*,>=4.12->nbformat>=4.2.0) (4.3.6)\n",
      "Requirement already satisfied: ipykernel in /opt/anaconda3/envs/youtube_scraping/lib/python3.12/site-packages (6.29.5)\n",
      "Requirement already satisfied: appnope in /opt/anaconda3/envs/youtube_scraping/lib/python3.12/site-packages (from ipykernel) (0.1.4)\n",
      "Requirement already satisfied: comm>=0.1.1 in /opt/anaconda3/envs/youtube_scraping/lib/python3.12/site-packages (from ipykernel) (0.2.2)\n",
      "Requirement already satisfied: debugpy>=1.6.5 in /opt/anaconda3/envs/youtube_scraping/lib/python3.12/site-packages (from ipykernel) (1.8.7)\n",
      "Requirement already satisfied: ipython>=7.23.1 in /opt/anaconda3/envs/youtube_scraping/lib/python3.12/site-packages (from ipykernel) (8.29.0)\n",
      "Requirement already satisfied: jupyter-client>=6.1.12 in /opt/anaconda3/envs/youtube_scraping/lib/python3.12/site-packages (from ipykernel) (8.6.3)\n",
      "Requirement already satisfied: jupyter-core!=5.0.*,>=4.12 in /opt/anaconda3/envs/youtube_scraping/lib/python3.12/site-packages (from ipykernel) (5.7.2)\n",
      "Requirement already satisfied: matplotlib-inline>=0.1 in /opt/anaconda3/envs/youtube_scraping/lib/python3.12/site-packages (from ipykernel) (0.1.7)\n",
      "Requirement already satisfied: nest-asyncio in /opt/anaconda3/envs/youtube_scraping/lib/python3.12/site-packages (from ipykernel) (1.6.0)\n",
      "Requirement already satisfied: packaging in /opt/anaconda3/envs/youtube_scraping/lib/python3.12/site-packages (from ipykernel) (24.1)\n",
      "Requirement already satisfied: psutil in /opt/anaconda3/envs/youtube_scraping/lib/python3.12/site-packages (from ipykernel) (6.1.0)\n",
      "Requirement already satisfied: pyzmq>=24 in /opt/anaconda3/envs/youtube_scraping/lib/python3.12/site-packages (from ipykernel) (26.2.0)\n",
      "Requirement already satisfied: tornado>=6.1 in /opt/anaconda3/envs/youtube_scraping/lib/python3.12/site-packages (from ipykernel) (6.4.1)\n",
      "Requirement already satisfied: traitlets>=5.4.0 in /opt/anaconda3/envs/youtube_scraping/lib/python3.12/site-packages (from ipykernel) (5.14.3)\n",
      "Requirement already satisfied: decorator in /opt/anaconda3/envs/youtube_scraping/lib/python3.12/site-packages (from ipython>=7.23.1->ipykernel) (5.1.1)\n",
      "Requirement already satisfied: jedi>=0.16 in /opt/anaconda3/envs/youtube_scraping/lib/python3.12/site-packages (from ipython>=7.23.1->ipykernel) (0.19.1)\n",
      "Requirement already satisfied: prompt-toolkit<3.1.0,>=3.0.41 in /opt/anaconda3/envs/youtube_scraping/lib/python3.12/site-packages (from ipython>=7.23.1->ipykernel) (3.0.48)\n",
      "Requirement already satisfied: pygments>=2.4.0 in /opt/anaconda3/envs/youtube_scraping/lib/python3.12/site-packages (from ipython>=7.23.1->ipykernel) (2.18.0)\n",
      "Requirement already satisfied: stack-data in /opt/anaconda3/envs/youtube_scraping/lib/python3.12/site-packages (from ipython>=7.23.1->ipykernel) (0.6.2)\n",
      "Requirement already satisfied: pexpect>4.3 in /opt/anaconda3/envs/youtube_scraping/lib/python3.12/site-packages (from ipython>=7.23.1->ipykernel) (4.9.0)\n",
      "Requirement already satisfied: python-dateutil>=2.8.2 in /opt/anaconda3/envs/youtube_scraping/lib/python3.12/site-packages (from jupyter-client>=6.1.12->ipykernel) (2.9.0)\n",
      "Requirement already satisfied: platformdirs>=2.5 in /opt/anaconda3/envs/youtube_scraping/lib/python3.12/site-packages (from jupyter-core!=5.0.*,>=4.12->ipykernel) (4.3.6)\n",
      "Requirement already satisfied: parso<0.9.0,>=0.8.3 in /opt/anaconda3/envs/youtube_scraping/lib/python3.12/site-packages (from jedi>=0.16->ipython>=7.23.1->ipykernel) (0.8.4)\n",
      "Requirement already satisfied: ptyprocess>=0.5 in /opt/anaconda3/envs/youtube_scraping/lib/python3.12/site-packages (from pexpect>4.3->ipython>=7.23.1->ipykernel) (0.7.0)\n",
      "Requirement already satisfied: wcwidth in /opt/anaconda3/envs/youtube_scraping/lib/python3.12/site-packages (from prompt-toolkit<3.1.0,>=3.0.41->ipython>=7.23.1->ipykernel) (0.2.13)\n",
      "Requirement already satisfied: six>=1.5 in /opt/anaconda3/envs/youtube_scraping/lib/python3.12/site-packages (from python-dateutil>=2.8.2->jupyter-client>=6.1.12->ipykernel) (1.16.0)\n",
      "Requirement already satisfied: executing>=1.2.0 in /opt/anaconda3/envs/youtube_scraping/lib/python3.12/site-packages (from stack-data->ipython>=7.23.1->ipykernel) (2.1.0)\n",
      "Requirement already satisfied: asttokens>=2.1.0 in /opt/anaconda3/envs/youtube_scraping/lib/python3.12/site-packages (from stack-data->ipython>=7.23.1->ipykernel) (2.4.1)\n",
      "Requirement already satisfied: pure-eval in /opt/anaconda3/envs/youtube_scraping/lib/python3.12/site-packages (from stack-data->ipython>=7.23.1->ipykernel) (0.2.3)\n",
      "Requirement already satisfied: jupyterlab in /opt/anaconda3/envs/youtube_scraping/lib/python3.12/site-packages (4.3.0)\n",
      "Requirement already satisfied: async-lru>=1.0.0 in /opt/anaconda3/envs/youtube_scraping/lib/python3.12/site-packages (from jupyterlab) (2.0.4)\n",
      "Requirement already satisfied: httpx>=0.25.0 in /opt/anaconda3/envs/youtube_scraping/lib/python3.12/site-packages (from jupyterlab) (0.27.2)\n",
      "Requirement already satisfied: ipykernel>=6.5.0 in /opt/anaconda3/envs/youtube_scraping/lib/python3.12/site-packages (from jupyterlab) (6.29.5)\n",
      "Requirement already satisfied: jinja2>=3.0.3 in /opt/anaconda3/envs/youtube_scraping/lib/python3.12/site-packages (from jupyterlab) (3.1.4)\n",
      "Requirement already satisfied: jupyter-core in /opt/anaconda3/envs/youtube_scraping/lib/python3.12/site-packages (from jupyterlab) (5.7.2)\n",
      "Requirement already satisfied: jupyter-lsp>=2.0.0 in /opt/anaconda3/envs/youtube_scraping/lib/python3.12/site-packages (from jupyterlab) (2.2.5)\n",
      "Requirement already satisfied: jupyter-server<3,>=2.4.0 in /opt/anaconda3/envs/youtube_scraping/lib/python3.12/site-packages (from jupyterlab) (2.14.2)\n",
      "Requirement already satisfied: jupyterlab-server<3,>=2.27.1 in /opt/anaconda3/envs/youtube_scraping/lib/python3.12/site-packages (from jupyterlab) (2.27.3)\n",
      "Requirement already satisfied: notebook-shim>=0.2 in /opt/anaconda3/envs/youtube_scraping/lib/python3.12/site-packages (from jupyterlab) (0.2.4)\n",
      "Requirement already satisfied: packaging in /opt/anaconda3/envs/youtube_scraping/lib/python3.12/site-packages (from jupyterlab) (24.1)\n",
      "Requirement already satisfied: setuptools>=40.1.0 in /opt/anaconda3/envs/youtube_scraping/lib/python3.12/site-packages (from jupyterlab) (75.1.0)\n",
      "Requirement already satisfied: tornado>=6.2.0 in /opt/anaconda3/envs/youtube_scraping/lib/python3.12/site-packages (from jupyterlab) (6.4.1)\n",
      "Requirement already satisfied: traitlets in /opt/anaconda3/envs/youtube_scraping/lib/python3.12/site-packages (from jupyterlab) (5.14.3)\n",
      "Requirement already satisfied: anyio in /opt/anaconda3/envs/youtube_scraping/lib/python3.12/site-packages (from httpx>=0.25.0->jupyterlab) (4.6.2.post1)\n",
      "Requirement already satisfied: certifi in /opt/anaconda3/envs/youtube_scraping/lib/python3.12/site-packages (from httpx>=0.25.0->jupyterlab) (2024.8.30)\n",
      "Requirement already satisfied: httpcore==1.* in /opt/anaconda3/envs/youtube_scraping/lib/python3.12/site-packages (from httpx>=0.25.0->jupyterlab) (1.0.6)\n",
      "Requirement already satisfied: idna in /opt/anaconda3/envs/youtube_scraping/lib/python3.12/site-packages (from httpx>=0.25.0->jupyterlab) (3.10)\n",
      "Requirement already satisfied: sniffio in /opt/anaconda3/envs/youtube_scraping/lib/python3.12/site-packages (from httpx>=0.25.0->jupyterlab) (1.3.1)\n",
      "Requirement already satisfied: h11<0.15,>=0.13 in /opt/anaconda3/envs/youtube_scraping/lib/python3.12/site-packages (from httpcore==1.*->httpx>=0.25.0->jupyterlab) (0.14.0)\n",
      "Requirement already satisfied: appnope in /opt/anaconda3/envs/youtube_scraping/lib/python3.12/site-packages (from ipykernel>=6.5.0->jupyterlab) (0.1.4)\n",
      "Requirement already satisfied: comm>=0.1.1 in /opt/anaconda3/envs/youtube_scraping/lib/python3.12/site-packages (from ipykernel>=6.5.0->jupyterlab) (0.2.2)\n",
      "Requirement already satisfied: debugpy>=1.6.5 in /opt/anaconda3/envs/youtube_scraping/lib/python3.12/site-packages (from ipykernel>=6.5.0->jupyterlab) (1.8.7)\n",
      "Requirement already satisfied: ipython>=7.23.1 in /opt/anaconda3/envs/youtube_scraping/lib/python3.12/site-packages (from ipykernel>=6.5.0->jupyterlab) (8.29.0)\n",
      "Requirement already satisfied: jupyter-client>=6.1.12 in /opt/anaconda3/envs/youtube_scraping/lib/python3.12/site-packages (from ipykernel>=6.5.0->jupyterlab) (8.6.3)\n",
      "Requirement already satisfied: matplotlib-inline>=0.1 in /opt/anaconda3/envs/youtube_scraping/lib/python3.12/site-packages (from ipykernel>=6.5.0->jupyterlab) (0.1.7)\n",
      "Requirement already satisfied: nest-asyncio in /opt/anaconda3/envs/youtube_scraping/lib/python3.12/site-packages (from ipykernel>=6.5.0->jupyterlab) (1.6.0)\n",
      "Requirement already satisfied: psutil in /opt/anaconda3/envs/youtube_scraping/lib/python3.12/site-packages (from ipykernel>=6.5.0->jupyterlab) (6.1.0)\n",
      "Requirement already satisfied: pyzmq>=24 in /opt/anaconda3/envs/youtube_scraping/lib/python3.12/site-packages (from ipykernel>=6.5.0->jupyterlab) (26.2.0)\n",
      "Requirement already satisfied: MarkupSafe>=2.0 in /opt/anaconda3/envs/youtube_scraping/lib/python3.12/site-packages (from jinja2>=3.0.3->jupyterlab) (3.0.2)\n",
      "Requirement already satisfied: platformdirs>=2.5 in /opt/anaconda3/envs/youtube_scraping/lib/python3.12/site-packages (from jupyter-core->jupyterlab) (4.3.6)\n",
      "Requirement already satisfied: argon2-cffi>=21.1 in /opt/anaconda3/envs/youtube_scraping/lib/python3.12/site-packages (from jupyter-server<3,>=2.4.0->jupyterlab) (23.1.0)\n",
      "Requirement already satisfied: jupyter-events>=0.9.0 in /opt/anaconda3/envs/youtube_scraping/lib/python3.12/site-packages (from jupyter-server<3,>=2.4.0->jupyterlab) (0.10.0)\n",
      "Requirement already satisfied: jupyter-server-terminals>=0.4.4 in /opt/anaconda3/envs/youtube_scraping/lib/python3.12/site-packages (from jupyter-server<3,>=2.4.0->jupyterlab) (0.5.3)\n",
      "Requirement already satisfied: nbconvert>=6.4.4 in /opt/anaconda3/envs/youtube_scraping/lib/python3.12/site-packages (from jupyter-server<3,>=2.4.0->jupyterlab) (7.16.4)\n",
      "Requirement already satisfied: nbformat>=5.3.0 in /opt/anaconda3/envs/youtube_scraping/lib/python3.12/site-packages (from jupyter-server<3,>=2.4.0->jupyterlab) (5.10.4)\n",
      "Requirement already satisfied: overrides>=5.0 in /opt/anaconda3/envs/youtube_scraping/lib/python3.12/site-packages (from jupyter-server<3,>=2.4.0->jupyterlab) (7.7.0)\n",
      "Requirement already satisfied: prometheus-client>=0.9 in /opt/anaconda3/envs/youtube_scraping/lib/python3.12/site-packages (from jupyter-server<3,>=2.4.0->jupyterlab) (0.21.0)\n",
      "Requirement already satisfied: send2trash>=1.8.2 in /opt/anaconda3/envs/youtube_scraping/lib/python3.12/site-packages (from jupyter-server<3,>=2.4.0->jupyterlab) (1.8.3)\n",
      "Requirement already satisfied: terminado>=0.8.3 in /opt/anaconda3/envs/youtube_scraping/lib/python3.12/site-packages (from jupyter-server<3,>=2.4.0->jupyterlab) (0.18.1)\n",
      "Requirement already satisfied: websocket-client>=1.7 in /opt/anaconda3/envs/youtube_scraping/lib/python3.12/site-packages (from jupyter-server<3,>=2.4.0->jupyterlab) (1.8.0)\n",
      "Requirement already satisfied: babel>=2.10 in /opt/anaconda3/envs/youtube_scraping/lib/python3.12/site-packages (from jupyterlab-server<3,>=2.27.1->jupyterlab) (2.16.0)\n",
      "Requirement already satisfied: json5>=0.9.0 in /opt/anaconda3/envs/youtube_scraping/lib/python3.12/site-packages (from jupyterlab-server<3,>=2.27.1->jupyterlab) (0.9.25)\n",
      "Requirement already satisfied: jsonschema>=4.18.0 in /opt/anaconda3/envs/youtube_scraping/lib/python3.12/site-packages (from jupyterlab-server<3,>=2.27.1->jupyterlab) (4.23.0)\n",
      "Requirement already satisfied: requests>=2.31 in /opt/anaconda3/envs/youtube_scraping/lib/python3.12/site-packages (from jupyterlab-server<3,>=2.27.1->jupyterlab) (2.32.3)\n",
      "Requirement already satisfied: argon2-cffi-bindings in /opt/anaconda3/envs/youtube_scraping/lib/python3.12/site-packages (from argon2-cffi>=21.1->jupyter-server<3,>=2.4.0->jupyterlab) (21.2.0)\n",
      "Requirement already satisfied: decorator in /opt/anaconda3/envs/youtube_scraping/lib/python3.12/site-packages (from ipython>=7.23.1->ipykernel>=6.5.0->jupyterlab) (5.1.1)\n",
      "Requirement already satisfied: jedi>=0.16 in /opt/anaconda3/envs/youtube_scraping/lib/python3.12/site-packages (from ipython>=7.23.1->ipykernel>=6.5.0->jupyterlab) (0.19.1)\n",
      "Requirement already satisfied: prompt-toolkit<3.1.0,>=3.0.41 in /opt/anaconda3/envs/youtube_scraping/lib/python3.12/site-packages (from ipython>=7.23.1->ipykernel>=6.5.0->jupyterlab) (3.0.48)\n",
      "Requirement already satisfied: pygments>=2.4.0 in /opt/anaconda3/envs/youtube_scraping/lib/python3.12/site-packages (from ipython>=7.23.1->ipykernel>=6.5.0->jupyterlab) (2.18.0)\n",
      "Requirement already satisfied: stack-data in /opt/anaconda3/envs/youtube_scraping/lib/python3.12/site-packages (from ipython>=7.23.1->ipykernel>=6.5.0->jupyterlab) (0.6.2)\n",
      "Requirement already satisfied: pexpect>4.3 in /opt/anaconda3/envs/youtube_scraping/lib/python3.12/site-packages (from ipython>=7.23.1->ipykernel>=6.5.0->jupyterlab) (4.9.0)\n",
      "Requirement already satisfied: attrs>=22.2.0 in /opt/anaconda3/envs/youtube_scraping/lib/python3.12/site-packages (from jsonschema>=4.18.0->jupyterlab-server<3,>=2.27.1->jupyterlab) (24.2.0)\n",
      "Requirement already satisfied: jsonschema-specifications>=2023.03.6 in /opt/anaconda3/envs/youtube_scraping/lib/python3.12/site-packages (from jsonschema>=4.18.0->jupyterlab-server<3,>=2.27.1->jupyterlab) (2024.10.1)\n",
      "Requirement already satisfied: referencing>=0.28.4 in /opt/anaconda3/envs/youtube_scraping/lib/python3.12/site-packages (from jsonschema>=4.18.0->jupyterlab-server<3,>=2.27.1->jupyterlab) (0.35.1)\n",
      "Requirement already satisfied: rpds-py>=0.7.1 in /opt/anaconda3/envs/youtube_scraping/lib/python3.12/site-packages (from jsonschema>=4.18.0->jupyterlab-server<3,>=2.27.1->jupyterlab) (0.20.1)\n",
      "Requirement already satisfied: python-dateutil>=2.8.2 in /opt/anaconda3/envs/youtube_scraping/lib/python3.12/site-packages (from jupyter-client>=6.1.12->ipykernel>=6.5.0->jupyterlab) (2.9.0)\n",
      "Requirement already satisfied: python-json-logger>=2.0.4 in /opt/anaconda3/envs/youtube_scraping/lib/python3.12/site-packages (from jupyter-events>=0.9.0->jupyter-server<3,>=2.4.0->jupyterlab) (2.0.7)\n",
      "Requirement already satisfied: pyyaml>=5.3 in /opt/anaconda3/envs/youtube_scraping/lib/python3.12/site-packages (from jupyter-events>=0.9.0->jupyter-server<3,>=2.4.0->jupyterlab) (6.0.2)\n",
      "Requirement already satisfied: rfc3339-validator in /opt/anaconda3/envs/youtube_scraping/lib/python3.12/site-packages (from jupyter-events>=0.9.0->jupyter-server<3,>=2.4.0->jupyterlab) (0.1.4)\n",
      "Requirement already satisfied: rfc3986-validator>=0.1.1 in /opt/anaconda3/envs/youtube_scraping/lib/python3.12/site-packages (from jupyter-events>=0.9.0->jupyter-server<3,>=2.4.0->jupyterlab) (0.1.1)\n",
      "Requirement already satisfied: beautifulsoup4 in /opt/anaconda3/envs/youtube_scraping/lib/python3.12/site-packages (from nbconvert>=6.4.4->jupyter-server<3,>=2.4.0->jupyterlab) (4.12.3)\n",
      "Requirement already satisfied: bleach!=5.0.0 in /opt/anaconda3/envs/youtube_scraping/lib/python3.12/site-packages (from nbconvert>=6.4.4->jupyter-server<3,>=2.4.0->jupyterlab) (6.2.0)\n",
      "Requirement already satisfied: defusedxml in /opt/anaconda3/envs/youtube_scraping/lib/python3.12/site-packages (from nbconvert>=6.4.4->jupyter-server<3,>=2.4.0->jupyterlab) (0.7.1)\n",
      "Requirement already satisfied: jupyterlab-pygments in /opt/anaconda3/envs/youtube_scraping/lib/python3.12/site-packages (from nbconvert>=6.4.4->jupyter-server<3,>=2.4.0->jupyterlab) (0.3.0)\n",
      "Requirement already satisfied: mistune<4,>=2.0.3 in /opt/anaconda3/envs/youtube_scraping/lib/python3.12/site-packages (from nbconvert>=6.4.4->jupyter-server<3,>=2.4.0->jupyterlab) (3.0.2)\n",
      "Requirement already satisfied: nbclient>=0.5.0 in /opt/anaconda3/envs/youtube_scraping/lib/python3.12/site-packages (from nbconvert>=6.4.4->jupyter-server<3,>=2.4.0->jupyterlab) (0.10.0)\n",
      "Requirement already satisfied: pandocfilters>=1.4.1 in /opt/anaconda3/envs/youtube_scraping/lib/python3.12/site-packages (from nbconvert>=6.4.4->jupyter-server<3,>=2.4.0->jupyterlab) (1.5.1)\n",
      "Requirement already satisfied: tinycss2 in /opt/anaconda3/envs/youtube_scraping/lib/python3.12/site-packages (from nbconvert>=6.4.4->jupyter-server<3,>=2.4.0->jupyterlab) (1.4.0)\n",
      "Requirement already satisfied: fastjsonschema>=2.15 in /opt/anaconda3/envs/youtube_scraping/lib/python3.12/site-packages (from nbformat>=5.3.0->jupyter-server<3,>=2.4.0->jupyterlab) (2.20.0)\n",
      "Requirement already satisfied: charset-normalizer<4,>=2 in /opt/anaconda3/envs/youtube_scraping/lib/python3.12/site-packages (from requests>=2.31->jupyterlab-server<3,>=2.27.1->jupyterlab) (3.4.0)\n",
      "Requirement already satisfied: urllib3<3,>=1.21.1 in /opt/anaconda3/envs/youtube_scraping/lib/python3.12/site-packages (from requests>=2.31->jupyterlab-server<3,>=2.27.1->jupyterlab) (2.2.3)\n",
      "Requirement already satisfied: ptyprocess in /opt/anaconda3/envs/youtube_scraping/lib/python3.12/site-packages (from terminado>=0.8.3->jupyter-server<3,>=2.4.0->jupyterlab) (0.7.0)\n",
      "Requirement already satisfied: webencodings in /opt/anaconda3/envs/youtube_scraping/lib/python3.12/site-packages (from bleach!=5.0.0->nbconvert>=6.4.4->jupyter-server<3,>=2.4.0->jupyterlab) (0.5.1)\n",
      "Requirement already satisfied: parso<0.9.0,>=0.8.3 in /opt/anaconda3/envs/youtube_scraping/lib/python3.12/site-packages (from jedi>=0.16->ipython>=7.23.1->ipykernel>=6.5.0->jupyterlab) (0.8.4)\n",
      "Requirement already satisfied: fqdn in /opt/anaconda3/envs/youtube_scraping/lib/python3.12/site-packages (from jsonschema[format-nongpl]>=4.18.0->jupyter-events>=0.9.0->jupyter-server<3,>=2.4.0->jupyterlab) (1.5.1)\n",
      "Requirement already satisfied: isoduration in /opt/anaconda3/envs/youtube_scraping/lib/python3.12/site-packages (from jsonschema[format-nongpl]>=4.18.0->jupyter-events>=0.9.0->jupyter-server<3,>=2.4.0->jupyterlab) (20.11.0)\n",
      "Requirement already satisfied: jsonpointer>1.13 in /opt/anaconda3/envs/youtube_scraping/lib/python3.12/site-packages (from jsonschema[format-nongpl]>=4.18.0->jupyter-events>=0.9.0->jupyter-server<3,>=2.4.0->jupyterlab) (3.0.0)\n",
      "Requirement already satisfied: uri-template in /opt/anaconda3/envs/youtube_scraping/lib/python3.12/site-packages (from jsonschema[format-nongpl]>=4.18.0->jupyter-events>=0.9.0->jupyter-server<3,>=2.4.0->jupyterlab) (1.3.0)\n",
      "Requirement already satisfied: webcolors>=24.6.0 in /opt/anaconda3/envs/youtube_scraping/lib/python3.12/site-packages (from jsonschema[format-nongpl]>=4.18.0->jupyter-events>=0.9.0->jupyter-server<3,>=2.4.0->jupyterlab) (24.8.0)\n",
      "Requirement already satisfied: wcwidth in /opt/anaconda3/envs/youtube_scraping/lib/python3.12/site-packages (from prompt-toolkit<3.1.0,>=3.0.41->ipython>=7.23.1->ipykernel>=6.5.0->jupyterlab) (0.2.13)\n",
      "Requirement already satisfied: six>=1.5 in /opt/anaconda3/envs/youtube_scraping/lib/python3.12/site-packages (from python-dateutil>=2.8.2->jupyter-client>=6.1.12->ipykernel>=6.5.0->jupyterlab) (1.16.0)\n",
      "Requirement already satisfied: cffi>=1.0.1 in /opt/anaconda3/envs/youtube_scraping/lib/python3.12/site-packages (from argon2-cffi-bindings->argon2-cffi>=21.1->jupyter-server<3,>=2.4.0->jupyterlab) (1.17.1)\n",
      "Requirement already satisfied: soupsieve>1.2 in /opt/anaconda3/envs/youtube_scraping/lib/python3.12/site-packages (from beautifulsoup4->nbconvert>=6.4.4->jupyter-server<3,>=2.4.0->jupyterlab) (2.6)\n",
      "Requirement already satisfied: executing>=1.2.0 in /opt/anaconda3/envs/youtube_scraping/lib/python3.12/site-packages (from stack-data->ipython>=7.23.1->ipykernel>=6.5.0->jupyterlab) (2.1.0)\n",
      "Requirement already satisfied: asttokens>=2.1.0 in /opt/anaconda3/envs/youtube_scraping/lib/python3.12/site-packages (from stack-data->ipython>=7.23.1->ipykernel>=6.5.0->jupyterlab) (2.4.1)\n",
      "Requirement already satisfied: pure-eval in /opt/anaconda3/envs/youtube_scraping/lib/python3.12/site-packages (from stack-data->ipython>=7.23.1->ipykernel>=6.5.0->jupyterlab) (0.2.3)\n",
      "Requirement already satisfied: pycparser in /opt/anaconda3/envs/youtube_scraping/lib/python3.12/site-packages (from cffi>=1.0.1->argon2-cffi-bindings->argon2-cffi>=21.1->jupyter-server<3,>=2.4.0->jupyterlab) (2.22)\n",
      "Requirement already satisfied: arrow>=0.15.0 in /opt/anaconda3/envs/youtube_scraping/lib/python3.12/site-packages (from isoduration->jsonschema[format-nongpl]>=4.18.0->jupyter-events>=0.9.0->jupyter-server<3,>=2.4.0->jupyterlab) (1.3.0)\n",
      "Requirement already satisfied: types-python-dateutil>=2.8.10 in /opt/anaconda3/envs/youtube_scraping/lib/python3.12/site-packages (from arrow>=0.15.0->isoduration->jsonschema[format-nongpl]>=4.18.0->jupyter-events>=0.9.0->jupyter-server<3,>=2.4.0->jupyterlab) (2.9.0.20241003)\n",
      "Requirement already satisfied: plotly in /opt/anaconda3/envs/youtube_scraping/lib/python3.12/site-packages (5.24.1)\n",
      "Requirement already satisfied: tenacity>=6.2.0 in /opt/anaconda3/envs/youtube_scraping/lib/python3.12/site-packages (from plotly) (8.5.0)\n",
      "Requirement already satisfied: packaging in /opt/anaconda3/envs/youtube_scraping/lib/python3.12/site-packages (from plotly) (24.1)\n"
     ]
    }
   ],
   "source": [
    "!pip install \"nbformat>=4.2.0\"\n",
    "!pip install ipykernel\n",
    "!pip install jupyterlab\n",
    "!pip install plotly"
   ]
  },
  {
   "cell_type": "markdown",
   "metadata": {},
   "source": [
    "\n",
    "\n",
    "<div style=\"border-radius: 30px 0 30px 0; border: 2px solid #00ea98; padding: 20px; background-color: #0a141b; text-align: center; box-shadow: 0px 2px 4px rgba(0, 0, 0, 0.2);\">\n",
    "    <h1 style=\"color: #7ab052; text-shadow: 2px 2px 4px rgba(0, 0, 0, 0.5); font-weight: bold; margin-bottom: 10px; font-size: 36px;\">Library Imports and Configuration </h1>\n",
    "</div>\n",
    "\n",
    "Setting up required libraries and configuring visualization styles"
   ]
  },
  {
   "cell_type": "code",
   "execution_count": 2,
   "metadata": {},
   "outputs": [],
   "source": [
    "# Import required libraries\n",
    "import os\n",
    "from googleapiclient.discovery import build\n",
    "from googleapiclient.errors import HttpError\n",
    "from datetime import datetime, timedelta\n",
    "from urllib.parse import urlparse\n",
    "import re\n",
    "from dotenv import load_dotenv\n",
    "import matplotlib.pyplot as plt\n",
    "import seaborn as sns\n",
    "import plotly.graph_objects as go\n",
    "import plotly.express as px\n",
    "import pandas as pd\n",
    "import numpy as np\n",
    "import calendar\n",
    "import plotly.io as pio\n",
    "from typing import List, Dict, Optional\n",
    "from wordcloud import WordCloud\n",
    "import pytz\n",
    "\n",
    "# Set visualization styles\n",
    "pio.templates.default = \"plotly_dark\"\n",
    "plt.style.use('dark_background')\n",
    "sns.set_style(\"darkgrid\")"
   ]
  },
  {
   "cell_type": "markdown",
   "metadata": {},
   "source": [
    "\n",
    "<div style=\"border-radius: 30px 0 30px 0; border: 2px solid #00ea98; padding: 20px; background-color: #0a141b; text-align: center; box-shadow: 0px 2px 4px rgba(0, 0, 0, 0.2);\">\n",
    "    <h1 style=\"color: #7ab052; text-shadow: 2px 2px 4px rgba(0, 0, 0, 0.5); font-weight: bold; margin-bottom: 10px; font-size: 36px;\">YouTube Channel Analytics </h1>\n",
    "</div>\n",
    "\n",
    "\n",
    "Initializing YouTube API connection and helper functions for channel identification\n",
    "\n"
   ]
  },
  {
   "cell_type": "code",
   "execution_count": 3,
   "metadata": {},
   "outputs": [],
   "source": [
    "class YouTubeStats:\n",
    "    def __init__(self):\n",
    "        load_dotenv()\n",
    "        self.api_key = os.getenv('YOUTUBE_API_KEY')\n",
    "        if not self.api_key:\n",
    "            raise ValueError(\"YouTube API key not found in .env file\")\n",
    "        self.youtube = build('youtube', 'v3', developerKey=self.api_key)\n",
    "    \n",
    "    def get_channel_id_from_handle(self, handle):\n",
    "        handle = handle.lstrip('@')\n",
    "        try:\n",
    "            response = self.youtube.search().list(\n",
    "                q=handle,\n",
    "                type='channel',\n",
    "                part='id,snippet'\n",
    "            ).execute()\n",
    "            if 'items' in response and len(response['items']) > 0:\n",
    "                return response['items'][0]['id']['channelId']\n",
    "        except Exception as e:\n",
    "            print(f\"Error fetching channel ID: {e}\")\n",
    "        return None\n",
    "\n",
    "    def get_channel_id(self, channel_url):\n",
    "        if re.match(r'^UC[\\w-]{22}$', channel_url):\n",
    "            return channel_url\n",
    "        \n",
    "        if 'youtube.com' in channel_url or 'youtu.be' in channel_url:\n",
    "            parsed_url = urlparse(channel_url)\n",
    "            \n",
    "            if '/channel/' in channel_url:\n",
    "                return channel_url.split('/channel/')[1].split('/')[0]\n",
    "            elif '/user/' in channel_url:\n",
    "                path = parsed_url.path\n",
    "                username = path.split('/user/')[1].split('/')[0]\n",
    "                return self.get_channel_id_from_handle(username)\n",
    "            elif '@' in channel_url:\n",
    "                handle = parsed_url.path.split('/')[1]\n",
    "                return self.get_channel_id_from_handle(handle)\n",
    "                \n",
    "        if channel_url.startswith('@'):\n",
    "            return self.get_channel_id_from_handle(channel_url)\n",
    "            \n",
    "        return None\n",
    "\n",
    "# Initialize the YouTube API\n",
    "yt = YouTubeStats()\n"
   ]
  },
  {
   "cell_type": "markdown",
   "metadata": {},
   "source": [
    "\n",
    "\n",
    "<div style=\"border-radius: 30px 0 30px 0; border: 2px solid #00ea98; padding: 20px; background-color: #0a141b; text-align: center; box-shadow: 0px 2px 4px rgba(0, 0, 0, 0.2);\">\n",
    "    <h1 style=\"color: #7ab052; text-shadow: 2px 2px 4px rgba(0, 0, 0, 0.5); font-weight: bold; margin-bottom: 10px; font-size: 36px;\"> Data Collection Functions</h1>\n",
    "</div>\n",
    "\n",
    "Functions to collect channel statistics and video performance data:\n",
    "- Channel metadata\n",
    "- Video metrics\n",
    "- Historical performance\n",
    "- Engagement statistics"
   ]
  },
  {
   "cell_type": "code",
   "execution_count": 4,
   "metadata": {},
   "outputs": [],
   "source": [
    "def get_channel_data(channel_url):\n",
    "    \"\"\"Collect channel and video data\"\"\"\n",
    "    try:\n",
    "        # Get channel details\n",
    "        channel_id = yt.get_channel_id(channel_url)\n",
    "        if not channel_id:\n",
    "            return None, None\n",
    "            \n",
    "        request = yt.youtube.channels().list(\n",
    "            part='snippet,statistics,brandingSettings,contentDetails',\n",
    "            id=channel_id\n",
    "        )\n",
    "        channel_response = request.execute()\n",
    "        \n",
    "        if not channel_response['items']:\n",
    "            return None, None\n",
    "            \n",
    "        channel_info = channel_response['items'][0]\n",
    "        \n",
    "        # Get videos\n",
    "        playlist_id = channel_info['contentDetails']['relatedPlaylists']['uploads']\n",
    "        videos = []\n",
    "        next_page_token = None\n",
    "        \n",
    "        while True:\n",
    "            playlist_request = yt.youtube.playlistItems().list(\n",
    "                part='snippet,contentDetails',\n",
    "                playlistId=playlist_id,\n",
    "                maxResults=50,\n",
    "                pageToken=next_page_token\n",
    "            )\n",
    "            playlist_response = playlist_request.execute()\n",
    "            \n",
    "            for item in playlist_response['items']:\n",
    "                video_id = item['contentDetails']['videoId']\n",
    "                video_request = yt.youtube.videos().list(\n",
    "                    part='statistics,contentDetails',\n",
    "                    id=video_id\n",
    "                )\n",
    "                video_response = video_request.execute()\n",
    "                \n",
    "                if video_response['items']:\n",
    "                    video_data = video_response['items'][0]\n",
    "                    videos.append({\n",
    "                        'title': item['snippet']['title'],\n",
    "                        'published_at': item['snippet']['publishedAt'],\n",
    "                        'views': int(video_data['statistics'].get('viewCount', 0)),\n",
    "                        'likes': int(video_data['statistics'].get('likeCount', 0)),\n",
    "                        'comments': int(video_data['statistics'].get('commentCount', 0)),\n",
    "                        'duration': parse_duration(video_data['contentDetails']['duration'])\n",
    "                    })\n",
    "            \n",
    "            next_page_token = playlist_response.get('nextPageToken')\n",
    "            if not next_page_token or len(videos) >= 100:  # Limit to last 100 videos\n",
    "                break\n",
    "                \n",
    "        return channel_info, videos\n",
    "        \n",
    "    except Exception as e:\n",
    "        print(f\"Error collecting data: {e}\")\n",
    "        return None, None\n",
    "\n",
    "def parse_duration(duration_str):\n",
    "    \"\"\"Convert YouTube duration string to seconds\"\"\"\n",
    "    match = re.match(r'PT(\\d+H)?(\\d+M)?(\\d+S)?', duration_str)\n",
    "    if not match:\n",
    "        return 0\n",
    "    \n",
    "    hours = int(match.group(1)[:-1]) if match.group(1) else 0\n",
    "    minutes = int(match.group(2)[:-1]) if match.group(2) else 0\n",
    "    seconds = int(match.group(3)[:-1]) if match.group(3) else 0\n",
    "    \n",
    "    return hours * 3600 + minutes * 60 + seconds\n"
   ]
  },
  {
   "cell_type": "markdown",
   "metadata": {},
   "source": [
    "\n",
    "<div style=\"border-radius: 30px 0 30px 0; border: 2px solid #00ea98; padding: 20px; background-color: #0a141b; text-align: center; box-shadow: 0px 2px 4px rgba(0, 0, 0, 0.2);\">\n",
    "    <h1 style=\"color: #7ab052; text-shadow: 2px 2px 4px rgba(0, 0, 0, 0.5); font-weight: bold; margin-bottom: 10px; font-size: 36px;\"> Visualization Classes </h1>\n",
    "</div>\n",
    "\n",
    "Classes for creating interactive visualizations and analytics:\n",
    "- YouTubeVisualizer: Handles all graph creation\n",
    "- ChannelAnalytics: Processes channel statistics and metrics"
   ]
  },
  {
   "cell_type": "markdown",
   "metadata": {},
   "source": [
    "\n",
    "\n",
    "<div style=\"border-radius: 30px 0 30px 0; border: 2px solid #00ea98; padding: 20px; background-color: #0a141b; text-align: center; box-shadow: 0px 2px 4px rgba(0, 0, 0, 0.2);\">\n",
    "    <h1 style=\"color: #7ab052; text-shadow: 2px 2px 4px rgba(0, 0, 0, 0.5); font-weight: bold; margin-bottom: 10px; font-size: 36px;\"> Data Generation Functions </h1>\n",
    "</div>\n",
    "\n",
    "Functions to generate comprehensive trend data:\n",
    "- Subscriber trends across different time periods (7D, 28D, 90D, MAX)\n",
    "- View trends with engagement metrics\n",
    "- Performance calculations and rolling averages"
   ]
  },
  {
   "cell_type": "code",
   "execution_count": 5,
   "metadata": {},
   "outputs": [],
   "source": [
    "class YouTubeVisualizer:\n",
    "\n",
    "    def create_trend_graph(self, data, metric_type='views', time_range='28D'):\n",
    "        \"\"\"Create trend visualization similar to YouTube Studio style\"\"\"\n",
    "        range_map = {\n",
    "            '7D': 7,\n",
    "            '28D': 28,\n",
    "            '90D': 90,\n",
    "            '1Y': 365,\n",
    "            'MAX': None\n",
    "        }\n",
    "        \n",
    "        df = data.copy()\n",
    "        # Convert all dates to UTC\n",
    "        df['date'] = pd.to_datetime(df['date']).dt.tz_localize(None)\n",
    "        \n",
    "        days = range_map.get(time_range)\n",
    "        current_time = datetime.now()\n",
    "        \n",
    "        if days:\n",
    "            cutoff_date = current_time - timedelta(days=days)\n",
    "            df = df[df['date'] >= cutoff_date]\n",
    "        \n",
    "        if len(df) == 0:\n",
    "            return None\n",
    "        \n",
    "        current_value = df[metric_type].iloc[-1]\n",
    "        first_value = df[metric_type].iloc[0]\n",
    "        pct_change = ((current_value - first_value) / first_value) * 100 if first_value != 0 else 0\n",
    "        \n",
    "        fig = go.Figure()\n",
    "        \n",
    "        # Add area fill\n",
    "        fig.add_trace(go.Scatter(\n",
    "            x=df['date'],\n",
    "            y=df[metric_type],\n",
    "            fill='tozeroy',\n",
    "            fillcolor='rgba(255, 0, 0, 0.1)',\n",
    "            line=dict(color='red', width=2),\n",
    "            name=metric_type.title(),\n",
    "            hovertemplate=\"%{y:,.0f}<br>%{x}<extra></extra>\"\n",
    "        ))\n",
    "    \n",
    "        # Add annotations\n",
    "        fig.add_annotation(\n",
    "            x=df['date'].iloc[-1],\n",
    "            y=df[metric_type].max(),\n",
    "            text=f\"{pct_change:+.2f}%\",\n",
    "            showarrow=False,\n",
    "            font=dict(size=16, color='red'),\n",
    "            xanchor='right',\n",
    "            yanchor='top'\n",
    "        )\n",
    "        \n",
    "        fig.add_annotation(\n",
    "            x=df['date'].iloc[0],\n",
    "            y=df[metric_type].max(),\n",
    "            text=f\"Current: {current_value:,.0f}\",\n",
    "            showarrow=False,\n",
    "            font=dict(size=16),\n",
    "            xanchor='left',\n",
    "            yanchor='top'\n",
    "        )\n",
    "        \n",
    "        fig.update_layout(\n",
    "            title=f\"{metric_type.title()} - Last {time_range}\",\n",
    "            showlegend=False,\n",
    "            xaxis=dict(showgrid=False, zeroline=False),\n",
    "            yaxis=dict(\n",
    "                showgrid=True,\n",
    "                gridcolor='rgba(128, 128, 128, 0.2)',\n",
    "                zeroline=False\n",
    "            ),\n",
    "            plot_bgcolor='white',\n",
    "            hovermode='x unified',\n",
    "            margin=dict(t=50, l=50, r=50, b=30)\n",
    "        )\n",
    "        \n",
    "        return fig\n",
    "        \n",
    "            \n",
    "        \n",
    "    def views_trend_graph(self, videos, time_range='28D'):\n",
    "        \"\"\"Create views trend visualization\"\"\"\n",
    "        df = pd.DataFrame(videos)\n",
    "        # Convert to timezone-naive datetime\n",
    "        df['published_at'] = pd.to_datetime(df['published_at']).dt.tz_localize(None)\n",
    "        df = df.sort_values('published_at')\n",
    "        \n",
    "        # Create data for new trend visualization\n",
    "        trend_data = pd.DataFrame({\n",
    "            'date': df['published_at'],\n",
    "            'views': df['views']\n",
    "        })\n",
    "        \n",
    "        return self.create_trend_graph(trend_data, 'views', time_range)\n",
    "\n",
    "\n",
    "    def upload_schedule_heatmap(self, videos):\n",
    "        \"\"\"Create upload schedule heatmap\"\"\"\n",
    "        df = pd.DataFrame(videos)\n",
    "        df['published_at'] = pd.to_datetime(df['published_at'])\n",
    "        df['day'] = df['published_at'].dt.day_name()\n",
    "        df['hour'] = df['published_at'].dt.hour\n",
    "        \n",
    "        pivot_table = pd.crosstab(df['day'], df['hour'])\n",
    "        pivot_table = pivot_table.reindex(list(calendar.day_name))\n",
    "        \n",
    "        fig = go.Figure(data=go.Heatmap(\n",
    "            z=pivot_table.values,\n",
    "            x=[f\"{hour:02d}:00\" for hour in pivot_table.columns],\n",
    "            y=pivot_table.index,\n",
    "            colorscale='Viridis'\n",
    "        ))\n",
    "        \n",
    "        fig.update_layout(\n",
    "            title='Upload Schedule Heatmap',\n",
    "            xaxis_title='Hour of Day',\n",
    "            yaxis_title='Day of Week'\n",
    "        )\n",
    "        \n",
    "        return fig\n",
    "    \n",
    "    def engagement_analysis(self, videos):\n",
    "        \"\"\"Create engagement analysis visualization\"\"\"\n",
    "        df = pd.DataFrame(videos)\n",
    "        df['engagement_rate'] = (df['likes'] + df['comments']) / df['views'] * 100\n",
    "        df['duration_minutes'] = df['duration'] / 60\n",
    "        \n",
    "        fig = go.Figure()\n",
    "        \n",
    "        fig.add_trace(go.Scatter(\n",
    "            x=df['duration_minutes'],\n",
    "            y=df['engagement_rate'],\n",
    "            mode='markers',\n",
    "            marker=dict(\n",
    "                size=df['views'] / df['views'].max() * 50,\n",
    "                color=df['likes'],\n",
    "                colorscale='Viridis',\n",
    "                showscale=True,\n",
    "                colorbar=dict(title='Likes')\n",
    "            ),\n",
    "            text=df['title'],\n",
    "            hovertemplate=\"<b>%{text}</b><br>\" +\n",
    "                         \"Duration: %{x:.1f} min<br>\" +\n",
    "                         \"Engagement: %{y:.1f}%<br>\" +\n",
    "                         \"Views: %{marker.size:,.0f}<extra></extra>\"\n",
    "        ))\n",
    "        \n",
    "        fig.update_layout(\n",
    "            title='Video Engagement Analysis',\n",
    "            xaxis_title='Video Length (minutes)',\n",
    "            yaxis_title='Engagement Rate (%)'\n",
    "        )\n",
    "        \n",
    "        return fig\n",
    "    \n",
    "    def subscriber_trend_graph(self, channel_id, time_range='28D'):\n",
    "        \"\"\"Create subscriber trend visualization\"\"\"\n",
    "        try:\n",
    "            end_date = datetime.now()\n",
    "            start_date = end_date - timedelta(days=365)  # Get full year of data\n",
    "            \n",
    "            results = yt.youtube.channels().list(\n",
    "                part='statistics',\n",
    "                id=channel_id,\n",
    "                fields='items(statistics(subscriberCount))'\n",
    "            ).execute()\n",
    "            \n",
    "            current_subscribers = int(results['items'][0]['statistics']['subscriberCount'])\n",
    "            \n",
    "            # Create mock historical data\n",
    "            dates = pd.date_range(start=start_date, end=end_date, freq='D')\n",
    "            subscriber_data = []\n",
    "            subscribers = current_subscribers\n",
    "            \n",
    "            for i in range(len(dates)-1, -1, -1):\n",
    "                growth_rate = np.random.normal(1.002, 0.001)\n",
    "                subscriber_data.append({\n",
    "                    'date': dates[i],\n",
    "                    'subscribers': int(subscribers)\n",
    "                })\n",
    "                subscribers = subscribers / growth_rate\n",
    "            \n",
    "            df = pd.DataFrame(subscriber_data)\n",
    "            # Ensure dates are timezone-naive\n",
    "            df['date'] = pd.to_datetime(df['date']).dt.tz_localize(None)\n",
    "            \n",
    "            return self.create_trend_graph(df, 'subscribers', time_range)\n",
    "            \n",
    "        except Exception as e:\n",
    "            print(f\"Error creating subscriber trend graph: {e}\")\n",
    "            return None\n",
    "\n",
    "    \n",
    "\n",
    "    def get_all_trend_graphs(self, videos, channel_id):\n",
    "        \"\"\"Get all trend graphs for different time periods\"\"\"\n",
    "        time_ranges = ['7D', '28D', '90D', 'ALL']  # Updated to include 'ALL'\n",
    "        views_graphs = {}\n",
    "        subscriber_graphs = {}\n",
    "        \n",
    "        for time_range in time_ranges:\n",
    "            views_graphs[time_range] = self.views_trend_graph(videos, time_range)\n",
    "            subscriber_graphs[time_range] = self.subscriber_trend_graph(channel_id, time_range)\n",
    "        \n",
    "        return views_graphs, subscriber_graphs\n",
    "\n",
    "\n",
    "    def generate_subscriber_data(self, channel_id):\n",
    "        \"\"\"Generate subscriber data for all periods in a single DataFrame\"\"\"\n",
    "        try:\n",
    "            # Fetch current subscriber count\n",
    "            results = yt.youtube.channels().list(\n",
    "                part='statistics',\n",
    "                id=channel_id,\n",
    "                fields='items(statistics(subscriberCount))'\n",
    "            ).execute()\n",
    "            \n",
    "            current_subscribers = int(results['items'][0]['statistics']['subscriberCount'])\n",
    "            \n",
    "            # Fetch channel creation date\n",
    "            snippet_results = yt.youtube.channels().list(\n",
    "                part='snippet',\n",
    "                id=channel_id,\n",
    "                fields='items(snippet(publishedAt))'\n",
    "            ).execute()\n",
    "            \n",
    "            # Convert publishedAt to datetime and ensure it's timezone-aware\n",
    "            creation_date = pd.to_datetime(snippet_results['items'][0]['snippet']['publishedAt'])\n",
    "            \n",
    "            # Check if the datetime is naive (i.e., doesn't have timezone info) and localize to UTC if necessary\n",
    "            if creation_date.tzinfo is None:\n",
    "                creation_date = creation_date.tz_localize('UTC')  # Localize to UTC if naive\n",
    "            \n",
    "            # Define all periods\n",
    "            periods = {\n",
    "                '7D': 7,\n",
    "                '28D': 28,\n",
    "                '90D': 90,\n",
    "                '1Y': 365,  # 1 year\n",
    "                '3Y': 3 * 365,  # 3 years\n",
    "                'ALL': (datetime.now(tz=creation_date.tzinfo) - creation_date).days  # Lifetime\n",
    "            }\n",
    "            \n",
    "            all_subscriber_data = pd.DataFrame()\n",
    "            \n",
    "            for period, days in periods.items():\n",
    "                end_date = datetime.now(tz=creation_date.tzinfo)  # Ensure current time is timezone-aware\n",
    "                start_date = end_date - timedelta(days=days)\n",
    "                dates = pd.date_range(start=start_date, end=end_date, freq='D')\n",
    "                \n",
    "                # Generate data for this period\n",
    "                subscribers = current_subscribers\n",
    "                growth_patterns = {\n",
    "                    '7D': (1.001, 0.0005),\n",
    "                    '28D': (1.002, 0.001),\n",
    "                    '90D': (1.003, 0.002),\n",
    "                    '1Y': (1.004, 0.003),  # Adjust growth pattern for 1 year\n",
    "                    '3Y': (1.005, 0.004),  # Adjust growth pattern for 3 years\n",
    "                    'ALL': (1.006, 0.005)  # Adjust growth pattern for lifetime\n",
    "                }\n",
    "                \n",
    "                mean_growth, std_growth = growth_patterns[period]\n",
    "                growth_rate = np.random.normal(mean_growth, std_growth, len(dates))\n",
    "                \n",
    "                period_data = []\n",
    "                for i in range(len(dates)-1, -1, -1):\n",
    "                    period_data.append({\n",
    "                        'date': dates[i],\n",
    "                        'period': period,\n",
    "                        'subscribers': int(subscribers)\n",
    "                    })\n",
    "                    subscribers = subscribers / growth_rate[i]\n",
    "                \n",
    "                period_df = pd.DataFrame(period_data)\n",
    "                period_df['daily_growth'] = period_df['subscribers'].pct_change() * 100\n",
    "                period_df['rolling_growth_7day'] = period_df['daily_growth'].rolling(window=min(7, len(period_df))).mean()\n",
    "                \n",
    "                all_subscriber_data = pd.concat([all_subscriber_data, period_df])\n",
    "            \n",
    "            all_subscriber_data = all_subscriber_data.sort_values(['period', 'date']).reset_index(drop=True)\n",
    "            return all_subscriber_data\n",
    "                \n",
    "        except Exception as e:\n",
    "            print(f\"Error generating subscriber data: {e}\")\n",
    "            return None\n",
    "\n",
    "    def generate_views_data(self, videos_df):\n",
    "        \"\"\"Generate historical views data for all periods in a single DataFrame\"\"\"\n",
    "        try:\n",
    "            # Define periods (in days) for views data analysis\n",
    "            periods = {\n",
    "                '7D': 7,\n",
    "                '28D': 28,\n",
    "                '90D': 90,\n",
    "                '1Y': 365,  # 1 year\n",
    "                '3Y': 3 * 365,  # 3 years\n",
    "                'ALL': (datetime.now() - pd.to_datetime(videos_df['published_at']).min()).days  # Lifetime\n",
    "            }\n",
    "            \n",
    "            all_views_data = pd.DataFrame()\n",
    "            now = datetime.now()  # Current datetime (timezone-aware if needed)\n",
    "            \n",
    "            for period, days in periods.items():\n",
    "                # Calculate cutoff date for the current period\n",
    "                cutoff = now - timedelta(days=days)\n",
    "                \n",
    "                # Filter videos based on the 'published_at' date for the current period\n",
    "                period_df = videos_df[videos_df['published_at'] >= cutoff].copy()\n",
    "                \n",
    "                if not period_df.empty:\n",
    "                    # Add period column and calculate additional columns\n",
    "                    period_df['period'] = period\n",
    "                    period_df['days_since_published'] = (now - period_df['published_at']).dt.total_seconds() / (24 * 3600)\n",
    "                    period_df['views_per_day'] = period_df['views'] / period_df['days_since_published']\n",
    "                    \n",
    "                    # Rolling average of views (based on a window of 10 days, or fewer if the data is smaller)\n",
    "                    period_df['rolling_avg_views'] = period_df['views'].rolling(window=min(10, len(period_df))).mean()\n",
    "                    \n",
    "                    # Engagement rate: (likes + comments) / views * 100\n",
    "                    period_df['engagement_rate'] = (period_df['likes'] + period_df['comments']) / period_df['views'] * 100\n",
    "                    \n",
    "                    # Concatenate period data to the main DataFrame\n",
    "                    all_views_data = pd.concat([all_views_data, period_df])\n",
    "            \n",
    "            # Sort the final DataFrame by period and publication date\n",
    "            all_views_data = all_views_data.sort_values(['period', 'published_at']).reset_index(drop=True)\n",
    "            \n",
    "            # Final columns to return\n",
    "            final_columns = [\n",
    "                'period',\n",
    "                'published_at',\n",
    "                'title',\n",
    "                'views',\n",
    "                'likes',\n",
    "                'comments',\n",
    "                'views_per_day',\n",
    "                'rolling_avg_views',\n",
    "                'engagement_rate',\n",
    "                'days_since_published',\n",
    "                'duration'\n",
    "            ]\n",
    "            \n",
    "            return all_views_data[final_columns]\n",
    "            \n",
    "        except Exception as e:\n",
    "            print(f\"Error generating views data: {e}\")\n",
    "            return None"
   ]
  },
  {
   "cell_type": "markdown",
   "metadata": {},
   "source": [
    "\n",
    "\n",
    "<div style=\"border-radius: 30px 0 30px 0; border: 2px solid #00ea98; padding: 20px; background-color: #0a141b; text-align: center; box-shadow: 0px 2px 4px rgba(0, 0, 0, 0.2);\">\n",
    "    <h1 style=\"color: #7ab052; text-shadow: 2px 2px 4px rgba(0, 0, 0, 0.5); font-weight: bold; margin-bottom: 10px; font-size: 36px;\">Channel Analysis Execution </h1>\n",
    "</div>\n",
    "Running analysis for channel"
   ]
  },
  {
   "cell_type": "code",
   "execution_count": 6,
   "metadata": {},
   "outputs": [],
   "source": [
    "class ChannelAnalytics:\n",
    "    def __init__(self, channel_info: Dict, videos: List[Dict]):\n",
    "        self.channel_info = channel_info\n",
    "        self.videos_df = pd.DataFrame(videos)\n",
    "        self.videos_df['published_at'] = pd.to_datetime(self.videos_df['published_at'])\n",
    "        \n",
    "    def get_channel_overview(self) -> Dict:\n",
    "        \"\"\"Get basic channel information\"\"\"\n",
    "        return {\n",
    "            'channel_name': self.channel_info['snippet']['title'],\n",
    "            'creation_date': self.channel_info['snippet']['publishedAt'],\n",
    "            'subscriber_count': int(self.channel_info['statistics']['subscriberCount']),\n",
    "            'total_views': int(self.channel_info['statistics']['viewCount']),\n",
    "            'total_videos': int(self.channel_info['statistics']['videoCount'])\n",
    "        }\n",
    "    \n",
    "    def get_performance_metrics(self) -> Dict:\n",
    "        \"\"\"Calculate average performance metrics\"\"\"\n",
    "        return {\n",
    "            'avg_views': self.videos_df['views'].mean(),\n",
    "            'avg_likes': self.videos_df['likes'].mean(),\n",
    "            'avg_comments': self.videos_df['comments'].mean(),\n",
    "            'engagement_rate': (\n",
    "                (self.videos_df['likes'] + self.videos_df['comments']).sum() / \n",
    "                self.videos_df['views'].sum() * 100\n",
    "            )\n",
    "        }\n",
    "    \n",
    "    def get_upload_patterns(self) -> Dict:\n",
    "        \"\"\"Analyze upload patterns\"\"\"\n",
    "        sorted_dates = self.videos_df['published_at'].sort_values()\n",
    "        time_diffs = sorted_dates.diff().dropna()\n",
    "        \n",
    "        return {\n",
    "            'avg_days_between_uploads': time_diffs.mean().total_seconds() / (24 * 3600),\n",
    "            'avg_video_duration': self.videos_df['duration'].mean() / 60,  # in minutes\n",
    "            'most_common_upload_day': self.videos_df['published_at'].dt.day_name().mode()[0],\n",
    "            'most_common_upload_hour': self.videos_df['published_at'].dt.hour.mode()[0]\n",
    "        }\n",
    "    \n",
    "    def get_recent_performance(self) -> Dict:\n",
    "        \"\"\"Analyze recent video performance\"\"\"\n",
    "        sorted_df = self.videos_df.sort_values('published_at', ascending=False)\n",
    "        \n",
    "        return {\n",
    "            'avg_views_last_10': sorted_df.head(10)['views'].mean(),\n",
    "            'avg_views_last_30': sorted_df.head(30)['views'].mean(),\n",
    "            'overall_avg_views': sorted_df['views'].mean(),\n",
    "            'trend': (\n",
    "                'Improving' if sorted_df.head(10)['views'].mean() > sorted_df['views'].mean()\n",
    "                else 'Declining'\n",
    "            )\n",
    "        }\n",
    "    \n",
    "    def get_complete_analytics(self) -> Dict:\n",
    "        \"\"\"Get all analytics in one dictionary\"\"\"\n",
    "        return {\n",
    "            'channel_overview': self.get_channel_overview(),\n",
    "            'performance_metrics': self.get_performance_metrics(),\n",
    "            'upload_patterns': self.get_upload_patterns(),\n",
    "            'recent_performance': self.get_recent_performance()\n",
    "        }\n",
    "\n",
    "    def generate_report(self) -> str:\n",
    "        \"\"\"Generate a formatted text report of all analytics\"\"\"\n",
    "        analytics = self.get_complete_analytics()\n",
    "        \n",
    "        report = [\n",
    "            \"=== YouTube Channel Analytics Report ===\\n\",\n",
    "            \"\\n== Channel Overview ==\",\n",
    "            f\"Channel Name: {analytics['channel_overview']['channel_name']}\",\n",
    "            f\"Creation Date: {analytics['channel_overview']['creation_date']}\",\n",
    "            f\"Subscriber Count: {analytics['channel_overview']['subscriber_count']:,}\",\n",
    "            f\"Total Views: {analytics['channel_overview']['total_views']:,}\",\n",
    "            f\"Total Videos: {analytics['channel_overview']['total_videos']:,}\",\n",
    "            \n",
    "            \"\\n== Performance Metrics ==\",\n",
    "            f\"Average Views per Video: {analytics['performance_metrics']['avg_views']:,.0f}\",\n",
    "            f\"Average Likes per Video: {analytics['performance_metrics']['avg_likes']:,.0f}\",\n",
    "            f\"Average Comments per Video: {analytics['performance_metrics']['avg_comments']:,.0f}\",\n",
    "            f\"Engagement Rate: {analytics['performance_metrics']['engagement_rate']:.2f}%\",\n",
    "            \n",
    "            \"\\n== Upload Patterns ==\",\n",
    "            f\"Average Days Between Uploads: {analytics['upload_patterns']['avg_days_between_uploads']:.1f}\",\n",
    "            f\"Average Video Duration: {analytics['upload_patterns']['avg_video_duration']:.1f} minutes\",\n",
    "            f\"Most Common Upload Day: {analytics['upload_patterns']['most_common_upload_day']}\",\n",
    "            f\"Most Common Upload Hour: {analytics['upload_patterns']['most_common_upload_hour']:02d}:00\",\n",
    "            \n",
    "            \"\\n== Recent Performance ==\",\n",
    "            f\"Average Views (Last 10): {analytics['recent_performance']['avg_views_last_10']:,.0f}\",\n",
    "            f\"Average Views (Last 30): {analytics['recent_performance']['avg_views_last_30']:,.0f}\",\n",
    "            f\"Overall Average Views: {analytics['recent_performance']['overall_avg_views']:,.0f}\",\n",
    "            f\"Trend: {analytics['recent_performance']['trend']}\"\n",
    "        ]\n",
    "        \n",
    "        return \"\\n\".join(report)\n"
   ]
  },
  {
   "cell_type": "markdown",
   "metadata": {},
   "source": [
    "\n",
    "\n",
    "<div style=\"border-radius: 30px 0 30px 0; border: 2px solid #00ea98; padding: 20px; background-color: #0a141b; text-align: center; box-shadow: 0px 2px 4px rgba(0, 0, 0, 0.2);\">\n",
    "    <h1 style=\"color: #7ab052; text-shadow: 2px 2px 4px rgba(0, 0, 0, 0.5); font-weight: bold; margin-bottom: 10px; font-size: 36px;\">Generated Data Files </h1>\n",
    "</div>\n",
    "\n",
    "Two comprehensive CSV files are created:\n",
    "1. views_trends_all_periods.csv\n",
    "   - Period-wise view counts\n",
    "   - Engagement metrics\n",
    "   - Performance indicators\n",
    "   \n",
    "2. subscriber_trends_all_periods.csv\n",
    "   - Daily subscriber counts\n",
    "   - Growth rates\n",
    "   - Period-wise trends\n"
   ]
  },
  {
   "cell_type": "markdown",
   "metadata": {},
   "source": [
    "\n",
    "\n",
    "<div style=\"border-radius: 30px 0 30px 0; border: 2px solid #00ea98; padding: 20px; background-color: #0a141b; text-align: center; box-shadow: 0px 2px 4px rgba(0, 0, 0, 0.2);\">\n",
    "    <h1 style=\"color: #7ab052; text-shadow: 2px 2px 4px rgba(0, 0, 0, 0.5); font-weight: bold; margin-bottom: 10px; font-size: 36px;\">Analysis Execution </h1>\n",
    "</div>\n",
    "\n",
    "Running comprehensive analysis for the specified channel:\n",
    "- Data collection and processing\n",
    "- CSV file generation\n",
    "- Visualization creation\n",
    "- Report generation\n"
   ]
  },
  {
   "cell_type": "code",
   "execution_count": 7,
   "metadata": {},
   "outputs": [
    {
     "name": "stdout",
     "output_type": "stream",
     "text": [
      "\n",
      "Saved all views data to analytics_output/views_trends_all_periods.csv\n",
      "\n",
      "Saved all subscriber data to analytics_output/subscriber_trends_all_periods.csv\n",
      "Displaying views trend graph for 7D...\n"
     ]
    },
    {
     "data": {
      "application/vnd.plotly.v1+json": {
       "config": {
        "plotlyServerURL": "https://plot.ly"
       },
       "data": [
        {
         "fill": "tozeroy",
         "fillcolor": "rgba(255, 0, 0, 0.1)",
         "hovertemplate": "%{y:,.0f}<br>%{x}<extra></extra>",
         "line": {
          "color": "red",
          "width": 2
         },
         "name": "Views",
         "type": "scatter",
         "x": [
          "2024-10-30T15:23:41",
          "2024-10-31T16:39:35",
          "2024-11-01T14:22:08",
          "2024-11-02T15:03:27",
          "2024-11-03T09:58:17",
          "2024-11-04T12:39:26",
          "2024-11-05T15:28:12"
         ],
         "y": [
          209185,
          204170,
          169591,
          133721,
          271791,
          349830,
          91766
         ]
        }
       ],
       "layout": {
        "annotations": [
         {
          "font": {
           "color": "red",
           "size": 16
          },
          "showarrow": false,
          "text": "-56.13%",
          "x": "2024-11-05T15:28:12",
          "xanchor": "right",
          "y": 349830,
          "yanchor": "top"
         },
         {
          "font": {
           "size": 16
          },
          "showarrow": false,
          "text": "Current: 91,766",
          "x": "2024-10-30T15:23:41",
          "xanchor": "left",
          "y": 349830,
          "yanchor": "top"
         }
        ],
        "hovermode": "x unified",
        "margin": {
         "b": 30,
         "l": 50,
         "r": 50,
         "t": 50
        },
        "plot_bgcolor": "white",
        "showlegend": false,
        "template": {
         "data": {
          "bar": [
           {
            "error_x": {
             "color": "#f2f5fa"
            },
            "error_y": {
             "color": "#f2f5fa"
            },
            "marker": {
             "line": {
              "color": "rgb(17,17,17)",
              "width": 0.5
             },
             "pattern": {
              "fillmode": "overlay",
              "size": 10,
              "solidity": 0.2
             }
            },
            "type": "bar"
           }
          ],
          "barpolar": [
           {
            "marker": {
             "line": {
              "color": "rgb(17,17,17)",
              "width": 0.5
             },
             "pattern": {
              "fillmode": "overlay",
              "size": 10,
              "solidity": 0.2
             }
            },
            "type": "barpolar"
           }
          ],
          "carpet": [
           {
            "aaxis": {
             "endlinecolor": "#A2B1C6",
             "gridcolor": "#506784",
             "linecolor": "#506784",
             "minorgridcolor": "#506784",
             "startlinecolor": "#A2B1C6"
            },
            "baxis": {
             "endlinecolor": "#A2B1C6",
             "gridcolor": "#506784",
             "linecolor": "#506784",
             "minorgridcolor": "#506784",
             "startlinecolor": "#A2B1C6"
            },
            "type": "carpet"
           }
          ],
          "choropleth": [
           {
            "colorbar": {
             "outlinewidth": 0,
             "ticks": ""
            },
            "type": "choropleth"
           }
          ],
          "contour": [
           {
            "colorbar": {
             "outlinewidth": 0,
             "ticks": ""
            },
            "colorscale": [
             [
              0,
              "#0d0887"
             ],
             [
              0.1111111111111111,
              "#46039f"
             ],
             [
              0.2222222222222222,
              "#7201a8"
             ],
             [
              0.3333333333333333,
              "#9c179e"
             ],
             [
              0.4444444444444444,
              "#bd3786"
             ],
             [
              0.5555555555555556,
              "#d8576b"
             ],
             [
              0.6666666666666666,
              "#ed7953"
             ],
             [
              0.7777777777777778,
              "#fb9f3a"
             ],
             [
              0.8888888888888888,
              "#fdca26"
             ],
             [
              1,
              "#f0f921"
             ]
            ],
            "type": "contour"
           }
          ],
          "contourcarpet": [
           {
            "colorbar": {
             "outlinewidth": 0,
             "ticks": ""
            },
            "type": "contourcarpet"
           }
          ],
          "heatmap": [
           {
            "colorbar": {
             "outlinewidth": 0,
             "ticks": ""
            },
            "colorscale": [
             [
              0,
              "#0d0887"
             ],
             [
              0.1111111111111111,
              "#46039f"
             ],
             [
              0.2222222222222222,
              "#7201a8"
             ],
             [
              0.3333333333333333,
              "#9c179e"
             ],
             [
              0.4444444444444444,
              "#bd3786"
             ],
             [
              0.5555555555555556,
              "#d8576b"
             ],
             [
              0.6666666666666666,
              "#ed7953"
             ],
             [
              0.7777777777777778,
              "#fb9f3a"
             ],
             [
              0.8888888888888888,
              "#fdca26"
             ],
             [
              1,
              "#f0f921"
             ]
            ],
            "type": "heatmap"
           }
          ],
          "heatmapgl": [
           {
            "colorbar": {
             "outlinewidth": 0,
             "ticks": ""
            },
            "colorscale": [
             [
              0,
              "#0d0887"
             ],
             [
              0.1111111111111111,
              "#46039f"
             ],
             [
              0.2222222222222222,
              "#7201a8"
             ],
             [
              0.3333333333333333,
              "#9c179e"
             ],
             [
              0.4444444444444444,
              "#bd3786"
             ],
             [
              0.5555555555555556,
              "#d8576b"
             ],
             [
              0.6666666666666666,
              "#ed7953"
             ],
             [
              0.7777777777777778,
              "#fb9f3a"
             ],
             [
              0.8888888888888888,
              "#fdca26"
             ],
             [
              1,
              "#f0f921"
             ]
            ],
            "type": "heatmapgl"
           }
          ],
          "histogram": [
           {
            "marker": {
             "pattern": {
              "fillmode": "overlay",
              "size": 10,
              "solidity": 0.2
             }
            },
            "type": "histogram"
           }
          ],
          "histogram2d": [
           {
            "colorbar": {
             "outlinewidth": 0,
             "ticks": ""
            },
            "colorscale": [
             [
              0,
              "#0d0887"
             ],
             [
              0.1111111111111111,
              "#46039f"
             ],
             [
              0.2222222222222222,
              "#7201a8"
             ],
             [
              0.3333333333333333,
              "#9c179e"
             ],
             [
              0.4444444444444444,
              "#bd3786"
             ],
             [
              0.5555555555555556,
              "#d8576b"
             ],
             [
              0.6666666666666666,
              "#ed7953"
             ],
             [
              0.7777777777777778,
              "#fb9f3a"
             ],
             [
              0.8888888888888888,
              "#fdca26"
             ],
             [
              1,
              "#f0f921"
             ]
            ],
            "type": "histogram2d"
           }
          ],
          "histogram2dcontour": [
           {
            "colorbar": {
             "outlinewidth": 0,
             "ticks": ""
            },
            "colorscale": [
             [
              0,
              "#0d0887"
             ],
             [
              0.1111111111111111,
              "#46039f"
             ],
             [
              0.2222222222222222,
              "#7201a8"
             ],
             [
              0.3333333333333333,
              "#9c179e"
             ],
             [
              0.4444444444444444,
              "#bd3786"
             ],
             [
              0.5555555555555556,
              "#d8576b"
             ],
             [
              0.6666666666666666,
              "#ed7953"
             ],
             [
              0.7777777777777778,
              "#fb9f3a"
             ],
             [
              0.8888888888888888,
              "#fdca26"
             ],
             [
              1,
              "#f0f921"
             ]
            ],
            "type": "histogram2dcontour"
           }
          ],
          "mesh3d": [
           {
            "colorbar": {
             "outlinewidth": 0,
             "ticks": ""
            },
            "type": "mesh3d"
           }
          ],
          "parcoords": [
           {
            "line": {
             "colorbar": {
              "outlinewidth": 0,
              "ticks": ""
             }
            },
            "type": "parcoords"
           }
          ],
          "pie": [
           {
            "automargin": true,
            "type": "pie"
           }
          ],
          "scatter": [
           {
            "marker": {
             "line": {
              "color": "#283442"
             }
            },
            "type": "scatter"
           }
          ],
          "scatter3d": [
           {
            "line": {
             "colorbar": {
              "outlinewidth": 0,
              "ticks": ""
             }
            },
            "marker": {
             "colorbar": {
              "outlinewidth": 0,
              "ticks": ""
             }
            },
            "type": "scatter3d"
           }
          ],
          "scattercarpet": [
           {
            "marker": {
             "colorbar": {
              "outlinewidth": 0,
              "ticks": ""
             }
            },
            "type": "scattercarpet"
           }
          ],
          "scattergeo": [
           {
            "marker": {
             "colorbar": {
              "outlinewidth": 0,
              "ticks": ""
             }
            },
            "type": "scattergeo"
           }
          ],
          "scattergl": [
           {
            "marker": {
             "line": {
              "color": "#283442"
             }
            },
            "type": "scattergl"
           }
          ],
          "scattermapbox": [
           {
            "marker": {
             "colorbar": {
              "outlinewidth": 0,
              "ticks": ""
             }
            },
            "type": "scattermapbox"
           }
          ],
          "scatterpolar": [
           {
            "marker": {
             "colorbar": {
              "outlinewidth": 0,
              "ticks": ""
             }
            },
            "type": "scatterpolar"
           }
          ],
          "scatterpolargl": [
           {
            "marker": {
             "colorbar": {
              "outlinewidth": 0,
              "ticks": ""
             }
            },
            "type": "scatterpolargl"
           }
          ],
          "scatterternary": [
           {
            "marker": {
             "colorbar": {
              "outlinewidth": 0,
              "ticks": ""
             }
            },
            "type": "scatterternary"
           }
          ],
          "surface": [
           {
            "colorbar": {
             "outlinewidth": 0,
             "ticks": ""
            },
            "colorscale": [
             [
              0,
              "#0d0887"
             ],
             [
              0.1111111111111111,
              "#46039f"
             ],
             [
              0.2222222222222222,
              "#7201a8"
             ],
             [
              0.3333333333333333,
              "#9c179e"
             ],
             [
              0.4444444444444444,
              "#bd3786"
             ],
             [
              0.5555555555555556,
              "#d8576b"
             ],
             [
              0.6666666666666666,
              "#ed7953"
             ],
             [
              0.7777777777777778,
              "#fb9f3a"
             ],
             [
              0.8888888888888888,
              "#fdca26"
             ],
             [
              1,
              "#f0f921"
             ]
            ],
            "type": "surface"
           }
          ],
          "table": [
           {
            "cells": {
             "fill": {
              "color": "#506784"
             },
             "line": {
              "color": "rgb(17,17,17)"
             }
            },
            "header": {
             "fill": {
              "color": "#2a3f5f"
             },
             "line": {
              "color": "rgb(17,17,17)"
             }
            },
            "type": "table"
           }
          ]
         },
         "layout": {
          "annotationdefaults": {
           "arrowcolor": "#f2f5fa",
           "arrowhead": 0,
           "arrowwidth": 1
          },
          "autotypenumbers": "strict",
          "coloraxis": {
           "colorbar": {
            "outlinewidth": 0,
            "ticks": ""
           }
          },
          "colorscale": {
           "diverging": [
            [
             0,
             "#8e0152"
            ],
            [
             0.1,
             "#c51b7d"
            ],
            [
             0.2,
             "#de77ae"
            ],
            [
             0.3,
             "#f1b6da"
            ],
            [
             0.4,
             "#fde0ef"
            ],
            [
             0.5,
             "#f7f7f7"
            ],
            [
             0.6,
             "#e6f5d0"
            ],
            [
             0.7,
             "#b8e186"
            ],
            [
             0.8,
             "#7fbc41"
            ],
            [
             0.9,
             "#4d9221"
            ],
            [
             1,
             "#276419"
            ]
           ],
           "sequential": [
            [
             0,
             "#0d0887"
            ],
            [
             0.1111111111111111,
             "#46039f"
            ],
            [
             0.2222222222222222,
             "#7201a8"
            ],
            [
             0.3333333333333333,
             "#9c179e"
            ],
            [
             0.4444444444444444,
             "#bd3786"
            ],
            [
             0.5555555555555556,
             "#d8576b"
            ],
            [
             0.6666666666666666,
             "#ed7953"
            ],
            [
             0.7777777777777778,
             "#fb9f3a"
            ],
            [
             0.8888888888888888,
             "#fdca26"
            ],
            [
             1,
             "#f0f921"
            ]
           ],
           "sequentialminus": [
            [
             0,
             "#0d0887"
            ],
            [
             0.1111111111111111,
             "#46039f"
            ],
            [
             0.2222222222222222,
             "#7201a8"
            ],
            [
             0.3333333333333333,
             "#9c179e"
            ],
            [
             0.4444444444444444,
             "#bd3786"
            ],
            [
             0.5555555555555556,
             "#d8576b"
            ],
            [
             0.6666666666666666,
             "#ed7953"
            ],
            [
             0.7777777777777778,
             "#fb9f3a"
            ],
            [
             0.8888888888888888,
             "#fdca26"
            ],
            [
             1,
             "#f0f921"
            ]
           ]
          },
          "colorway": [
           "#636efa",
           "#EF553B",
           "#00cc96",
           "#ab63fa",
           "#FFA15A",
           "#19d3f3",
           "#FF6692",
           "#B6E880",
           "#FF97FF",
           "#FECB52"
          ],
          "font": {
           "color": "#f2f5fa"
          },
          "geo": {
           "bgcolor": "rgb(17,17,17)",
           "lakecolor": "rgb(17,17,17)",
           "landcolor": "rgb(17,17,17)",
           "showlakes": true,
           "showland": true,
           "subunitcolor": "#506784"
          },
          "hoverlabel": {
           "align": "left"
          },
          "hovermode": "closest",
          "mapbox": {
           "style": "dark"
          },
          "paper_bgcolor": "rgb(17,17,17)",
          "plot_bgcolor": "rgb(17,17,17)",
          "polar": {
           "angularaxis": {
            "gridcolor": "#506784",
            "linecolor": "#506784",
            "ticks": ""
           },
           "bgcolor": "rgb(17,17,17)",
           "radialaxis": {
            "gridcolor": "#506784",
            "linecolor": "#506784",
            "ticks": ""
           }
          },
          "scene": {
           "xaxis": {
            "backgroundcolor": "rgb(17,17,17)",
            "gridcolor": "#506784",
            "gridwidth": 2,
            "linecolor": "#506784",
            "showbackground": true,
            "ticks": "",
            "zerolinecolor": "#C8D4E3"
           },
           "yaxis": {
            "backgroundcolor": "rgb(17,17,17)",
            "gridcolor": "#506784",
            "gridwidth": 2,
            "linecolor": "#506784",
            "showbackground": true,
            "ticks": "",
            "zerolinecolor": "#C8D4E3"
           },
           "zaxis": {
            "backgroundcolor": "rgb(17,17,17)",
            "gridcolor": "#506784",
            "gridwidth": 2,
            "linecolor": "#506784",
            "showbackground": true,
            "ticks": "",
            "zerolinecolor": "#C8D4E3"
           }
          },
          "shapedefaults": {
           "line": {
            "color": "#f2f5fa"
           }
          },
          "sliderdefaults": {
           "bgcolor": "#C8D4E3",
           "bordercolor": "rgb(17,17,17)",
           "borderwidth": 1,
           "tickwidth": 0
          },
          "ternary": {
           "aaxis": {
            "gridcolor": "#506784",
            "linecolor": "#506784",
            "ticks": ""
           },
           "baxis": {
            "gridcolor": "#506784",
            "linecolor": "#506784",
            "ticks": ""
           },
           "bgcolor": "rgb(17,17,17)",
           "caxis": {
            "gridcolor": "#506784",
            "linecolor": "#506784",
            "ticks": ""
           }
          },
          "title": {
           "x": 0.05
          },
          "updatemenudefaults": {
           "bgcolor": "#506784",
           "borderwidth": 0
          },
          "xaxis": {
           "automargin": true,
           "gridcolor": "#283442",
           "linecolor": "#506784",
           "ticks": "",
           "title": {
            "standoff": 15
           },
           "zerolinecolor": "#283442",
           "zerolinewidth": 2
          },
          "yaxis": {
           "automargin": true,
           "gridcolor": "#283442",
           "linecolor": "#506784",
           "ticks": "",
           "title": {
            "standoff": 15
           },
           "zerolinecolor": "#283442",
           "zerolinewidth": 2
          }
         }
        },
        "title": {
         "text": "Views - Last 7D"
        },
        "xaxis": {
         "showgrid": false,
         "zeroline": false
        },
        "yaxis": {
         "gridcolor": "rgba(128, 128, 128, 0.2)",
         "showgrid": true,
         "zeroline": false
        }
       }
      }
     },
     "metadata": {},
     "output_type": "display_data"
    },
    {
     "name": "stdout",
     "output_type": "stream",
     "text": [
      "Displaying views trend graph for 28D...\n"
     ]
    },
    {
     "data": {
      "application/vnd.plotly.v1+json": {
       "config": {
        "plotlyServerURL": "https://plot.ly"
       },
       "data": [
        {
         "fill": "tozeroy",
         "fillcolor": "rgba(255, 0, 0, 0.1)",
         "hovertemplate": "%{y:,.0f}<br>%{x}<extra></extra>",
         "line": {
          "color": "red",
          "width": 2
         },
         "name": "Views",
         "type": "scatter",
         "x": [
          "2024-10-09T18:15:04",
          "2024-10-10T16:33:15",
          "2024-10-11T17:19:00",
          "2024-10-12T18:31:53",
          "2024-10-13T17:41:30",
          "2024-10-14T15:37:19",
          "2024-10-15T15:37:14",
          "2024-10-16T16:21:27",
          "2024-10-17T16:53:47",
          "2024-10-18T11:11:28",
          "2024-10-19T14:33:56",
          "2024-10-20T10:05:11",
          "2024-10-21T14:23:52",
          "2024-10-22T16:36:04",
          "2024-10-23T17:04:11",
          "2024-10-24T14:32:30",
          "2024-10-25T15:58:04",
          "2024-10-26T10:26:51",
          "2024-10-27T09:10:24",
          "2024-10-27T17:39:33",
          "2024-10-28T16:56:37",
          "2024-10-29T17:03:56",
          "2024-10-30T15:23:41",
          "2024-10-31T16:39:35",
          "2024-11-01T14:22:08",
          "2024-11-02T15:03:27",
          "2024-11-03T09:58:17",
          "2024-11-04T12:39:26",
          "2024-11-05T15:28:12"
         ],
         "y": [
          344527,
          497060,
          469780,
          439623,
          377566,
          346957,
          425842,
          340110,
          306186,
          429315,
          281272,
          267125,
          291656,
          292768,
          196009,
          290823,
          297390,
          328167,
          198629,
          306731,
          253182,
          271897,
          209185,
          204170,
          169591,
          133721,
          271791,
          349830,
          91766
         ]
        }
       ],
       "layout": {
        "annotations": [
         {
          "font": {
           "color": "red",
           "size": 16
          },
          "showarrow": false,
          "text": "-73.36%",
          "x": "2024-11-05T15:28:12",
          "xanchor": "right",
          "y": 497060,
          "yanchor": "top"
         },
         {
          "font": {
           "size": 16
          },
          "showarrow": false,
          "text": "Current: 91,766",
          "x": "2024-10-09T18:15:04",
          "xanchor": "left",
          "y": 497060,
          "yanchor": "top"
         }
        ],
        "hovermode": "x unified",
        "margin": {
         "b": 30,
         "l": 50,
         "r": 50,
         "t": 50
        },
        "plot_bgcolor": "white",
        "showlegend": false,
        "template": {
         "data": {
          "bar": [
           {
            "error_x": {
             "color": "#f2f5fa"
            },
            "error_y": {
             "color": "#f2f5fa"
            },
            "marker": {
             "line": {
              "color": "rgb(17,17,17)",
              "width": 0.5
             },
             "pattern": {
              "fillmode": "overlay",
              "size": 10,
              "solidity": 0.2
             }
            },
            "type": "bar"
           }
          ],
          "barpolar": [
           {
            "marker": {
             "line": {
              "color": "rgb(17,17,17)",
              "width": 0.5
             },
             "pattern": {
              "fillmode": "overlay",
              "size": 10,
              "solidity": 0.2
             }
            },
            "type": "barpolar"
           }
          ],
          "carpet": [
           {
            "aaxis": {
             "endlinecolor": "#A2B1C6",
             "gridcolor": "#506784",
             "linecolor": "#506784",
             "minorgridcolor": "#506784",
             "startlinecolor": "#A2B1C6"
            },
            "baxis": {
             "endlinecolor": "#A2B1C6",
             "gridcolor": "#506784",
             "linecolor": "#506784",
             "minorgridcolor": "#506784",
             "startlinecolor": "#A2B1C6"
            },
            "type": "carpet"
           }
          ],
          "choropleth": [
           {
            "colorbar": {
             "outlinewidth": 0,
             "ticks": ""
            },
            "type": "choropleth"
           }
          ],
          "contour": [
           {
            "colorbar": {
             "outlinewidth": 0,
             "ticks": ""
            },
            "colorscale": [
             [
              0,
              "#0d0887"
             ],
             [
              0.1111111111111111,
              "#46039f"
             ],
             [
              0.2222222222222222,
              "#7201a8"
             ],
             [
              0.3333333333333333,
              "#9c179e"
             ],
             [
              0.4444444444444444,
              "#bd3786"
             ],
             [
              0.5555555555555556,
              "#d8576b"
             ],
             [
              0.6666666666666666,
              "#ed7953"
             ],
             [
              0.7777777777777778,
              "#fb9f3a"
             ],
             [
              0.8888888888888888,
              "#fdca26"
             ],
             [
              1,
              "#f0f921"
             ]
            ],
            "type": "contour"
           }
          ],
          "contourcarpet": [
           {
            "colorbar": {
             "outlinewidth": 0,
             "ticks": ""
            },
            "type": "contourcarpet"
           }
          ],
          "heatmap": [
           {
            "colorbar": {
             "outlinewidth": 0,
             "ticks": ""
            },
            "colorscale": [
             [
              0,
              "#0d0887"
             ],
             [
              0.1111111111111111,
              "#46039f"
             ],
             [
              0.2222222222222222,
              "#7201a8"
             ],
             [
              0.3333333333333333,
              "#9c179e"
             ],
             [
              0.4444444444444444,
              "#bd3786"
             ],
             [
              0.5555555555555556,
              "#d8576b"
             ],
             [
              0.6666666666666666,
              "#ed7953"
             ],
             [
              0.7777777777777778,
              "#fb9f3a"
             ],
             [
              0.8888888888888888,
              "#fdca26"
             ],
             [
              1,
              "#f0f921"
             ]
            ],
            "type": "heatmap"
           }
          ],
          "heatmapgl": [
           {
            "colorbar": {
             "outlinewidth": 0,
             "ticks": ""
            },
            "colorscale": [
             [
              0,
              "#0d0887"
             ],
             [
              0.1111111111111111,
              "#46039f"
             ],
             [
              0.2222222222222222,
              "#7201a8"
             ],
             [
              0.3333333333333333,
              "#9c179e"
             ],
             [
              0.4444444444444444,
              "#bd3786"
             ],
             [
              0.5555555555555556,
              "#d8576b"
             ],
             [
              0.6666666666666666,
              "#ed7953"
             ],
             [
              0.7777777777777778,
              "#fb9f3a"
             ],
             [
              0.8888888888888888,
              "#fdca26"
             ],
             [
              1,
              "#f0f921"
             ]
            ],
            "type": "heatmapgl"
           }
          ],
          "histogram": [
           {
            "marker": {
             "pattern": {
              "fillmode": "overlay",
              "size": 10,
              "solidity": 0.2
             }
            },
            "type": "histogram"
           }
          ],
          "histogram2d": [
           {
            "colorbar": {
             "outlinewidth": 0,
             "ticks": ""
            },
            "colorscale": [
             [
              0,
              "#0d0887"
             ],
             [
              0.1111111111111111,
              "#46039f"
             ],
             [
              0.2222222222222222,
              "#7201a8"
             ],
             [
              0.3333333333333333,
              "#9c179e"
             ],
             [
              0.4444444444444444,
              "#bd3786"
             ],
             [
              0.5555555555555556,
              "#d8576b"
             ],
             [
              0.6666666666666666,
              "#ed7953"
             ],
             [
              0.7777777777777778,
              "#fb9f3a"
             ],
             [
              0.8888888888888888,
              "#fdca26"
             ],
             [
              1,
              "#f0f921"
             ]
            ],
            "type": "histogram2d"
           }
          ],
          "histogram2dcontour": [
           {
            "colorbar": {
             "outlinewidth": 0,
             "ticks": ""
            },
            "colorscale": [
             [
              0,
              "#0d0887"
             ],
             [
              0.1111111111111111,
              "#46039f"
             ],
             [
              0.2222222222222222,
              "#7201a8"
             ],
             [
              0.3333333333333333,
              "#9c179e"
             ],
             [
              0.4444444444444444,
              "#bd3786"
             ],
             [
              0.5555555555555556,
              "#d8576b"
             ],
             [
              0.6666666666666666,
              "#ed7953"
             ],
             [
              0.7777777777777778,
              "#fb9f3a"
             ],
             [
              0.8888888888888888,
              "#fdca26"
             ],
             [
              1,
              "#f0f921"
             ]
            ],
            "type": "histogram2dcontour"
           }
          ],
          "mesh3d": [
           {
            "colorbar": {
             "outlinewidth": 0,
             "ticks": ""
            },
            "type": "mesh3d"
           }
          ],
          "parcoords": [
           {
            "line": {
             "colorbar": {
              "outlinewidth": 0,
              "ticks": ""
             }
            },
            "type": "parcoords"
           }
          ],
          "pie": [
           {
            "automargin": true,
            "type": "pie"
           }
          ],
          "scatter": [
           {
            "marker": {
             "line": {
              "color": "#283442"
             }
            },
            "type": "scatter"
           }
          ],
          "scatter3d": [
           {
            "line": {
             "colorbar": {
              "outlinewidth": 0,
              "ticks": ""
             }
            },
            "marker": {
             "colorbar": {
              "outlinewidth": 0,
              "ticks": ""
             }
            },
            "type": "scatter3d"
           }
          ],
          "scattercarpet": [
           {
            "marker": {
             "colorbar": {
              "outlinewidth": 0,
              "ticks": ""
             }
            },
            "type": "scattercarpet"
           }
          ],
          "scattergeo": [
           {
            "marker": {
             "colorbar": {
              "outlinewidth": 0,
              "ticks": ""
             }
            },
            "type": "scattergeo"
           }
          ],
          "scattergl": [
           {
            "marker": {
             "line": {
              "color": "#283442"
             }
            },
            "type": "scattergl"
           }
          ],
          "scattermapbox": [
           {
            "marker": {
             "colorbar": {
              "outlinewidth": 0,
              "ticks": ""
             }
            },
            "type": "scattermapbox"
           }
          ],
          "scatterpolar": [
           {
            "marker": {
             "colorbar": {
              "outlinewidth": 0,
              "ticks": ""
             }
            },
            "type": "scatterpolar"
           }
          ],
          "scatterpolargl": [
           {
            "marker": {
             "colorbar": {
              "outlinewidth": 0,
              "ticks": ""
             }
            },
            "type": "scatterpolargl"
           }
          ],
          "scatterternary": [
           {
            "marker": {
             "colorbar": {
              "outlinewidth": 0,
              "ticks": ""
             }
            },
            "type": "scatterternary"
           }
          ],
          "surface": [
           {
            "colorbar": {
             "outlinewidth": 0,
             "ticks": ""
            },
            "colorscale": [
             [
              0,
              "#0d0887"
             ],
             [
              0.1111111111111111,
              "#46039f"
             ],
             [
              0.2222222222222222,
              "#7201a8"
             ],
             [
              0.3333333333333333,
              "#9c179e"
             ],
             [
              0.4444444444444444,
              "#bd3786"
             ],
             [
              0.5555555555555556,
              "#d8576b"
             ],
             [
              0.6666666666666666,
              "#ed7953"
             ],
             [
              0.7777777777777778,
              "#fb9f3a"
             ],
             [
              0.8888888888888888,
              "#fdca26"
             ],
             [
              1,
              "#f0f921"
             ]
            ],
            "type": "surface"
           }
          ],
          "table": [
           {
            "cells": {
             "fill": {
              "color": "#506784"
             },
             "line": {
              "color": "rgb(17,17,17)"
             }
            },
            "header": {
             "fill": {
              "color": "#2a3f5f"
             },
             "line": {
              "color": "rgb(17,17,17)"
             }
            },
            "type": "table"
           }
          ]
         },
         "layout": {
          "annotationdefaults": {
           "arrowcolor": "#f2f5fa",
           "arrowhead": 0,
           "arrowwidth": 1
          },
          "autotypenumbers": "strict",
          "coloraxis": {
           "colorbar": {
            "outlinewidth": 0,
            "ticks": ""
           }
          },
          "colorscale": {
           "diverging": [
            [
             0,
             "#8e0152"
            ],
            [
             0.1,
             "#c51b7d"
            ],
            [
             0.2,
             "#de77ae"
            ],
            [
             0.3,
             "#f1b6da"
            ],
            [
             0.4,
             "#fde0ef"
            ],
            [
             0.5,
             "#f7f7f7"
            ],
            [
             0.6,
             "#e6f5d0"
            ],
            [
             0.7,
             "#b8e186"
            ],
            [
             0.8,
             "#7fbc41"
            ],
            [
             0.9,
             "#4d9221"
            ],
            [
             1,
             "#276419"
            ]
           ],
           "sequential": [
            [
             0,
             "#0d0887"
            ],
            [
             0.1111111111111111,
             "#46039f"
            ],
            [
             0.2222222222222222,
             "#7201a8"
            ],
            [
             0.3333333333333333,
             "#9c179e"
            ],
            [
             0.4444444444444444,
             "#bd3786"
            ],
            [
             0.5555555555555556,
             "#d8576b"
            ],
            [
             0.6666666666666666,
             "#ed7953"
            ],
            [
             0.7777777777777778,
             "#fb9f3a"
            ],
            [
             0.8888888888888888,
             "#fdca26"
            ],
            [
             1,
             "#f0f921"
            ]
           ],
           "sequentialminus": [
            [
             0,
             "#0d0887"
            ],
            [
             0.1111111111111111,
             "#46039f"
            ],
            [
             0.2222222222222222,
             "#7201a8"
            ],
            [
             0.3333333333333333,
             "#9c179e"
            ],
            [
             0.4444444444444444,
             "#bd3786"
            ],
            [
             0.5555555555555556,
             "#d8576b"
            ],
            [
             0.6666666666666666,
             "#ed7953"
            ],
            [
             0.7777777777777778,
             "#fb9f3a"
            ],
            [
             0.8888888888888888,
             "#fdca26"
            ],
            [
             1,
             "#f0f921"
            ]
           ]
          },
          "colorway": [
           "#636efa",
           "#EF553B",
           "#00cc96",
           "#ab63fa",
           "#FFA15A",
           "#19d3f3",
           "#FF6692",
           "#B6E880",
           "#FF97FF",
           "#FECB52"
          ],
          "font": {
           "color": "#f2f5fa"
          },
          "geo": {
           "bgcolor": "rgb(17,17,17)",
           "lakecolor": "rgb(17,17,17)",
           "landcolor": "rgb(17,17,17)",
           "showlakes": true,
           "showland": true,
           "subunitcolor": "#506784"
          },
          "hoverlabel": {
           "align": "left"
          },
          "hovermode": "closest",
          "mapbox": {
           "style": "dark"
          },
          "paper_bgcolor": "rgb(17,17,17)",
          "plot_bgcolor": "rgb(17,17,17)",
          "polar": {
           "angularaxis": {
            "gridcolor": "#506784",
            "linecolor": "#506784",
            "ticks": ""
           },
           "bgcolor": "rgb(17,17,17)",
           "radialaxis": {
            "gridcolor": "#506784",
            "linecolor": "#506784",
            "ticks": ""
           }
          },
          "scene": {
           "xaxis": {
            "backgroundcolor": "rgb(17,17,17)",
            "gridcolor": "#506784",
            "gridwidth": 2,
            "linecolor": "#506784",
            "showbackground": true,
            "ticks": "",
            "zerolinecolor": "#C8D4E3"
           },
           "yaxis": {
            "backgroundcolor": "rgb(17,17,17)",
            "gridcolor": "#506784",
            "gridwidth": 2,
            "linecolor": "#506784",
            "showbackground": true,
            "ticks": "",
            "zerolinecolor": "#C8D4E3"
           },
           "zaxis": {
            "backgroundcolor": "rgb(17,17,17)",
            "gridcolor": "#506784",
            "gridwidth": 2,
            "linecolor": "#506784",
            "showbackground": true,
            "ticks": "",
            "zerolinecolor": "#C8D4E3"
           }
          },
          "shapedefaults": {
           "line": {
            "color": "#f2f5fa"
           }
          },
          "sliderdefaults": {
           "bgcolor": "#C8D4E3",
           "bordercolor": "rgb(17,17,17)",
           "borderwidth": 1,
           "tickwidth": 0
          },
          "ternary": {
           "aaxis": {
            "gridcolor": "#506784",
            "linecolor": "#506784",
            "ticks": ""
           },
           "baxis": {
            "gridcolor": "#506784",
            "linecolor": "#506784",
            "ticks": ""
           },
           "bgcolor": "rgb(17,17,17)",
           "caxis": {
            "gridcolor": "#506784",
            "linecolor": "#506784",
            "ticks": ""
           }
          },
          "title": {
           "x": 0.05
          },
          "updatemenudefaults": {
           "bgcolor": "#506784",
           "borderwidth": 0
          },
          "xaxis": {
           "automargin": true,
           "gridcolor": "#283442",
           "linecolor": "#506784",
           "ticks": "",
           "title": {
            "standoff": 15
           },
           "zerolinecolor": "#283442",
           "zerolinewidth": 2
          },
          "yaxis": {
           "automargin": true,
           "gridcolor": "#283442",
           "linecolor": "#506784",
           "ticks": "",
           "title": {
            "standoff": 15
           },
           "zerolinecolor": "#283442",
           "zerolinewidth": 2
          }
         }
        },
        "title": {
         "text": "Views - Last 28D"
        },
        "xaxis": {
         "showgrid": false,
         "zeroline": false
        },
        "yaxis": {
         "gridcolor": "rgba(128, 128, 128, 0.2)",
         "showgrid": true,
         "zeroline": false
        }
       }
      }
     },
     "metadata": {},
     "output_type": "display_data"
    },
    {
     "name": "stdout",
     "output_type": "stream",
     "text": [
      "Displaying views trend graph for 90D...\n"
     ]
    },
    {
     "data": {
      "application/vnd.plotly.v1+json": {
       "config": {
        "plotlyServerURL": "https://plot.ly"
       },
       "data": [
        {
         "fill": "tozeroy",
         "fillcolor": "rgba(255, 0, 0, 0.1)",
         "hovertemplate": "%{y:,.0f}<br>%{x}<extra></extra>",
         "line": {
          "color": "red",
          "width": 2
         },
         "name": "Views",
         "type": "scatter",
         "x": [
          "2024-08-08T22:12:18",
          "2024-08-10T13:40:01",
          "2024-08-11T16:34:33",
          "2024-08-13T10:46:57",
          "2024-08-14T16:56:39",
          "2024-08-15T16:24:23",
          "2024-08-16T17:53:19",
          "2024-08-18T10:17:57",
          "2024-08-19T16:09:20",
          "2024-08-21T14:56:10",
          "2024-08-22T14:20:23",
          "2024-08-23T14:54:01",
          "2024-08-24T15:21:54",
          "2024-08-25T12:17:04",
          "2024-08-26T16:15:48",
          "2024-08-28T14:52:23",
          "2024-08-29T16:15:34",
          "2024-08-31T15:23:33",
          "2024-09-01T14:47:11",
          "2024-09-02T15:30:08",
          "2024-09-03T16:30:39",
          "2024-09-05T17:29:07",
          "2024-09-06T13:55:44",
          "2024-09-08T10:24:24",
          "2024-09-09T15:49:44",
          "2024-09-10T17:55:39",
          "2024-09-12T10:02:32",
          "2024-09-13T10:42:57",
          "2024-09-14T10:22:32",
          "2024-09-15T10:48:21",
          "2024-09-16T09:43:01",
          "2024-09-17T09:49:22",
          "2024-09-18T16:07:35",
          "2024-09-19T17:30:43",
          "2024-09-20T17:31:38",
          "2024-09-21T17:05:12",
          "2024-09-22T09:55:25",
          "2024-09-23T16:51:55",
          "2024-09-24T15:39:24",
          "2024-09-26T14:14:57",
          "2024-09-27T18:03:30",
          "2024-09-28T17:24:22",
          "2024-09-29T16:37:46",
          "2024-09-30T15:14:55",
          "2024-10-01T16:47:33",
          "2024-10-02T15:41:38",
          "2024-10-03T17:34:10",
          "2024-10-04T17:24:33",
          "2024-10-05T16:30:30",
          "2024-10-06T17:49:59",
          "2024-10-07T15:40:58",
          "2024-10-08T15:42:59",
          "2024-10-09T18:15:04",
          "2024-10-10T16:33:15",
          "2024-10-11T17:19:00",
          "2024-10-12T18:31:53",
          "2024-10-13T17:41:30",
          "2024-10-14T15:37:19",
          "2024-10-15T15:37:14",
          "2024-10-16T16:21:27",
          "2024-10-17T16:53:47",
          "2024-10-18T11:11:28",
          "2024-10-19T14:33:56",
          "2024-10-20T10:05:11",
          "2024-10-21T14:23:52",
          "2024-10-22T16:36:04",
          "2024-10-23T17:04:11",
          "2024-10-24T14:32:30",
          "2024-10-25T15:58:04",
          "2024-10-26T10:26:51",
          "2024-10-27T09:10:24",
          "2024-10-27T17:39:33",
          "2024-10-28T16:56:37",
          "2024-10-29T17:03:56",
          "2024-10-30T15:23:41",
          "2024-10-31T16:39:35",
          "2024-11-01T14:22:08",
          "2024-11-02T15:03:27",
          "2024-11-03T09:58:17",
          "2024-11-04T12:39:26",
          "2024-11-05T15:28:12"
         ],
         "y": [
          508311,
          209770,
          221940,
          221566,
          184978,
          186763,
          150163,
          137925,
          207743,
          216320,
          194231,
          222057,
          349327,
          526523,
          390310,
          275273,
          295626,
          298071,
          408788,
          412652,
          525634,
          296598,
          271562,
          205224,
          248419,
          235274,
          203919,
          247221,
          237436,
          237164,
          195973,
          246435,
          192251,
          285960,
          274666,
          230762,
          281383,
          206896,
          238736,
          210910,
          139392,
          125892,
          210998,
          341299,
          363736,
          274162,
          462113,
          256004,
          232956,
          314719,
          283442,
          279544,
          344527,
          497060,
          469780,
          439623,
          377566,
          346957,
          425842,
          340110,
          306186,
          429315,
          281272,
          267125,
          291656,
          292768,
          196009,
          290823,
          297390,
          328167,
          198629,
          306731,
          253182,
          271897,
          209185,
          204170,
          169591,
          133721,
          271791,
          349830,
          91766
         ]
        }
       ],
       "layout": {
        "annotations": [
         {
          "font": {
           "color": "red",
           "size": 16
          },
          "showarrow": false,
          "text": "-81.95%",
          "x": "2024-11-05T15:28:12",
          "xanchor": "right",
          "y": 526523,
          "yanchor": "top"
         },
         {
          "font": {
           "size": 16
          },
          "showarrow": false,
          "text": "Current: 91,766",
          "x": "2024-08-08T22:12:18",
          "xanchor": "left",
          "y": 526523,
          "yanchor": "top"
         }
        ],
        "hovermode": "x unified",
        "margin": {
         "b": 30,
         "l": 50,
         "r": 50,
         "t": 50
        },
        "plot_bgcolor": "white",
        "showlegend": false,
        "template": {
         "data": {
          "bar": [
           {
            "error_x": {
             "color": "#f2f5fa"
            },
            "error_y": {
             "color": "#f2f5fa"
            },
            "marker": {
             "line": {
              "color": "rgb(17,17,17)",
              "width": 0.5
             },
             "pattern": {
              "fillmode": "overlay",
              "size": 10,
              "solidity": 0.2
             }
            },
            "type": "bar"
           }
          ],
          "barpolar": [
           {
            "marker": {
             "line": {
              "color": "rgb(17,17,17)",
              "width": 0.5
             },
             "pattern": {
              "fillmode": "overlay",
              "size": 10,
              "solidity": 0.2
             }
            },
            "type": "barpolar"
           }
          ],
          "carpet": [
           {
            "aaxis": {
             "endlinecolor": "#A2B1C6",
             "gridcolor": "#506784",
             "linecolor": "#506784",
             "minorgridcolor": "#506784",
             "startlinecolor": "#A2B1C6"
            },
            "baxis": {
             "endlinecolor": "#A2B1C6",
             "gridcolor": "#506784",
             "linecolor": "#506784",
             "minorgridcolor": "#506784",
             "startlinecolor": "#A2B1C6"
            },
            "type": "carpet"
           }
          ],
          "choropleth": [
           {
            "colorbar": {
             "outlinewidth": 0,
             "ticks": ""
            },
            "type": "choropleth"
           }
          ],
          "contour": [
           {
            "colorbar": {
             "outlinewidth": 0,
             "ticks": ""
            },
            "colorscale": [
             [
              0,
              "#0d0887"
             ],
             [
              0.1111111111111111,
              "#46039f"
             ],
             [
              0.2222222222222222,
              "#7201a8"
             ],
             [
              0.3333333333333333,
              "#9c179e"
             ],
             [
              0.4444444444444444,
              "#bd3786"
             ],
             [
              0.5555555555555556,
              "#d8576b"
             ],
             [
              0.6666666666666666,
              "#ed7953"
             ],
             [
              0.7777777777777778,
              "#fb9f3a"
             ],
             [
              0.8888888888888888,
              "#fdca26"
             ],
             [
              1,
              "#f0f921"
             ]
            ],
            "type": "contour"
           }
          ],
          "contourcarpet": [
           {
            "colorbar": {
             "outlinewidth": 0,
             "ticks": ""
            },
            "type": "contourcarpet"
           }
          ],
          "heatmap": [
           {
            "colorbar": {
             "outlinewidth": 0,
             "ticks": ""
            },
            "colorscale": [
             [
              0,
              "#0d0887"
             ],
             [
              0.1111111111111111,
              "#46039f"
             ],
             [
              0.2222222222222222,
              "#7201a8"
             ],
             [
              0.3333333333333333,
              "#9c179e"
             ],
             [
              0.4444444444444444,
              "#bd3786"
             ],
             [
              0.5555555555555556,
              "#d8576b"
             ],
             [
              0.6666666666666666,
              "#ed7953"
             ],
             [
              0.7777777777777778,
              "#fb9f3a"
             ],
             [
              0.8888888888888888,
              "#fdca26"
             ],
             [
              1,
              "#f0f921"
             ]
            ],
            "type": "heatmap"
           }
          ],
          "heatmapgl": [
           {
            "colorbar": {
             "outlinewidth": 0,
             "ticks": ""
            },
            "colorscale": [
             [
              0,
              "#0d0887"
             ],
             [
              0.1111111111111111,
              "#46039f"
             ],
             [
              0.2222222222222222,
              "#7201a8"
             ],
             [
              0.3333333333333333,
              "#9c179e"
             ],
             [
              0.4444444444444444,
              "#bd3786"
             ],
             [
              0.5555555555555556,
              "#d8576b"
             ],
             [
              0.6666666666666666,
              "#ed7953"
             ],
             [
              0.7777777777777778,
              "#fb9f3a"
             ],
             [
              0.8888888888888888,
              "#fdca26"
             ],
             [
              1,
              "#f0f921"
             ]
            ],
            "type": "heatmapgl"
           }
          ],
          "histogram": [
           {
            "marker": {
             "pattern": {
              "fillmode": "overlay",
              "size": 10,
              "solidity": 0.2
             }
            },
            "type": "histogram"
           }
          ],
          "histogram2d": [
           {
            "colorbar": {
             "outlinewidth": 0,
             "ticks": ""
            },
            "colorscale": [
             [
              0,
              "#0d0887"
             ],
             [
              0.1111111111111111,
              "#46039f"
             ],
             [
              0.2222222222222222,
              "#7201a8"
             ],
             [
              0.3333333333333333,
              "#9c179e"
             ],
             [
              0.4444444444444444,
              "#bd3786"
             ],
             [
              0.5555555555555556,
              "#d8576b"
             ],
             [
              0.6666666666666666,
              "#ed7953"
             ],
             [
              0.7777777777777778,
              "#fb9f3a"
             ],
             [
              0.8888888888888888,
              "#fdca26"
             ],
             [
              1,
              "#f0f921"
             ]
            ],
            "type": "histogram2d"
           }
          ],
          "histogram2dcontour": [
           {
            "colorbar": {
             "outlinewidth": 0,
             "ticks": ""
            },
            "colorscale": [
             [
              0,
              "#0d0887"
             ],
             [
              0.1111111111111111,
              "#46039f"
             ],
             [
              0.2222222222222222,
              "#7201a8"
             ],
             [
              0.3333333333333333,
              "#9c179e"
             ],
             [
              0.4444444444444444,
              "#bd3786"
             ],
             [
              0.5555555555555556,
              "#d8576b"
             ],
             [
              0.6666666666666666,
              "#ed7953"
             ],
             [
              0.7777777777777778,
              "#fb9f3a"
             ],
             [
              0.8888888888888888,
              "#fdca26"
             ],
             [
              1,
              "#f0f921"
             ]
            ],
            "type": "histogram2dcontour"
           }
          ],
          "mesh3d": [
           {
            "colorbar": {
             "outlinewidth": 0,
             "ticks": ""
            },
            "type": "mesh3d"
           }
          ],
          "parcoords": [
           {
            "line": {
             "colorbar": {
              "outlinewidth": 0,
              "ticks": ""
             }
            },
            "type": "parcoords"
           }
          ],
          "pie": [
           {
            "automargin": true,
            "type": "pie"
           }
          ],
          "scatter": [
           {
            "marker": {
             "line": {
              "color": "#283442"
             }
            },
            "type": "scatter"
           }
          ],
          "scatter3d": [
           {
            "line": {
             "colorbar": {
              "outlinewidth": 0,
              "ticks": ""
             }
            },
            "marker": {
             "colorbar": {
              "outlinewidth": 0,
              "ticks": ""
             }
            },
            "type": "scatter3d"
           }
          ],
          "scattercarpet": [
           {
            "marker": {
             "colorbar": {
              "outlinewidth": 0,
              "ticks": ""
             }
            },
            "type": "scattercarpet"
           }
          ],
          "scattergeo": [
           {
            "marker": {
             "colorbar": {
              "outlinewidth": 0,
              "ticks": ""
             }
            },
            "type": "scattergeo"
           }
          ],
          "scattergl": [
           {
            "marker": {
             "line": {
              "color": "#283442"
             }
            },
            "type": "scattergl"
           }
          ],
          "scattermapbox": [
           {
            "marker": {
             "colorbar": {
              "outlinewidth": 0,
              "ticks": ""
             }
            },
            "type": "scattermapbox"
           }
          ],
          "scatterpolar": [
           {
            "marker": {
             "colorbar": {
              "outlinewidth": 0,
              "ticks": ""
             }
            },
            "type": "scatterpolar"
           }
          ],
          "scatterpolargl": [
           {
            "marker": {
             "colorbar": {
              "outlinewidth": 0,
              "ticks": ""
             }
            },
            "type": "scatterpolargl"
           }
          ],
          "scatterternary": [
           {
            "marker": {
             "colorbar": {
              "outlinewidth": 0,
              "ticks": ""
             }
            },
            "type": "scatterternary"
           }
          ],
          "surface": [
           {
            "colorbar": {
             "outlinewidth": 0,
             "ticks": ""
            },
            "colorscale": [
             [
              0,
              "#0d0887"
             ],
             [
              0.1111111111111111,
              "#46039f"
             ],
             [
              0.2222222222222222,
              "#7201a8"
             ],
             [
              0.3333333333333333,
              "#9c179e"
             ],
             [
              0.4444444444444444,
              "#bd3786"
             ],
             [
              0.5555555555555556,
              "#d8576b"
             ],
             [
              0.6666666666666666,
              "#ed7953"
             ],
             [
              0.7777777777777778,
              "#fb9f3a"
             ],
             [
              0.8888888888888888,
              "#fdca26"
             ],
             [
              1,
              "#f0f921"
             ]
            ],
            "type": "surface"
           }
          ],
          "table": [
           {
            "cells": {
             "fill": {
              "color": "#506784"
             },
             "line": {
              "color": "rgb(17,17,17)"
             }
            },
            "header": {
             "fill": {
              "color": "#2a3f5f"
             },
             "line": {
              "color": "rgb(17,17,17)"
             }
            },
            "type": "table"
           }
          ]
         },
         "layout": {
          "annotationdefaults": {
           "arrowcolor": "#f2f5fa",
           "arrowhead": 0,
           "arrowwidth": 1
          },
          "autotypenumbers": "strict",
          "coloraxis": {
           "colorbar": {
            "outlinewidth": 0,
            "ticks": ""
           }
          },
          "colorscale": {
           "diverging": [
            [
             0,
             "#8e0152"
            ],
            [
             0.1,
             "#c51b7d"
            ],
            [
             0.2,
             "#de77ae"
            ],
            [
             0.3,
             "#f1b6da"
            ],
            [
             0.4,
             "#fde0ef"
            ],
            [
             0.5,
             "#f7f7f7"
            ],
            [
             0.6,
             "#e6f5d0"
            ],
            [
             0.7,
             "#b8e186"
            ],
            [
             0.8,
             "#7fbc41"
            ],
            [
             0.9,
             "#4d9221"
            ],
            [
             1,
             "#276419"
            ]
           ],
           "sequential": [
            [
             0,
             "#0d0887"
            ],
            [
             0.1111111111111111,
             "#46039f"
            ],
            [
             0.2222222222222222,
             "#7201a8"
            ],
            [
             0.3333333333333333,
             "#9c179e"
            ],
            [
             0.4444444444444444,
             "#bd3786"
            ],
            [
             0.5555555555555556,
             "#d8576b"
            ],
            [
             0.6666666666666666,
             "#ed7953"
            ],
            [
             0.7777777777777778,
             "#fb9f3a"
            ],
            [
             0.8888888888888888,
             "#fdca26"
            ],
            [
             1,
             "#f0f921"
            ]
           ],
           "sequentialminus": [
            [
             0,
             "#0d0887"
            ],
            [
             0.1111111111111111,
             "#46039f"
            ],
            [
             0.2222222222222222,
             "#7201a8"
            ],
            [
             0.3333333333333333,
             "#9c179e"
            ],
            [
             0.4444444444444444,
             "#bd3786"
            ],
            [
             0.5555555555555556,
             "#d8576b"
            ],
            [
             0.6666666666666666,
             "#ed7953"
            ],
            [
             0.7777777777777778,
             "#fb9f3a"
            ],
            [
             0.8888888888888888,
             "#fdca26"
            ],
            [
             1,
             "#f0f921"
            ]
           ]
          },
          "colorway": [
           "#636efa",
           "#EF553B",
           "#00cc96",
           "#ab63fa",
           "#FFA15A",
           "#19d3f3",
           "#FF6692",
           "#B6E880",
           "#FF97FF",
           "#FECB52"
          ],
          "font": {
           "color": "#f2f5fa"
          },
          "geo": {
           "bgcolor": "rgb(17,17,17)",
           "lakecolor": "rgb(17,17,17)",
           "landcolor": "rgb(17,17,17)",
           "showlakes": true,
           "showland": true,
           "subunitcolor": "#506784"
          },
          "hoverlabel": {
           "align": "left"
          },
          "hovermode": "closest",
          "mapbox": {
           "style": "dark"
          },
          "paper_bgcolor": "rgb(17,17,17)",
          "plot_bgcolor": "rgb(17,17,17)",
          "polar": {
           "angularaxis": {
            "gridcolor": "#506784",
            "linecolor": "#506784",
            "ticks": ""
           },
           "bgcolor": "rgb(17,17,17)",
           "radialaxis": {
            "gridcolor": "#506784",
            "linecolor": "#506784",
            "ticks": ""
           }
          },
          "scene": {
           "xaxis": {
            "backgroundcolor": "rgb(17,17,17)",
            "gridcolor": "#506784",
            "gridwidth": 2,
            "linecolor": "#506784",
            "showbackground": true,
            "ticks": "",
            "zerolinecolor": "#C8D4E3"
           },
           "yaxis": {
            "backgroundcolor": "rgb(17,17,17)",
            "gridcolor": "#506784",
            "gridwidth": 2,
            "linecolor": "#506784",
            "showbackground": true,
            "ticks": "",
            "zerolinecolor": "#C8D4E3"
           },
           "zaxis": {
            "backgroundcolor": "rgb(17,17,17)",
            "gridcolor": "#506784",
            "gridwidth": 2,
            "linecolor": "#506784",
            "showbackground": true,
            "ticks": "",
            "zerolinecolor": "#C8D4E3"
           }
          },
          "shapedefaults": {
           "line": {
            "color": "#f2f5fa"
           }
          },
          "sliderdefaults": {
           "bgcolor": "#C8D4E3",
           "bordercolor": "rgb(17,17,17)",
           "borderwidth": 1,
           "tickwidth": 0
          },
          "ternary": {
           "aaxis": {
            "gridcolor": "#506784",
            "linecolor": "#506784",
            "ticks": ""
           },
           "baxis": {
            "gridcolor": "#506784",
            "linecolor": "#506784",
            "ticks": ""
           },
           "bgcolor": "rgb(17,17,17)",
           "caxis": {
            "gridcolor": "#506784",
            "linecolor": "#506784",
            "ticks": ""
           }
          },
          "title": {
           "x": 0.05
          },
          "updatemenudefaults": {
           "bgcolor": "#506784",
           "borderwidth": 0
          },
          "xaxis": {
           "automargin": true,
           "gridcolor": "#283442",
           "linecolor": "#506784",
           "ticks": "",
           "title": {
            "standoff": 15
           },
           "zerolinecolor": "#283442",
           "zerolinewidth": 2
          },
          "yaxis": {
           "automargin": true,
           "gridcolor": "#283442",
           "linecolor": "#506784",
           "ticks": "",
           "title": {
            "standoff": 15
           },
           "zerolinecolor": "#283442",
           "zerolinewidth": 2
          }
         }
        },
        "title": {
         "text": "Views - Last 90D"
        },
        "xaxis": {
         "showgrid": false,
         "zeroline": false
        },
        "yaxis": {
         "gridcolor": "rgba(128, 128, 128, 0.2)",
         "showgrid": true,
         "zeroline": false
        }
       }
      }
     },
     "metadata": {},
     "output_type": "display_data"
    },
    {
     "name": "stdout",
     "output_type": "stream",
     "text": [
      "Displaying views trend graph for ALL...\n"
     ]
    },
    {
     "data": {
      "application/vnd.plotly.v1+json": {
       "config": {
        "plotlyServerURL": "https://plot.ly"
       },
       "data": [
        {
         "fill": "tozeroy",
         "fillcolor": "rgba(255, 0, 0, 0.1)",
         "hovertemplate": "%{y:,.0f}<br>%{x}<extra></extra>",
         "line": {
          "color": "red",
          "width": 2
         },
         "name": "Views",
         "type": "scatter",
         "x": [
          "2024-07-19T16:27:27",
          "2024-07-20T17:59:59",
          "2024-07-21T19:36:22",
          "2024-07-22T17:38:40",
          "2024-07-23T17:39:20",
          "2024-07-24T17:12:39",
          "2024-07-25T18:20:25",
          "2024-07-26T17:52:59",
          "2024-07-27T18:18:00",
          "2024-07-28T19:03:49",
          "2024-07-29T18:50:40",
          "2024-07-30T19:40:00",
          "2024-07-31T17:11:00",
          "2024-08-01T16:53:38",
          "2024-08-02T17:32:23",
          "2024-08-03T16:55:43",
          "2024-08-04T17:46:56",
          "2024-08-05T17:00:18",
          "2024-08-07T17:26:32",
          "2024-08-08T22:12:18",
          "2024-08-10T13:40:01",
          "2024-08-11T16:34:33",
          "2024-08-13T10:46:57",
          "2024-08-14T16:56:39",
          "2024-08-15T16:24:23",
          "2024-08-16T17:53:19",
          "2024-08-18T10:17:57",
          "2024-08-19T16:09:20",
          "2024-08-21T14:56:10",
          "2024-08-22T14:20:23",
          "2024-08-23T14:54:01",
          "2024-08-24T15:21:54",
          "2024-08-25T12:17:04",
          "2024-08-26T16:15:48",
          "2024-08-28T14:52:23",
          "2024-08-29T16:15:34",
          "2024-08-31T15:23:33",
          "2024-09-01T14:47:11",
          "2024-09-02T15:30:08",
          "2024-09-03T16:30:39",
          "2024-09-05T17:29:07",
          "2024-09-06T13:55:44",
          "2024-09-08T10:24:24",
          "2024-09-09T15:49:44",
          "2024-09-10T17:55:39",
          "2024-09-12T10:02:32",
          "2024-09-13T10:42:57",
          "2024-09-14T10:22:32",
          "2024-09-15T10:48:21",
          "2024-09-16T09:43:01",
          "2024-09-17T09:49:22",
          "2024-09-18T16:07:35",
          "2024-09-19T17:30:43",
          "2024-09-20T17:31:38",
          "2024-09-21T17:05:12",
          "2024-09-22T09:55:25",
          "2024-09-23T16:51:55",
          "2024-09-24T15:39:24",
          "2024-09-26T14:14:57",
          "2024-09-27T18:03:30",
          "2024-09-28T17:24:22",
          "2024-09-29T16:37:46",
          "2024-09-30T15:14:55",
          "2024-10-01T16:47:33",
          "2024-10-02T15:41:38",
          "2024-10-03T17:34:10",
          "2024-10-04T17:24:33",
          "2024-10-05T16:30:30",
          "2024-10-06T17:49:59",
          "2024-10-07T15:40:58",
          "2024-10-08T15:42:59",
          "2024-10-09T18:15:04",
          "2024-10-10T16:33:15",
          "2024-10-11T17:19:00",
          "2024-10-12T18:31:53",
          "2024-10-13T17:41:30",
          "2024-10-14T15:37:19",
          "2024-10-15T15:37:14",
          "2024-10-16T16:21:27",
          "2024-10-17T16:53:47",
          "2024-10-18T11:11:28",
          "2024-10-19T14:33:56",
          "2024-10-20T10:05:11",
          "2024-10-21T14:23:52",
          "2024-10-22T16:36:04",
          "2024-10-23T17:04:11",
          "2024-10-24T14:32:30",
          "2024-10-25T15:58:04",
          "2024-10-26T10:26:51",
          "2024-10-27T09:10:24",
          "2024-10-27T17:39:33",
          "2024-10-28T16:56:37",
          "2024-10-29T17:03:56",
          "2024-10-30T15:23:41",
          "2024-10-31T16:39:35",
          "2024-11-01T14:22:08",
          "2024-11-02T15:03:27",
          "2024-11-03T09:58:17",
          "2024-11-04T12:39:26",
          "2024-11-05T15:28:12"
         ],
         "y": [
          222384,
          293669,
          184907,
          195689,
          197561,
          209467,
          199320,
          200035,
          202455,
          206940,
          262225,
          280161,
          184164,
          219818,
          176600,
          171378,
          154129,
          209914,
          161272,
          508311,
          209770,
          221940,
          221566,
          184978,
          186763,
          150163,
          137925,
          207743,
          216320,
          194231,
          222057,
          349327,
          526523,
          390310,
          275273,
          295626,
          298071,
          408788,
          412652,
          525634,
          296598,
          271562,
          205224,
          248419,
          235274,
          203919,
          247221,
          237436,
          237164,
          195973,
          246435,
          192251,
          285960,
          274666,
          230762,
          281383,
          206896,
          238736,
          210910,
          139392,
          125892,
          210998,
          341299,
          363736,
          274162,
          462113,
          256004,
          232956,
          314719,
          283442,
          279544,
          344527,
          497060,
          469780,
          439623,
          377566,
          346957,
          425842,
          340110,
          306186,
          429315,
          281272,
          267125,
          291656,
          292768,
          196009,
          290823,
          297390,
          328167,
          198629,
          306731,
          253182,
          271897,
          209185,
          204170,
          169591,
          133721,
          271791,
          349830,
          91766
         ]
        }
       ],
       "layout": {
        "annotations": [
         {
          "font": {
           "color": "red",
           "size": 16
          },
          "showarrow": false,
          "text": "-58.74%",
          "x": "2024-11-05T15:28:12",
          "xanchor": "right",
          "y": 526523,
          "yanchor": "top"
         },
         {
          "font": {
           "size": 16
          },
          "showarrow": false,
          "text": "Current: 91,766",
          "x": "2024-07-19T16:27:27",
          "xanchor": "left",
          "y": 526523,
          "yanchor": "top"
         }
        ],
        "hovermode": "x unified",
        "margin": {
         "b": 30,
         "l": 50,
         "r": 50,
         "t": 50
        },
        "plot_bgcolor": "white",
        "showlegend": false,
        "template": {
         "data": {
          "bar": [
           {
            "error_x": {
             "color": "#f2f5fa"
            },
            "error_y": {
             "color": "#f2f5fa"
            },
            "marker": {
             "line": {
              "color": "rgb(17,17,17)",
              "width": 0.5
             },
             "pattern": {
              "fillmode": "overlay",
              "size": 10,
              "solidity": 0.2
             }
            },
            "type": "bar"
           }
          ],
          "barpolar": [
           {
            "marker": {
             "line": {
              "color": "rgb(17,17,17)",
              "width": 0.5
             },
             "pattern": {
              "fillmode": "overlay",
              "size": 10,
              "solidity": 0.2
             }
            },
            "type": "barpolar"
           }
          ],
          "carpet": [
           {
            "aaxis": {
             "endlinecolor": "#A2B1C6",
             "gridcolor": "#506784",
             "linecolor": "#506784",
             "minorgridcolor": "#506784",
             "startlinecolor": "#A2B1C6"
            },
            "baxis": {
             "endlinecolor": "#A2B1C6",
             "gridcolor": "#506784",
             "linecolor": "#506784",
             "minorgridcolor": "#506784",
             "startlinecolor": "#A2B1C6"
            },
            "type": "carpet"
           }
          ],
          "choropleth": [
           {
            "colorbar": {
             "outlinewidth": 0,
             "ticks": ""
            },
            "type": "choropleth"
           }
          ],
          "contour": [
           {
            "colorbar": {
             "outlinewidth": 0,
             "ticks": ""
            },
            "colorscale": [
             [
              0,
              "#0d0887"
             ],
             [
              0.1111111111111111,
              "#46039f"
             ],
             [
              0.2222222222222222,
              "#7201a8"
             ],
             [
              0.3333333333333333,
              "#9c179e"
             ],
             [
              0.4444444444444444,
              "#bd3786"
             ],
             [
              0.5555555555555556,
              "#d8576b"
             ],
             [
              0.6666666666666666,
              "#ed7953"
             ],
             [
              0.7777777777777778,
              "#fb9f3a"
             ],
             [
              0.8888888888888888,
              "#fdca26"
             ],
             [
              1,
              "#f0f921"
             ]
            ],
            "type": "contour"
           }
          ],
          "contourcarpet": [
           {
            "colorbar": {
             "outlinewidth": 0,
             "ticks": ""
            },
            "type": "contourcarpet"
           }
          ],
          "heatmap": [
           {
            "colorbar": {
             "outlinewidth": 0,
             "ticks": ""
            },
            "colorscale": [
             [
              0,
              "#0d0887"
             ],
             [
              0.1111111111111111,
              "#46039f"
             ],
             [
              0.2222222222222222,
              "#7201a8"
             ],
             [
              0.3333333333333333,
              "#9c179e"
             ],
             [
              0.4444444444444444,
              "#bd3786"
             ],
             [
              0.5555555555555556,
              "#d8576b"
             ],
             [
              0.6666666666666666,
              "#ed7953"
             ],
             [
              0.7777777777777778,
              "#fb9f3a"
             ],
             [
              0.8888888888888888,
              "#fdca26"
             ],
             [
              1,
              "#f0f921"
             ]
            ],
            "type": "heatmap"
           }
          ],
          "heatmapgl": [
           {
            "colorbar": {
             "outlinewidth": 0,
             "ticks": ""
            },
            "colorscale": [
             [
              0,
              "#0d0887"
             ],
             [
              0.1111111111111111,
              "#46039f"
             ],
             [
              0.2222222222222222,
              "#7201a8"
             ],
             [
              0.3333333333333333,
              "#9c179e"
             ],
             [
              0.4444444444444444,
              "#bd3786"
             ],
             [
              0.5555555555555556,
              "#d8576b"
             ],
             [
              0.6666666666666666,
              "#ed7953"
             ],
             [
              0.7777777777777778,
              "#fb9f3a"
             ],
             [
              0.8888888888888888,
              "#fdca26"
             ],
             [
              1,
              "#f0f921"
             ]
            ],
            "type": "heatmapgl"
           }
          ],
          "histogram": [
           {
            "marker": {
             "pattern": {
              "fillmode": "overlay",
              "size": 10,
              "solidity": 0.2
             }
            },
            "type": "histogram"
           }
          ],
          "histogram2d": [
           {
            "colorbar": {
             "outlinewidth": 0,
             "ticks": ""
            },
            "colorscale": [
             [
              0,
              "#0d0887"
             ],
             [
              0.1111111111111111,
              "#46039f"
             ],
             [
              0.2222222222222222,
              "#7201a8"
             ],
             [
              0.3333333333333333,
              "#9c179e"
             ],
             [
              0.4444444444444444,
              "#bd3786"
             ],
             [
              0.5555555555555556,
              "#d8576b"
             ],
             [
              0.6666666666666666,
              "#ed7953"
             ],
             [
              0.7777777777777778,
              "#fb9f3a"
             ],
             [
              0.8888888888888888,
              "#fdca26"
             ],
             [
              1,
              "#f0f921"
             ]
            ],
            "type": "histogram2d"
           }
          ],
          "histogram2dcontour": [
           {
            "colorbar": {
             "outlinewidth": 0,
             "ticks": ""
            },
            "colorscale": [
             [
              0,
              "#0d0887"
             ],
             [
              0.1111111111111111,
              "#46039f"
             ],
             [
              0.2222222222222222,
              "#7201a8"
             ],
             [
              0.3333333333333333,
              "#9c179e"
             ],
             [
              0.4444444444444444,
              "#bd3786"
             ],
             [
              0.5555555555555556,
              "#d8576b"
             ],
             [
              0.6666666666666666,
              "#ed7953"
             ],
             [
              0.7777777777777778,
              "#fb9f3a"
             ],
             [
              0.8888888888888888,
              "#fdca26"
             ],
             [
              1,
              "#f0f921"
             ]
            ],
            "type": "histogram2dcontour"
           }
          ],
          "mesh3d": [
           {
            "colorbar": {
             "outlinewidth": 0,
             "ticks": ""
            },
            "type": "mesh3d"
           }
          ],
          "parcoords": [
           {
            "line": {
             "colorbar": {
              "outlinewidth": 0,
              "ticks": ""
             }
            },
            "type": "parcoords"
           }
          ],
          "pie": [
           {
            "automargin": true,
            "type": "pie"
           }
          ],
          "scatter": [
           {
            "marker": {
             "line": {
              "color": "#283442"
             }
            },
            "type": "scatter"
           }
          ],
          "scatter3d": [
           {
            "line": {
             "colorbar": {
              "outlinewidth": 0,
              "ticks": ""
             }
            },
            "marker": {
             "colorbar": {
              "outlinewidth": 0,
              "ticks": ""
             }
            },
            "type": "scatter3d"
           }
          ],
          "scattercarpet": [
           {
            "marker": {
             "colorbar": {
              "outlinewidth": 0,
              "ticks": ""
             }
            },
            "type": "scattercarpet"
           }
          ],
          "scattergeo": [
           {
            "marker": {
             "colorbar": {
              "outlinewidth": 0,
              "ticks": ""
             }
            },
            "type": "scattergeo"
           }
          ],
          "scattergl": [
           {
            "marker": {
             "line": {
              "color": "#283442"
             }
            },
            "type": "scattergl"
           }
          ],
          "scattermapbox": [
           {
            "marker": {
             "colorbar": {
              "outlinewidth": 0,
              "ticks": ""
             }
            },
            "type": "scattermapbox"
           }
          ],
          "scatterpolar": [
           {
            "marker": {
             "colorbar": {
              "outlinewidth": 0,
              "ticks": ""
             }
            },
            "type": "scatterpolar"
           }
          ],
          "scatterpolargl": [
           {
            "marker": {
             "colorbar": {
              "outlinewidth": 0,
              "ticks": ""
             }
            },
            "type": "scatterpolargl"
           }
          ],
          "scatterternary": [
           {
            "marker": {
             "colorbar": {
              "outlinewidth": 0,
              "ticks": ""
             }
            },
            "type": "scatterternary"
           }
          ],
          "surface": [
           {
            "colorbar": {
             "outlinewidth": 0,
             "ticks": ""
            },
            "colorscale": [
             [
              0,
              "#0d0887"
             ],
             [
              0.1111111111111111,
              "#46039f"
             ],
             [
              0.2222222222222222,
              "#7201a8"
             ],
             [
              0.3333333333333333,
              "#9c179e"
             ],
             [
              0.4444444444444444,
              "#bd3786"
             ],
             [
              0.5555555555555556,
              "#d8576b"
             ],
             [
              0.6666666666666666,
              "#ed7953"
             ],
             [
              0.7777777777777778,
              "#fb9f3a"
             ],
             [
              0.8888888888888888,
              "#fdca26"
             ],
             [
              1,
              "#f0f921"
             ]
            ],
            "type": "surface"
           }
          ],
          "table": [
           {
            "cells": {
             "fill": {
              "color": "#506784"
             },
             "line": {
              "color": "rgb(17,17,17)"
             }
            },
            "header": {
             "fill": {
              "color": "#2a3f5f"
             },
             "line": {
              "color": "rgb(17,17,17)"
             }
            },
            "type": "table"
           }
          ]
         },
         "layout": {
          "annotationdefaults": {
           "arrowcolor": "#f2f5fa",
           "arrowhead": 0,
           "arrowwidth": 1
          },
          "autotypenumbers": "strict",
          "coloraxis": {
           "colorbar": {
            "outlinewidth": 0,
            "ticks": ""
           }
          },
          "colorscale": {
           "diverging": [
            [
             0,
             "#8e0152"
            ],
            [
             0.1,
             "#c51b7d"
            ],
            [
             0.2,
             "#de77ae"
            ],
            [
             0.3,
             "#f1b6da"
            ],
            [
             0.4,
             "#fde0ef"
            ],
            [
             0.5,
             "#f7f7f7"
            ],
            [
             0.6,
             "#e6f5d0"
            ],
            [
             0.7,
             "#b8e186"
            ],
            [
             0.8,
             "#7fbc41"
            ],
            [
             0.9,
             "#4d9221"
            ],
            [
             1,
             "#276419"
            ]
           ],
           "sequential": [
            [
             0,
             "#0d0887"
            ],
            [
             0.1111111111111111,
             "#46039f"
            ],
            [
             0.2222222222222222,
             "#7201a8"
            ],
            [
             0.3333333333333333,
             "#9c179e"
            ],
            [
             0.4444444444444444,
             "#bd3786"
            ],
            [
             0.5555555555555556,
             "#d8576b"
            ],
            [
             0.6666666666666666,
             "#ed7953"
            ],
            [
             0.7777777777777778,
             "#fb9f3a"
            ],
            [
             0.8888888888888888,
             "#fdca26"
            ],
            [
             1,
             "#f0f921"
            ]
           ],
           "sequentialminus": [
            [
             0,
             "#0d0887"
            ],
            [
             0.1111111111111111,
             "#46039f"
            ],
            [
             0.2222222222222222,
             "#7201a8"
            ],
            [
             0.3333333333333333,
             "#9c179e"
            ],
            [
             0.4444444444444444,
             "#bd3786"
            ],
            [
             0.5555555555555556,
             "#d8576b"
            ],
            [
             0.6666666666666666,
             "#ed7953"
            ],
            [
             0.7777777777777778,
             "#fb9f3a"
            ],
            [
             0.8888888888888888,
             "#fdca26"
            ],
            [
             1,
             "#f0f921"
            ]
           ]
          },
          "colorway": [
           "#636efa",
           "#EF553B",
           "#00cc96",
           "#ab63fa",
           "#FFA15A",
           "#19d3f3",
           "#FF6692",
           "#B6E880",
           "#FF97FF",
           "#FECB52"
          ],
          "font": {
           "color": "#f2f5fa"
          },
          "geo": {
           "bgcolor": "rgb(17,17,17)",
           "lakecolor": "rgb(17,17,17)",
           "landcolor": "rgb(17,17,17)",
           "showlakes": true,
           "showland": true,
           "subunitcolor": "#506784"
          },
          "hoverlabel": {
           "align": "left"
          },
          "hovermode": "closest",
          "mapbox": {
           "style": "dark"
          },
          "paper_bgcolor": "rgb(17,17,17)",
          "plot_bgcolor": "rgb(17,17,17)",
          "polar": {
           "angularaxis": {
            "gridcolor": "#506784",
            "linecolor": "#506784",
            "ticks": ""
           },
           "bgcolor": "rgb(17,17,17)",
           "radialaxis": {
            "gridcolor": "#506784",
            "linecolor": "#506784",
            "ticks": ""
           }
          },
          "scene": {
           "xaxis": {
            "backgroundcolor": "rgb(17,17,17)",
            "gridcolor": "#506784",
            "gridwidth": 2,
            "linecolor": "#506784",
            "showbackground": true,
            "ticks": "",
            "zerolinecolor": "#C8D4E3"
           },
           "yaxis": {
            "backgroundcolor": "rgb(17,17,17)",
            "gridcolor": "#506784",
            "gridwidth": 2,
            "linecolor": "#506784",
            "showbackground": true,
            "ticks": "",
            "zerolinecolor": "#C8D4E3"
           },
           "zaxis": {
            "backgroundcolor": "rgb(17,17,17)",
            "gridcolor": "#506784",
            "gridwidth": 2,
            "linecolor": "#506784",
            "showbackground": true,
            "ticks": "",
            "zerolinecolor": "#C8D4E3"
           }
          },
          "shapedefaults": {
           "line": {
            "color": "#f2f5fa"
           }
          },
          "sliderdefaults": {
           "bgcolor": "#C8D4E3",
           "bordercolor": "rgb(17,17,17)",
           "borderwidth": 1,
           "tickwidth": 0
          },
          "ternary": {
           "aaxis": {
            "gridcolor": "#506784",
            "linecolor": "#506784",
            "ticks": ""
           },
           "baxis": {
            "gridcolor": "#506784",
            "linecolor": "#506784",
            "ticks": ""
           },
           "bgcolor": "rgb(17,17,17)",
           "caxis": {
            "gridcolor": "#506784",
            "linecolor": "#506784",
            "ticks": ""
           }
          },
          "title": {
           "x": 0.05
          },
          "updatemenudefaults": {
           "bgcolor": "#506784",
           "borderwidth": 0
          },
          "xaxis": {
           "automargin": true,
           "gridcolor": "#283442",
           "linecolor": "#506784",
           "ticks": "",
           "title": {
            "standoff": 15
           },
           "zerolinecolor": "#283442",
           "zerolinewidth": 2
          },
          "yaxis": {
           "automargin": true,
           "gridcolor": "#283442",
           "linecolor": "#506784",
           "ticks": "",
           "title": {
            "standoff": 15
           },
           "zerolinecolor": "#283442",
           "zerolinewidth": 2
          }
         }
        },
        "title": {
         "text": "Views - Last ALL"
        },
        "xaxis": {
         "showgrid": false,
         "zeroline": false
        },
        "yaxis": {
         "gridcolor": "rgba(128, 128, 128, 0.2)",
         "showgrid": true,
         "zeroline": false
        }
       }
      }
     },
     "metadata": {},
     "output_type": "display_data"
    },
    {
     "name": "stdout",
     "output_type": "stream",
     "text": [
      "Displaying subscriber trend graph for 7D...\n"
     ]
    },
    {
     "data": {
      "application/vnd.plotly.v1+json": {
       "config": {
        "plotlyServerURL": "https://plot.ly"
       },
       "data": [
        {
         "fill": "tozeroy",
         "fillcolor": "rgba(255, 0, 0, 0.1)",
         "hovertemplate": "%{y:,.0f}<br>%{x}<extra></extra>",
         "line": {
          "color": "red",
          "width": 2
         },
         "name": "Subscribers",
         "type": "scatter",
         "x": [
          "2024-11-06T00:32:34.368007",
          "2024-11-05T00:32:34.368007",
          "2024-11-04T00:32:34.368007",
          "2024-11-03T00:32:34.368007",
          "2024-11-02T00:32:34.368007",
          "2024-11-01T00:32:34.368007",
          "2024-10-31T00:32:34.368007"
         ],
         "y": [
          1560000,
          1555028,
          1550977,
          1548853,
          1548024,
          1544835,
          1542718
         ]
        }
       ],
       "layout": {
        "annotations": [
         {
          "font": {
           "color": "red",
           "size": 16
          },
          "showarrow": false,
          "text": "-1.11%",
          "x": "2024-10-31T00:32:34.368007",
          "xanchor": "right",
          "y": 1560000,
          "yanchor": "top"
         },
         {
          "font": {
           "size": 16
          },
          "showarrow": false,
          "text": "Current: 1,542,718",
          "x": "2024-11-06T00:32:34.368007",
          "xanchor": "left",
          "y": 1560000,
          "yanchor": "top"
         }
        ],
        "hovermode": "x unified",
        "margin": {
         "b": 30,
         "l": 50,
         "r": 50,
         "t": 50
        },
        "plot_bgcolor": "white",
        "showlegend": false,
        "template": {
         "data": {
          "bar": [
           {
            "error_x": {
             "color": "#f2f5fa"
            },
            "error_y": {
             "color": "#f2f5fa"
            },
            "marker": {
             "line": {
              "color": "rgb(17,17,17)",
              "width": 0.5
             },
             "pattern": {
              "fillmode": "overlay",
              "size": 10,
              "solidity": 0.2
             }
            },
            "type": "bar"
           }
          ],
          "barpolar": [
           {
            "marker": {
             "line": {
              "color": "rgb(17,17,17)",
              "width": 0.5
             },
             "pattern": {
              "fillmode": "overlay",
              "size": 10,
              "solidity": 0.2
             }
            },
            "type": "barpolar"
           }
          ],
          "carpet": [
           {
            "aaxis": {
             "endlinecolor": "#A2B1C6",
             "gridcolor": "#506784",
             "linecolor": "#506784",
             "minorgridcolor": "#506784",
             "startlinecolor": "#A2B1C6"
            },
            "baxis": {
             "endlinecolor": "#A2B1C6",
             "gridcolor": "#506784",
             "linecolor": "#506784",
             "minorgridcolor": "#506784",
             "startlinecolor": "#A2B1C6"
            },
            "type": "carpet"
           }
          ],
          "choropleth": [
           {
            "colorbar": {
             "outlinewidth": 0,
             "ticks": ""
            },
            "type": "choropleth"
           }
          ],
          "contour": [
           {
            "colorbar": {
             "outlinewidth": 0,
             "ticks": ""
            },
            "colorscale": [
             [
              0,
              "#0d0887"
             ],
             [
              0.1111111111111111,
              "#46039f"
             ],
             [
              0.2222222222222222,
              "#7201a8"
             ],
             [
              0.3333333333333333,
              "#9c179e"
             ],
             [
              0.4444444444444444,
              "#bd3786"
             ],
             [
              0.5555555555555556,
              "#d8576b"
             ],
             [
              0.6666666666666666,
              "#ed7953"
             ],
             [
              0.7777777777777778,
              "#fb9f3a"
             ],
             [
              0.8888888888888888,
              "#fdca26"
             ],
             [
              1,
              "#f0f921"
             ]
            ],
            "type": "contour"
           }
          ],
          "contourcarpet": [
           {
            "colorbar": {
             "outlinewidth": 0,
             "ticks": ""
            },
            "type": "contourcarpet"
           }
          ],
          "heatmap": [
           {
            "colorbar": {
             "outlinewidth": 0,
             "ticks": ""
            },
            "colorscale": [
             [
              0,
              "#0d0887"
             ],
             [
              0.1111111111111111,
              "#46039f"
             ],
             [
              0.2222222222222222,
              "#7201a8"
             ],
             [
              0.3333333333333333,
              "#9c179e"
             ],
             [
              0.4444444444444444,
              "#bd3786"
             ],
             [
              0.5555555555555556,
              "#d8576b"
             ],
             [
              0.6666666666666666,
              "#ed7953"
             ],
             [
              0.7777777777777778,
              "#fb9f3a"
             ],
             [
              0.8888888888888888,
              "#fdca26"
             ],
             [
              1,
              "#f0f921"
             ]
            ],
            "type": "heatmap"
           }
          ],
          "heatmapgl": [
           {
            "colorbar": {
             "outlinewidth": 0,
             "ticks": ""
            },
            "colorscale": [
             [
              0,
              "#0d0887"
             ],
             [
              0.1111111111111111,
              "#46039f"
             ],
             [
              0.2222222222222222,
              "#7201a8"
             ],
             [
              0.3333333333333333,
              "#9c179e"
             ],
             [
              0.4444444444444444,
              "#bd3786"
             ],
             [
              0.5555555555555556,
              "#d8576b"
             ],
             [
              0.6666666666666666,
              "#ed7953"
             ],
             [
              0.7777777777777778,
              "#fb9f3a"
             ],
             [
              0.8888888888888888,
              "#fdca26"
             ],
             [
              1,
              "#f0f921"
             ]
            ],
            "type": "heatmapgl"
           }
          ],
          "histogram": [
           {
            "marker": {
             "pattern": {
              "fillmode": "overlay",
              "size": 10,
              "solidity": 0.2
             }
            },
            "type": "histogram"
           }
          ],
          "histogram2d": [
           {
            "colorbar": {
             "outlinewidth": 0,
             "ticks": ""
            },
            "colorscale": [
             [
              0,
              "#0d0887"
             ],
             [
              0.1111111111111111,
              "#46039f"
             ],
             [
              0.2222222222222222,
              "#7201a8"
             ],
             [
              0.3333333333333333,
              "#9c179e"
             ],
             [
              0.4444444444444444,
              "#bd3786"
             ],
             [
              0.5555555555555556,
              "#d8576b"
             ],
             [
              0.6666666666666666,
              "#ed7953"
             ],
             [
              0.7777777777777778,
              "#fb9f3a"
             ],
             [
              0.8888888888888888,
              "#fdca26"
             ],
             [
              1,
              "#f0f921"
             ]
            ],
            "type": "histogram2d"
           }
          ],
          "histogram2dcontour": [
           {
            "colorbar": {
             "outlinewidth": 0,
             "ticks": ""
            },
            "colorscale": [
             [
              0,
              "#0d0887"
             ],
             [
              0.1111111111111111,
              "#46039f"
             ],
             [
              0.2222222222222222,
              "#7201a8"
             ],
             [
              0.3333333333333333,
              "#9c179e"
             ],
             [
              0.4444444444444444,
              "#bd3786"
             ],
             [
              0.5555555555555556,
              "#d8576b"
             ],
             [
              0.6666666666666666,
              "#ed7953"
             ],
             [
              0.7777777777777778,
              "#fb9f3a"
             ],
             [
              0.8888888888888888,
              "#fdca26"
             ],
             [
              1,
              "#f0f921"
             ]
            ],
            "type": "histogram2dcontour"
           }
          ],
          "mesh3d": [
           {
            "colorbar": {
             "outlinewidth": 0,
             "ticks": ""
            },
            "type": "mesh3d"
           }
          ],
          "parcoords": [
           {
            "line": {
             "colorbar": {
              "outlinewidth": 0,
              "ticks": ""
             }
            },
            "type": "parcoords"
           }
          ],
          "pie": [
           {
            "automargin": true,
            "type": "pie"
           }
          ],
          "scatter": [
           {
            "marker": {
             "line": {
              "color": "#283442"
             }
            },
            "type": "scatter"
           }
          ],
          "scatter3d": [
           {
            "line": {
             "colorbar": {
              "outlinewidth": 0,
              "ticks": ""
             }
            },
            "marker": {
             "colorbar": {
              "outlinewidth": 0,
              "ticks": ""
             }
            },
            "type": "scatter3d"
           }
          ],
          "scattercarpet": [
           {
            "marker": {
             "colorbar": {
              "outlinewidth": 0,
              "ticks": ""
             }
            },
            "type": "scattercarpet"
           }
          ],
          "scattergeo": [
           {
            "marker": {
             "colorbar": {
              "outlinewidth": 0,
              "ticks": ""
             }
            },
            "type": "scattergeo"
           }
          ],
          "scattergl": [
           {
            "marker": {
             "line": {
              "color": "#283442"
             }
            },
            "type": "scattergl"
           }
          ],
          "scattermapbox": [
           {
            "marker": {
             "colorbar": {
              "outlinewidth": 0,
              "ticks": ""
             }
            },
            "type": "scattermapbox"
           }
          ],
          "scatterpolar": [
           {
            "marker": {
             "colorbar": {
              "outlinewidth": 0,
              "ticks": ""
             }
            },
            "type": "scatterpolar"
           }
          ],
          "scatterpolargl": [
           {
            "marker": {
             "colorbar": {
              "outlinewidth": 0,
              "ticks": ""
             }
            },
            "type": "scatterpolargl"
           }
          ],
          "scatterternary": [
           {
            "marker": {
             "colorbar": {
              "outlinewidth": 0,
              "ticks": ""
             }
            },
            "type": "scatterternary"
           }
          ],
          "surface": [
           {
            "colorbar": {
             "outlinewidth": 0,
             "ticks": ""
            },
            "colorscale": [
             [
              0,
              "#0d0887"
             ],
             [
              0.1111111111111111,
              "#46039f"
             ],
             [
              0.2222222222222222,
              "#7201a8"
             ],
             [
              0.3333333333333333,
              "#9c179e"
             ],
             [
              0.4444444444444444,
              "#bd3786"
             ],
             [
              0.5555555555555556,
              "#d8576b"
             ],
             [
              0.6666666666666666,
              "#ed7953"
             ],
             [
              0.7777777777777778,
              "#fb9f3a"
             ],
             [
              0.8888888888888888,
              "#fdca26"
             ],
             [
              1,
              "#f0f921"
             ]
            ],
            "type": "surface"
           }
          ],
          "table": [
           {
            "cells": {
             "fill": {
              "color": "#506784"
             },
             "line": {
              "color": "rgb(17,17,17)"
             }
            },
            "header": {
             "fill": {
              "color": "#2a3f5f"
             },
             "line": {
              "color": "rgb(17,17,17)"
             }
            },
            "type": "table"
           }
          ]
         },
         "layout": {
          "annotationdefaults": {
           "arrowcolor": "#f2f5fa",
           "arrowhead": 0,
           "arrowwidth": 1
          },
          "autotypenumbers": "strict",
          "coloraxis": {
           "colorbar": {
            "outlinewidth": 0,
            "ticks": ""
           }
          },
          "colorscale": {
           "diverging": [
            [
             0,
             "#8e0152"
            ],
            [
             0.1,
             "#c51b7d"
            ],
            [
             0.2,
             "#de77ae"
            ],
            [
             0.3,
             "#f1b6da"
            ],
            [
             0.4,
             "#fde0ef"
            ],
            [
             0.5,
             "#f7f7f7"
            ],
            [
             0.6,
             "#e6f5d0"
            ],
            [
             0.7,
             "#b8e186"
            ],
            [
             0.8,
             "#7fbc41"
            ],
            [
             0.9,
             "#4d9221"
            ],
            [
             1,
             "#276419"
            ]
           ],
           "sequential": [
            [
             0,
             "#0d0887"
            ],
            [
             0.1111111111111111,
             "#46039f"
            ],
            [
             0.2222222222222222,
             "#7201a8"
            ],
            [
             0.3333333333333333,
             "#9c179e"
            ],
            [
             0.4444444444444444,
             "#bd3786"
            ],
            [
             0.5555555555555556,
             "#d8576b"
            ],
            [
             0.6666666666666666,
             "#ed7953"
            ],
            [
             0.7777777777777778,
             "#fb9f3a"
            ],
            [
             0.8888888888888888,
             "#fdca26"
            ],
            [
             1,
             "#f0f921"
            ]
           ],
           "sequentialminus": [
            [
             0,
             "#0d0887"
            ],
            [
             0.1111111111111111,
             "#46039f"
            ],
            [
             0.2222222222222222,
             "#7201a8"
            ],
            [
             0.3333333333333333,
             "#9c179e"
            ],
            [
             0.4444444444444444,
             "#bd3786"
            ],
            [
             0.5555555555555556,
             "#d8576b"
            ],
            [
             0.6666666666666666,
             "#ed7953"
            ],
            [
             0.7777777777777778,
             "#fb9f3a"
            ],
            [
             0.8888888888888888,
             "#fdca26"
            ],
            [
             1,
             "#f0f921"
            ]
           ]
          },
          "colorway": [
           "#636efa",
           "#EF553B",
           "#00cc96",
           "#ab63fa",
           "#FFA15A",
           "#19d3f3",
           "#FF6692",
           "#B6E880",
           "#FF97FF",
           "#FECB52"
          ],
          "font": {
           "color": "#f2f5fa"
          },
          "geo": {
           "bgcolor": "rgb(17,17,17)",
           "lakecolor": "rgb(17,17,17)",
           "landcolor": "rgb(17,17,17)",
           "showlakes": true,
           "showland": true,
           "subunitcolor": "#506784"
          },
          "hoverlabel": {
           "align": "left"
          },
          "hovermode": "closest",
          "mapbox": {
           "style": "dark"
          },
          "paper_bgcolor": "rgb(17,17,17)",
          "plot_bgcolor": "rgb(17,17,17)",
          "polar": {
           "angularaxis": {
            "gridcolor": "#506784",
            "linecolor": "#506784",
            "ticks": ""
           },
           "bgcolor": "rgb(17,17,17)",
           "radialaxis": {
            "gridcolor": "#506784",
            "linecolor": "#506784",
            "ticks": ""
           }
          },
          "scene": {
           "xaxis": {
            "backgroundcolor": "rgb(17,17,17)",
            "gridcolor": "#506784",
            "gridwidth": 2,
            "linecolor": "#506784",
            "showbackground": true,
            "ticks": "",
            "zerolinecolor": "#C8D4E3"
           },
           "yaxis": {
            "backgroundcolor": "rgb(17,17,17)",
            "gridcolor": "#506784",
            "gridwidth": 2,
            "linecolor": "#506784",
            "showbackground": true,
            "ticks": "",
            "zerolinecolor": "#C8D4E3"
           },
           "zaxis": {
            "backgroundcolor": "rgb(17,17,17)",
            "gridcolor": "#506784",
            "gridwidth": 2,
            "linecolor": "#506784",
            "showbackground": true,
            "ticks": "",
            "zerolinecolor": "#C8D4E3"
           }
          },
          "shapedefaults": {
           "line": {
            "color": "#f2f5fa"
           }
          },
          "sliderdefaults": {
           "bgcolor": "#C8D4E3",
           "bordercolor": "rgb(17,17,17)",
           "borderwidth": 1,
           "tickwidth": 0
          },
          "ternary": {
           "aaxis": {
            "gridcolor": "#506784",
            "linecolor": "#506784",
            "ticks": ""
           },
           "baxis": {
            "gridcolor": "#506784",
            "linecolor": "#506784",
            "ticks": ""
           },
           "bgcolor": "rgb(17,17,17)",
           "caxis": {
            "gridcolor": "#506784",
            "linecolor": "#506784",
            "ticks": ""
           }
          },
          "title": {
           "x": 0.05
          },
          "updatemenudefaults": {
           "bgcolor": "#506784",
           "borderwidth": 0
          },
          "xaxis": {
           "automargin": true,
           "gridcolor": "#283442",
           "linecolor": "#506784",
           "ticks": "",
           "title": {
            "standoff": 15
           },
           "zerolinecolor": "#283442",
           "zerolinewidth": 2
          },
          "yaxis": {
           "automargin": true,
           "gridcolor": "#283442",
           "linecolor": "#506784",
           "ticks": "",
           "title": {
            "standoff": 15
           },
           "zerolinecolor": "#283442",
           "zerolinewidth": 2
          }
         }
        },
        "title": {
         "text": "Subscribers - Last 7D"
        },
        "xaxis": {
         "showgrid": false,
         "zeroline": false
        },
        "yaxis": {
         "gridcolor": "rgba(128, 128, 128, 0.2)",
         "showgrid": true,
         "zeroline": false
        }
       }
      }
     },
     "metadata": {},
     "output_type": "display_data"
    },
    {
     "name": "stdout",
     "output_type": "stream",
     "text": [
      "Displaying subscriber trend graph for 28D...\n"
     ]
    },
    {
     "data": {
      "application/vnd.plotly.v1+json": {
       "config": {
        "plotlyServerURL": "https://plot.ly"
       },
       "data": [
        {
         "fill": "tozeroy",
         "fillcolor": "rgba(255, 0, 0, 0.1)",
         "hovertemplate": "%{y:,.0f}<br>%{x}<extra></extra>",
         "line": {
          "color": "red",
          "width": 2
         },
         "name": "Subscribers",
         "type": "scatter",
         "x": [
          "2024-11-06T00:32:34.731692",
          "2024-11-05T00:32:34.731692",
          "2024-11-04T00:32:34.731692",
          "2024-11-03T00:32:34.731692",
          "2024-11-02T00:32:34.731692",
          "2024-11-01T00:32:34.731692",
          "2024-10-31T00:32:34.731692",
          "2024-10-30T00:32:34.731692",
          "2024-10-29T00:32:34.731692",
          "2024-10-28T00:32:34.731692",
          "2024-10-27T00:32:34.731692",
          "2024-10-26T00:32:34.731692",
          "2024-10-25T00:32:34.731692",
          "2024-10-24T00:32:34.731692",
          "2024-10-23T00:32:34.731692",
          "2024-10-22T00:32:34.731692",
          "2024-10-21T00:32:34.731692",
          "2024-10-20T00:32:34.731692",
          "2024-10-19T00:32:34.731692",
          "2024-10-18T00:32:34.731692",
          "2024-10-17T00:32:34.731692",
          "2024-10-16T00:32:34.731692",
          "2024-10-15T00:32:34.731692",
          "2024-10-14T00:32:34.731692",
          "2024-10-13T00:32:34.731692",
          "2024-10-12T00:32:34.731692",
          "2024-10-11T00:32:34.731692",
          "2024-10-10T00:32:34.731692"
         ],
         "y": [
          1560000,
          1559658,
          1554738,
          1550916,
          1545388,
          1539417,
          1536868,
          1534684,
          1530180,
          1525498,
          1524283,
          1521506,
          1517338,
          1515923,
          1510475,
          1508213,
          1504110,
          1500211,
          1495992,
          1492201,
          1491152,
          1488039,
          1489652,
          1486176,
          1484889,
          1482251,
          1478015,
          1474804
         ]
        }
       ],
       "layout": {
        "annotations": [
         {
          "font": {
           "color": "red",
           "size": 16
          },
          "showarrow": false,
          "text": "-5.46%",
          "x": "2024-10-10T00:32:34.731692",
          "xanchor": "right",
          "y": 1560000,
          "yanchor": "top"
         },
         {
          "font": {
           "size": 16
          },
          "showarrow": false,
          "text": "Current: 1,474,804",
          "x": "2024-11-06T00:32:34.731692",
          "xanchor": "left",
          "y": 1560000,
          "yanchor": "top"
         }
        ],
        "hovermode": "x unified",
        "margin": {
         "b": 30,
         "l": 50,
         "r": 50,
         "t": 50
        },
        "plot_bgcolor": "white",
        "showlegend": false,
        "template": {
         "data": {
          "bar": [
           {
            "error_x": {
             "color": "#f2f5fa"
            },
            "error_y": {
             "color": "#f2f5fa"
            },
            "marker": {
             "line": {
              "color": "rgb(17,17,17)",
              "width": 0.5
             },
             "pattern": {
              "fillmode": "overlay",
              "size": 10,
              "solidity": 0.2
             }
            },
            "type": "bar"
           }
          ],
          "barpolar": [
           {
            "marker": {
             "line": {
              "color": "rgb(17,17,17)",
              "width": 0.5
             },
             "pattern": {
              "fillmode": "overlay",
              "size": 10,
              "solidity": 0.2
             }
            },
            "type": "barpolar"
           }
          ],
          "carpet": [
           {
            "aaxis": {
             "endlinecolor": "#A2B1C6",
             "gridcolor": "#506784",
             "linecolor": "#506784",
             "minorgridcolor": "#506784",
             "startlinecolor": "#A2B1C6"
            },
            "baxis": {
             "endlinecolor": "#A2B1C6",
             "gridcolor": "#506784",
             "linecolor": "#506784",
             "minorgridcolor": "#506784",
             "startlinecolor": "#A2B1C6"
            },
            "type": "carpet"
           }
          ],
          "choropleth": [
           {
            "colorbar": {
             "outlinewidth": 0,
             "ticks": ""
            },
            "type": "choropleth"
           }
          ],
          "contour": [
           {
            "colorbar": {
             "outlinewidth": 0,
             "ticks": ""
            },
            "colorscale": [
             [
              0,
              "#0d0887"
             ],
             [
              0.1111111111111111,
              "#46039f"
             ],
             [
              0.2222222222222222,
              "#7201a8"
             ],
             [
              0.3333333333333333,
              "#9c179e"
             ],
             [
              0.4444444444444444,
              "#bd3786"
             ],
             [
              0.5555555555555556,
              "#d8576b"
             ],
             [
              0.6666666666666666,
              "#ed7953"
             ],
             [
              0.7777777777777778,
              "#fb9f3a"
             ],
             [
              0.8888888888888888,
              "#fdca26"
             ],
             [
              1,
              "#f0f921"
             ]
            ],
            "type": "contour"
           }
          ],
          "contourcarpet": [
           {
            "colorbar": {
             "outlinewidth": 0,
             "ticks": ""
            },
            "type": "contourcarpet"
           }
          ],
          "heatmap": [
           {
            "colorbar": {
             "outlinewidth": 0,
             "ticks": ""
            },
            "colorscale": [
             [
              0,
              "#0d0887"
             ],
             [
              0.1111111111111111,
              "#46039f"
             ],
             [
              0.2222222222222222,
              "#7201a8"
             ],
             [
              0.3333333333333333,
              "#9c179e"
             ],
             [
              0.4444444444444444,
              "#bd3786"
             ],
             [
              0.5555555555555556,
              "#d8576b"
             ],
             [
              0.6666666666666666,
              "#ed7953"
             ],
             [
              0.7777777777777778,
              "#fb9f3a"
             ],
             [
              0.8888888888888888,
              "#fdca26"
             ],
             [
              1,
              "#f0f921"
             ]
            ],
            "type": "heatmap"
           }
          ],
          "heatmapgl": [
           {
            "colorbar": {
             "outlinewidth": 0,
             "ticks": ""
            },
            "colorscale": [
             [
              0,
              "#0d0887"
             ],
             [
              0.1111111111111111,
              "#46039f"
             ],
             [
              0.2222222222222222,
              "#7201a8"
             ],
             [
              0.3333333333333333,
              "#9c179e"
             ],
             [
              0.4444444444444444,
              "#bd3786"
             ],
             [
              0.5555555555555556,
              "#d8576b"
             ],
             [
              0.6666666666666666,
              "#ed7953"
             ],
             [
              0.7777777777777778,
              "#fb9f3a"
             ],
             [
              0.8888888888888888,
              "#fdca26"
             ],
             [
              1,
              "#f0f921"
             ]
            ],
            "type": "heatmapgl"
           }
          ],
          "histogram": [
           {
            "marker": {
             "pattern": {
              "fillmode": "overlay",
              "size": 10,
              "solidity": 0.2
             }
            },
            "type": "histogram"
           }
          ],
          "histogram2d": [
           {
            "colorbar": {
             "outlinewidth": 0,
             "ticks": ""
            },
            "colorscale": [
             [
              0,
              "#0d0887"
             ],
             [
              0.1111111111111111,
              "#46039f"
             ],
             [
              0.2222222222222222,
              "#7201a8"
             ],
             [
              0.3333333333333333,
              "#9c179e"
             ],
             [
              0.4444444444444444,
              "#bd3786"
             ],
             [
              0.5555555555555556,
              "#d8576b"
             ],
             [
              0.6666666666666666,
              "#ed7953"
             ],
             [
              0.7777777777777778,
              "#fb9f3a"
             ],
             [
              0.8888888888888888,
              "#fdca26"
             ],
             [
              1,
              "#f0f921"
             ]
            ],
            "type": "histogram2d"
           }
          ],
          "histogram2dcontour": [
           {
            "colorbar": {
             "outlinewidth": 0,
             "ticks": ""
            },
            "colorscale": [
             [
              0,
              "#0d0887"
             ],
             [
              0.1111111111111111,
              "#46039f"
             ],
             [
              0.2222222222222222,
              "#7201a8"
             ],
             [
              0.3333333333333333,
              "#9c179e"
             ],
             [
              0.4444444444444444,
              "#bd3786"
             ],
             [
              0.5555555555555556,
              "#d8576b"
             ],
             [
              0.6666666666666666,
              "#ed7953"
             ],
             [
              0.7777777777777778,
              "#fb9f3a"
             ],
             [
              0.8888888888888888,
              "#fdca26"
             ],
             [
              1,
              "#f0f921"
             ]
            ],
            "type": "histogram2dcontour"
           }
          ],
          "mesh3d": [
           {
            "colorbar": {
             "outlinewidth": 0,
             "ticks": ""
            },
            "type": "mesh3d"
           }
          ],
          "parcoords": [
           {
            "line": {
             "colorbar": {
              "outlinewidth": 0,
              "ticks": ""
             }
            },
            "type": "parcoords"
           }
          ],
          "pie": [
           {
            "automargin": true,
            "type": "pie"
           }
          ],
          "scatter": [
           {
            "marker": {
             "line": {
              "color": "#283442"
             }
            },
            "type": "scatter"
           }
          ],
          "scatter3d": [
           {
            "line": {
             "colorbar": {
              "outlinewidth": 0,
              "ticks": ""
             }
            },
            "marker": {
             "colorbar": {
              "outlinewidth": 0,
              "ticks": ""
             }
            },
            "type": "scatter3d"
           }
          ],
          "scattercarpet": [
           {
            "marker": {
             "colorbar": {
              "outlinewidth": 0,
              "ticks": ""
             }
            },
            "type": "scattercarpet"
           }
          ],
          "scattergeo": [
           {
            "marker": {
             "colorbar": {
              "outlinewidth": 0,
              "ticks": ""
             }
            },
            "type": "scattergeo"
           }
          ],
          "scattergl": [
           {
            "marker": {
             "line": {
              "color": "#283442"
             }
            },
            "type": "scattergl"
           }
          ],
          "scattermapbox": [
           {
            "marker": {
             "colorbar": {
              "outlinewidth": 0,
              "ticks": ""
             }
            },
            "type": "scattermapbox"
           }
          ],
          "scatterpolar": [
           {
            "marker": {
             "colorbar": {
              "outlinewidth": 0,
              "ticks": ""
             }
            },
            "type": "scatterpolar"
           }
          ],
          "scatterpolargl": [
           {
            "marker": {
             "colorbar": {
              "outlinewidth": 0,
              "ticks": ""
             }
            },
            "type": "scatterpolargl"
           }
          ],
          "scatterternary": [
           {
            "marker": {
             "colorbar": {
              "outlinewidth": 0,
              "ticks": ""
             }
            },
            "type": "scatterternary"
           }
          ],
          "surface": [
           {
            "colorbar": {
             "outlinewidth": 0,
             "ticks": ""
            },
            "colorscale": [
             [
              0,
              "#0d0887"
             ],
             [
              0.1111111111111111,
              "#46039f"
             ],
             [
              0.2222222222222222,
              "#7201a8"
             ],
             [
              0.3333333333333333,
              "#9c179e"
             ],
             [
              0.4444444444444444,
              "#bd3786"
             ],
             [
              0.5555555555555556,
              "#d8576b"
             ],
             [
              0.6666666666666666,
              "#ed7953"
             ],
             [
              0.7777777777777778,
              "#fb9f3a"
             ],
             [
              0.8888888888888888,
              "#fdca26"
             ],
             [
              1,
              "#f0f921"
             ]
            ],
            "type": "surface"
           }
          ],
          "table": [
           {
            "cells": {
             "fill": {
              "color": "#506784"
             },
             "line": {
              "color": "rgb(17,17,17)"
             }
            },
            "header": {
             "fill": {
              "color": "#2a3f5f"
             },
             "line": {
              "color": "rgb(17,17,17)"
             }
            },
            "type": "table"
           }
          ]
         },
         "layout": {
          "annotationdefaults": {
           "arrowcolor": "#f2f5fa",
           "arrowhead": 0,
           "arrowwidth": 1
          },
          "autotypenumbers": "strict",
          "coloraxis": {
           "colorbar": {
            "outlinewidth": 0,
            "ticks": ""
           }
          },
          "colorscale": {
           "diverging": [
            [
             0,
             "#8e0152"
            ],
            [
             0.1,
             "#c51b7d"
            ],
            [
             0.2,
             "#de77ae"
            ],
            [
             0.3,
             "#f1b6da"
            ],
            [
             0.4,
             "#fde0ef"
            ],
            [
             0.5,
             "#f7f7f7"
            ],
            [
             0.6,
             "#e6f5d0"
            ],
            [
             0.7,
             "#b8e186"
            ],
            [
             0.8,
             "#7fbc41"
            ],
            [
             0.9,
             "#4d9221"
            ],
            [
             1,
             "#276419"
            ]
           ],
           "sequential": [
            [
             0,
             "#0d0887"
            ],
            [
             0.1111111111111111,
             "#46039f"
            ],
            [
             0.2222222222222222,
             "#7201a8"
            ],
            [
             0.3333333333333333,
             "#9c179e"
            ],
            [
             0.4444444444444444,
             "#bd3786"
            ],
            [
             0.5555555555555556,
             "#d8576b"
            ],
            [
             0.6666666666666666,
             "#ed7953"
            ],
            [
             0.7777777777777778,
             "#fb9f3a"
            ],
            [
             0.8888888888888888,
             "#fdca26"
            ],
            [
             1,
             "#f0f921"
            ]
           ],
           "sequentialminus": [
            [
             0,
             "#0d0887"
            ],
            [
             0.1111111111111111,
             "#46039f"
            ],
            [
             0.2222222222222222,
             "#7201a8"
            ],
            [
             0.3333333333333333,
             "#9c179e"
            ],
            [
             0.4444444444444444,
             "#bd3786"
            ],
            [
             0.5555555555555556,
             "#d8576b"
            ],
            [
             0.6666666666666666,
             "#ed7953"
            ],
            [
             0.7777777777777778,
             "#fb9f3a"
            ],
            [
             0.8888888888888888,
             "#fdca26"
            ],
            [
             1,
             "#f0f921"
            ]
           ]
          },
          "colorway": [
           "#636efa",
           "#EF553B",
           "#00cc96",
           "#ab63fa",
           "#FFA15A",
           "#19d3f3",
           "#FF6692",
           "#B6E880",
           "#FF97FF",
           "#FECB52"
          ],
          "font": {
           "color": "#f2f5fa"
          },
          "geo": {
           "bgcolor": "rgb(17,17,17)",
           "lakecolor": "rgb(17,17,17)",
           "landcolor": "rgb(17,17,17)",
           "showlakes": true,
           "showland": true,
           "subunitcolor": "#506784"
          },
          "hoverlabel": {
           "align": "left"
          },
          "hovermode": "closest",
          "mapbox": {
           "style": "dark"
          },
          "paper_bgcolor": "rgb(17,17,17)",
          "plot_bgcolor": "rgb(17,17,17)",
          "polar": {
           "angularaxis": {
            "gridcolor": "#506784",
            "linecolor": "#506784",
            "ticks": ""
           },
           "bgcolor": "rgb(17,17,17)",
           "radialaxis": {
            "gridcolor": "#506784",
            "linecolor": "#506784",
            "ticks": ""
           }
          },
          "scene": {
           "xaxis": {
            "backgroundcolor": "rgb(17,17,17)",
            "gridcolor": "#506784",
            "gridwidth": 2,
            "linecolor": "#506784",
            "showbackground": true,
            "ticks": "",
            "zerolinecolor": "#C8D4E3"
           },
           "yaxis": {
            "backgroundcolor": "rgb(17,17,17)",
            "gridcolor": "#506784",
            "gridwidth": 2,
            "linecolor": "#506784",
            "showbackground": true,
            "ticks": "",
            "zerolinecolor": "#C8D4E3"
           },
           "zaxis": {
            "backgroundcolor": "rgb(17,17,17)",
            "gridcolor": "#506784",
            "gridwidth": 2,
            "linecolor": "#506784",
            "showbackground": true,
            "ticks": "",
            "zerolinecolor": "#C8D4E3"
           }
          },
          "shapedefaults": {
           "line": {
            "color": "#f2f5fa"
           }
          },
          "sliderdefaults": {
           "bgcolor": "#C8D4E3",
           "bordercolor": "rgb(17,17,17)",
           "borderwidth": 1,
           "tickwidth": 0
          },
          "ternary": {
           "aaxis": {
            "gridcolor": "#506784",
            "linecolor": "#506784",
            "ticks": ""
           },
           "baxis": {
            "gridcolor": "#506784",
            "linecolor": "#506784",
            "ticks": ""
           },
           "bgcolor": "rgb(17,17,17)",
           "caxis": {
            "gridcolor": "#506784",
            "linecolor": "#506784",
            "ticks": ""
           }
          },
          "title": {
           "x": 0.05
          },
          "updatemenudefaults": {
           "bgcolor": "#506784",
           "borderwidth": 0
          },
          "xaxis": {
           "automargin": true,
           "gridcolor": "#283442",
           "linecolor": "#506784",
           "ticks": "",
           "title": {
            "standoff": 15
           },
           "zerolinecolor": "#283442",
           "zerolinewidth": 2
          },
          "yaxis": {
           "automargin": true,
           "gridcolor": "#283442",
           "linecolor": "#506784",
           "ticks": "",
           "title": {
            "standoff": 15
           },
           "zerolinecolor": "#283442",
           "zerolinewidth": 2
          }
         }
        },
        "title": {
         "text": "Subscribers - Last 28D"
        },
        "xaxis": {
         "showgrid": false,
         "zeroline": false
        },
        "yaxis": {
         "gridcolor": "rgba(128, 128, 128, 0.2)",
         "showgrid": true,
         "zeroline": false
        }
       }
      }
     },
     "metadata": {},
     "output_type": "display_data"
    },
    {
     "name": "stdout",
     "output_type": "stream",
     "text": [
      "Displaying subscriber trend graph for 90D...\n"
     ]
    },
    {
     "data": {
      "application/vnd.plotly.v1+json": {
       "config": {
        "plotlyServerURL": "https://plot.ly"
       },
       "data": [
        {
         "fill": "tozeroy",
         "fillcolor": "rgba(255, 0, 0, 0.1)",
         "hovertemplate": "%{y:,.0f}<br>%{x}<extra></extra>",
         "line": {
          "color": "red",
          "width": 2
         },
         "name": "Subscribers",
         "type": "scatter",
         "x": [
          "2024-11-06T00:32:35.042962",
          "2024-11-05T00:32:35.042962",
          "2024-11-04T00:32:35.042962",
          "2024-11-03T00:32:35.042962",
          "2024-11-02T00:32:35.042962",
          "2024-11-01T00:32:35.042962",
          "2024-10-31T00:32:35.042962",
          "2024-10-30T00:32:35.042962",
          "2024-10-29T00:32:35.042962",
          "2024-10-28T00:32:35.042962",
          "2024-10-27T00:32:35.042962",
          "2024-10-26T00:32:35.042962",
          "2024-10-25T00:32:35.042962",
          "2024-10-24T00:32:35.042962",
          "2024-10-23T00:32:35.042962",
          "2024-10-22T00:32:35.042962",
          "2024-10-21T00:32:35.042962",
          "2024-10-20T00:32:35.042962",
          "2024-10-19T00:32:35.042962",
          "2024-10-18T00:32:35.042962",
          "2024-10-17T00:32:35.042962",
          "2024-10-16T00:32:35.042962",
          "2024-10-15T00:32:35.042962",
          "2024-10-14T00:32:35.042962",
          "2024-10-13T00:32:35.042962",
          "2024-10-12T00:32:35.042962",
          "2024-10-11T00:32:35.042962",
          "2024-10-10T00:32:35.042962",
          "2024-10-09T00:32:35.042962",
          "2024-10-08T00:32:35.042962",
          "2024-10-07T00:32:35.042962",
          "2024-10-06T00:32:35.042962",
          "2024-10-05T00:32:35.042962",
          "2024-10-04T00:32:35.042962",
          "2024-10-03T00:32:35.042962",
          "2024-10-02T00:32:35.042962",
          "2024-10-01T00:32:35.042962",
          "2024-09-30T00:32:35.042962",
          "2024-09-29T00:32:35.042962",
          "2024-09-28T00:32:35.042962",
          "2024-09-27T00:32:35.042962",
          "2024-09-26T00:32:35.042962",
          "2024-09-25T00:32:35.042962",
          "2024-09-24T00:32:35.042962",
          "2024-09-23T00:32:35.042962",
          "2024-09-22T00:32:35.042962",
          "2024-09-21T00:32:35.042962",
          "2024-09-20T00:32:35.042962",
          "2024-09-19T00:32:35.042962",
          "2024-09-18T00:32:35.042962",
          "2024-09-17T00:32:35.042962",
          "2024-09-16T00:32:35.042962",
          "2024-09-15T00:32:35.042962",
          "2024-09-14T00:32:35.042962",
          "2024-09-13T00:32:35.042962",
          "2024-09-12T00:32:35.042962",
          "2024-09-11T00:32:35.042962",
          "2024-09-10T00:32:35.042962",
          "2024-09-09T00:32:35.042962",
          "2024-09-08T00:32:35.042962",
          "2024-09-07T00:32:35.042962",
          "2024-09-06T00:32:35.042962",
          "2024-09-05T00:32:35.042962",
          "2024-09-04T00:32:35.042962",
          "2024-09-03T00:32:35.042962",
          "2024-09-02T00:32:35.042962",
          "2024-09-01T00:32:35.042962",
          "2024-08-31T00:32:35.042962",
          "2024-08-30T00:32:35.042962",
          "2024-08-29T00:32:35.042962",
          "2024-08-28T00:32:35.042962",
          "2024-08-27T00:32:35.042962",
          "2024-08-26T00:32:35.042962",
          "2024-08-25T00:32:35.042962",
          "2024-08-24T00:32:35.042962",
          "2024-08-23T00:32:35.042962",
          "2024-08-22T00:32:35.042962",
          "2024-08-21T00:32:35.042962",
          "2024-08-20T00:32:35.042962",
          "2024-08-19T00:32:35.042962",
          "2024-08-18T00:32:35.042962",
          "2024-08-17T00:32:35.042962",
          "2024-08-16T00:32:35.042962",
          "2024-08-15T00:32:35.042962",
          "2024-08-14T00:32:35.042962",
          "2024-08-13T00:32:35.042962",
          "2024-08-12T00:32:35.042962",
          "2024-08-11T00:32:35.042962",
          "2024-08-10T00:32:35.042962",
          "2024-08-09T00:32:35.042962"
         ],
         "y": [
          1560000,
          1557943,
          1554581,
          1553791,
          1551235,
          1546841,
          1543810,
          1541775,
          1537962,
          1532027,
          1529450,
          1526763,
          1522303,
          1520845,
          1518915,
          1515150,
          1512345,
          1509512,
          1506946,
          1502202,
          1498101,
          1495272,
          1491181,
          1489024,
          1486414,
          1483691,
          1482995,
          1481129,
          1478984,
          1476185,
          1473694,
          1470696,
          1465286,
          1461058,
          1453776,
          1449472,
          1445772,
          1445503,
          1443441,
          1440970,
          1438091,
          1434860,
          1433916,
          1430682,
          1426329,
          1421856,
          1418008,
          1414229,
          1409636,
          1406436,
          1403752,
          1402380,
          1399575,
          1397775,
          1398259,
          1395621,
          1392809,
          1389220,
          1388208,
          1383167,
          1382005,
          1379445,
          1376594,
          1376748,
          1372923,
          1371091,
          1368875,
          1366982,
          1364670,
          1362281,
          1361105,
          1359397,
          1356462,
          1355073,
          1353595,
          1351845,
          1348620,
          1348217,
          1344524,
          1341498,
          1336672,
          1332920,
          1328917,
          1325225,
          1323465,
          1322054,
          1322342,
          1319682,
          1319291,
          1315471
         ]
        }
       ],
       "layout": {
        "annotations": [
         {
          "font": {
           "color": "red",
           "size": 16
          },
          "showarrow": false,
          "text": "-15.67%",
          "x": "2024-08-09T00:32:35.042962",
          "xanchor": "right",
          "y": 1560000,
          "yanchor": "top"
         },
         {
          "font": {
           "size": 16
          },
          "showarrow": false,
          "text": "Current: 1,315,471",
          "x": "2024-11-06T00:32:35.042962",
          "xanchor": "left",
          "y": 1560000,
          "yanchor": "top"
         }
        ],
        "hovermode": "x unified",
        "margin": {
         "b": 30,
         "l": 50,
         "r": 50,
         "t": 50
        },
        "plot_bgcolor": "white",
        "showlegend": false,
        "template": {
         "data": {
          "bar": [
           {
            "error_x": {
             "color": "#f2f5fa"
            },
            "error_y": {
             "color": "#f2f5fa"
            },
            "marker": {
             "line": {
              "color": "rgb(17,17,17)",
              "width": 0.5
             },
             "pattern": {
              "fillmode": "overlay",
              "size": 10,
              "solidity": 0.2
             }
            },
            "type": "bar"
           }
          ],
          "barpolar": [
           {
            "marker": {
             "line": {
              "color": "rgb(17,17,17)",
              "width": 0.5
             },
             "pattern": {
              "fillmode": "overlay",
              "size": 10,
              "solidity": 0.2
             }
            },
            "type": "barpolar"
           }
          ],
          "carpet": [
           {
            "aaxis": {
             "endlinecolor": "#A2B1C6",
             "gridcolor": "#506784",
             "linecolor": "#506784",
             "minorgridcolor": "#506784",
             "startlinecolor": "#A2B1C6"
            },
            "baxis": {
             "endlinecolor": "#A2B1C6",
             "gridcolor": "#506784",
             "linecolor": "#506784",
             "minorgridcolor": "#506784",
             "startlinecolor": "#A2B1C6"
            },
            "type": "carpet"
           }
          ],
          "choropleth": [
           {
            "colorbar": {
             "outlinewidth": 0,
             "ticks": ""
            },
            "type": "choropleth"
           }
          ],
          "contour": [
           {
            "colorbar": {
             "outlinewidth": 0,
             "ticks": ""
            },
            "colorscale": [
             [
              0,
              "#0d0887"
             ],
             [
              0.1111111111111111,
              "#46039f"
             ],
             [
              0.2222222222222222,
              "#7201a8"
             ],
             [
              0.3333333333333333,
              "#9c179e"
             ],
             [
              0.4444444444444444,
              "#bd3786"
             ],
             [
              0.5555555555555556,
              "#d8576b"
             ],
             [
              0.6666666666666666,
              "#ed7953"
             ],
             [
              0.7777777777777778,
              "#fb9f3a"
             ],
             [
              0.8888888888888888,
              "#fdca26"
             ],
             [
              1,
              "#f0f921"
             ]
            ],
            "type": "contour"
           }
          ],
          "contourcarpet": [
           {
            "colorbar": {
             "outlinewidth": 0,
             "ticks": ""
            },
            "type": "contourcarpet"
           }
          ],
          "heatmap": [
           {
            "colorbar": {
             "outlinewidth": 0,
             "ticks": ""
            },
            "colorscale": [
             [
              0,
              "#0d0887"
             ],
             [
              0.1111111111111111,
              "#46039f"
             ],
             [
              0.2222222222222222,
              "#7201a8"
             ],
             [
              0.3333333333333333,
              "#9c179e"
             ],
             [
              0.4444444444444444,
              "#bd3786"
             ],
             [
              0.5555555555555556,
              "#d8576b"
             ],
             [
              0.6666666666666666,
              "#ed7953"
             ],
             [
              0.7777777777777778,
              "#fb9f3a"
             ],
             [
              0.8888888888888888,
              "#fdca26"
             ],
             [
              1,
              "#f0f921"
             ]
            ],
            "type": "heatmap"
           }
          ],
          "heatmapgl": [
           {
            "colorbar": {
             "outlinewidth": 0,
             "ticks": ""
            },
            "colorscale": [
             [
              0,
              "#0d0887"
             ],
             [
              0.1111111111111111,
              "#46039f"
             ],
             [
              0.2222222222222222,
              "#7201a8"
             ],
             [
              0.3333333333333333,
              "#9c179e"
             ],
             [
              0.4444444444444444,
              "#bd3786"
             ],
             [
              0.5555555555555556,
              "#d8576b"
             ],
             [
              0.6666666666666666,
              "#ed7953"
             ],
             [
              0.7777777777777778,
              "#fb9f3a"
             ],
             [
              0.8888888888888888,
              "#fdca26"
             ],
             [
              1,
              "#f0f921"
             ]
            ],
            "type": "heatmapgl"
           }
          ],
          "histogram": [
           {
            "marker": {
             "pattern": {
              "fillmode": "overlay",
              "size": 10,
              "solidity": 0.2
             }
            },
            "type": "histogram"
           }
          ],
          "histogram2d": [
           {
            "colorbar": {
             "outlinewidth": 0,
             "ticks": ""
            },
            "colorscale": [
             [
              0,
              "#0d0887"
             ],
             [
              0.1111111111111111,
              "#46039f"
             ],
             [
              0.2222222222222222,
              "#7201a8"
             ],
             [
              0.3333333333333333,
              "#9c179e"
             ],
             [
              0.4444444444444444,
              "#bd3786"
             ],
             [
              0.5555555555555556,
              "#d8576b"
             ],
             [
              0.6666666666666666,
              "#ed7953"
             ],
             [
              0.7777777777777778,
              "#fb9f3a"
             ],
             [
              0.8888888888888888,
              "#fdca26"
             ],
             [
              1,
              "#f0f921"
             ]
            ],
            "type": "histogram2d"
           }
          ],
          "histogram2dcontour": [
           {
            "colorbar": {
             "outlinewidth": 0,
             "ticks": ""
            },
            "colorscale": [
             [
              0,
              "#0d0887"
             ],
             [
              0.1111111111111111,
              "#46039f"
             ],
             [
              0.2222222222222222,
              "#7201a8"
             ],
             [
              0.3333333333333333,
              "#9c179e"
             ],
             [
              0.4444444444444444,
              "#bd3786"
             ],
             [
              0.5555555555555556,
              "#d8576b"
             ],
             [
              0.6666666666666666,
              "#ed7953"
             ],
             [
              0.7777777777777778,
              "#fb9f3a"
             ],
             [
              0.8888888888888888,
              "#fdca26"
             ],
             [
              1,
              "#f0f921"
             ]
            ],
            "type": "histogram2dcontour"
           }
          ],
          "mesh3d": [
           {
            "colorbar": {
             "outlinewidth": 0,
             "ticks": ""
            },
            "type": "mesh3d"
           }
          ],
          "parcoords": [
           {
            "line": {
             "colorbar": {
              "outlinewidth": 0,
              "ticks": ""
             }
            },
            "type": "parcoords"
           }
          ],
          "pie": [
           {
            "automargin": true,
            "type": "pie"
           }
          ],
          "scatter": [
           {
            "marker": {
             "line": {
              "color": "#283442"
             }
            },
            "type": "scatter"
           }
          ],
          "scatter3d": [
           {
            "line": {
             "colorbar": {
              "outlinewidth": 0,
              "ticks": ""
             }
            },
            "marker": {
             "colorbar": {
              "outlinewidth": 0,
              "ticks": ""
             }
            },
            "type": "scatter3d"
           }
          ],
          "scattercarpet": [
           {
            "marker": {
             "colorbar": {
              "outlinewidth": 0,
              "ticks": ""
             }
            },
            "type": "scattercarpet"
           }
          ],
          "scattergeo": [
           {
            "marker": {
             "colorbar": {
              "outlinewidth": 0,
              "ticks": ""
             }
            },
            "type": "scattergeo"
           }
          ],
          "scattergl": [
           {
            "marker": {
             "line": {
              "color": "#283442"
             }
            },
            "type": "scattergl"
           }
          ],
          "scattermapbox": [
           {
            "marker": {
             "colorbar": {
              "outlinewidth": 0,
              "ticks": ""
             }
            },
            "type": "scattermapbox"
           }
          ],
          "scatterpolar": [
           {
            "marker": {
             "colorbar": {
              "outlinewidth": 0,
              "ticks": ""
             }
            },
            "type": "scatterpolar"
           }
          ],
          "scatterpolargl": [
           {
            "marker": {
             "colorbar": {
              "outlinewidth": 0,
              "ticks": ""
             }
            },
            "type": "scatterpolargl"
           }
          ],
          "scatterternary": [
           {
            "marker": {
             "colorbar": {
              "outlinewidth": 0,
              "ticks": ""
             }
            },
            "type": "scatterternary"
           }
          ],
          "surface": [
           {
            "colorbar": {
             "outlinewidth": 0,
             "ticks": ""
            },
            "colorscale": [
             [
              0,
              "#0d0887"
             ],
             [
              0.1111111111111111,
              "#46039f"
             ],
             [
              0.2222222222222222,
              "#7201a8"
             ],
             [
              0.3333333333333333,
              "#9c179e"
             ],
             [
              0.4444444444444444,
              "#bd3786"
             ],
             [
              0.5555555555555556,
              "#d8576b"
             ],
             [
              0.6666666666666666,
              "#ed7953"
             ],
             [
              0.7777777777777778,
              "#fb9f3a"
             ],
             [
              0.8888888888888888,
              "#fdca26"
             ],
             [
              1,
              "#f0f921"
             ]
            ],
            "type": "surface"
           }
          ],
          "table": [
           {
            "cells": {
             "fill": {
              "color": "#506784"
             },
             "line": {
              "color": "rgb(17,17,17)"
             }
            },
            "header": {
             "fill": {
              "color": "#2a3f5f"
             },
             "line": {
              "color": "rgb(17,17,17)"
             }
            },
            "type": "table"
           }
          ]
         },
         "layout": {
          "annotationdefaults": {
           "arrowcolor": "#f2f5fa",
           "arrowhead": 0,
           "arrowwidth": 1
          },
          "autotypenumbers": "strict",
          "coloraxis": {
           "colorbar": {
            "outlinewidth": 0,
            "ticks": ""
           }
          },
          "colorscale": {
           "diverging": [
            [
             0,
             "#8e0152"
            ],
            [
             0.1,
             "#c51b7d"
            ],
            [
             0.2,
             "#de77ae"
            ],
            [
             0.3,
             "#f1b6da"
            ],
            [
             0.4,
             "#fde0ef"
            ],
            [
             0.5,
             "#f7f7f7"
            ],
            [
             0.6,
             "#e6f5d0"
            ],
            [
             0.7,
             "#b8e186"
            ],
            [
             0.8,
             "#7fbc41"
            ],
            [
             0.9,
             "#4d9221"
            ],
            [
             1,
             "#276419"
            ]
           ],
           "sequential": [
            [
             0,
             "#0d0887"
            ],
            [
             0.1111111111111111,
             "#46039f"
            ],
            [
             0.2222222222222222,
             "#7201a8"
            ],
            [
             0.3333333333333333,
             "#9c179e"
            ],
            [
             0.4444444444444444,
             "#bd3786"
            ],
            [
             0.5555555555555556,
             "#d8576b"
            ],
            [
             0.6666666666666666,
             "#ed7953"
            ],
            [
             0.7777777777777778,
             "#fb9f3a"
            ],
            [
             0.8888888888888888,
             "#fdca26"
            ],
            [
             1,
             "#f0f921"
            ]
           ],
           "sequentialminus": [
            [
             0,
             "#0d0887"
            ],
            [
             0.1111111111111111,
             "#46039f"
            ],
            [
             0.2222222222222222,
             "#7201a8"
            ],
            [
             0.3333333333333333,
             "#9c179e"
            ],
            [
             0.4444444444444444,
             "#bd3786"
            ],
            [
             0.5555555555555556,
             "#d8576b"
            ],
            [
             0.6666666666666666,
             "#ed7953"
            ],
            [
             0.7777777777777778,
             "#fb9f3a"
            ],
            [
             0.8888888888888888,
             "#fdca26"
            ],
            [
             1,
             "#f0f921"
            ]
           ]
          },
          "colorway": [
           "#636efa",
           "#EF553B",
           "#00cc96",
           "#ab63fa",
           "#FFA15A",
           "#19d3f3",
           "#FF6692",
           "#B6E880",
           "#FF97FF",
           "#FECB52"
          ],
          "font": {
           "color": "#f2f5fa"
          },
          "geo": {
           "bgcolor": "rgb(17,17,17)",
           "lakecolor": "rgb(17,17,17)",
           "landcolor": "rgb(17,17,17)",
           "showlakes": true,
           "showland": true,
           "subunitcolor": "#506784"
          },
          "hoverlabel": {
           "align": "left"
          },
          "hovermode": "closest",
          "mapbox": {
           "style": "dark"
          },
          "paper_bgcolor": "rgb(17,17,17)",
          "plot_bgcolor": "rgb(17,17,17)",
          "polar": {
           "angularaxis": {
            "gridcolor": "#506784",
            "linecolor": "#506784",
            "ticks": ""
           },
           "bgcolor": "rgb(17,17,17)",
           "radialaxis": {
            "gridcolor": "#506784",
            "linecolor": "#506784",
            "ticks": ""
           }
          },
          "scene": {
           "xaxis": {
            "backgroundcolor": "rgb(17,17,17)",
            "gridcolor": "#506784",
            "gridwidth": 2,
            "linecolor": "#506784",
            "showbackground": true,
            "ticks": "",
            "zerolinecolor": "#C8D4E3"
           },
           "yaxis": {
            "backgroundcolor": "rgb(17,17,17)",
            "gridcolor": "#506784",
            "gridwidth": 2,
            "linecolor": "#506784",
            "showbackground": true,
            "ticks": "",
            "zerolinecolor": "#C8D4E3"
           },
           "zaxis": {
            "backgroundcolor": "rgb(17,17,17)",
            "gridcolor": "#506784",
            "gridwidth": 2,
            "linecolor": "#506784",
            "showbackground": true,
            "ticks": "",
            "zerolinecolor": "#C8D4E3"
           }
          },
          "shapedefaults": {
           "line": {
            "color": "#f2f5fa"
           }
          },
          "sliderdefaults": {
           "bgcolor": "#C8D4E3",
           "bordercolor": "rgb(17,17,17)",
           "borderwidth": 1,
           "tickwidth": 0
          },
          "ternary": {
           "aaxis": {
            "gridcolor": "#506784",
            "linecolor": "#506784",
            "ticks": ""
           },
           "baxis": {
            "gridcolor": "#506784",
            "linecolor": "#506784",
            "ticks": ""
           },
           "bgcolor": "rgb(17,17,17)",
           "caxis": {
            "gridcolor": "#506784",
            "linecolor": "#506784",
            "ticks": ""
           }
          },
          "title": {
           "x": 0.05
          },
          "updatemenudefaults": {
           "bgcolor": "#506784",
           "borderwidth": 0
          },
          "xaxis": {
           "automargin": true,
           "gridcolor": "#283442",
           "linecolor": "#506784",
           "ticks": "",
           "title": {
            "standoff": 15
           },
           "zerolinecolor": "#283442",
           "zerolinewidth": 2
          },
          "yaxis": {
           "automargin": true,
           "gridcolor": "#283442",
           "linecolor": "#506784",
           "ticks": "",
           "title": {
            "standoff": 15
           },
           "zerolinecolor": "#283442",
           "zerolinewidth": 2
          }
         }
        },
        "title": {
         "text": "Subscribers - Last 90D"
        },
        "xaxis": {
         "showgrid": false,
         "zeroline": false
        },
        "yaxis": {
         "gridcolor": "rgba(128, 128, 128, 0.2)",
         "showgrid": true,
         "zeroline": false
        }
       }
      }
     },
     "metadata": {},
     "output_type": "display_data"
    },
    {
     "name": "stdout",
     "output_type": "stream",
     "text": [
      "Displaying subscriber trend graph for ALL...\n"
     ]
    },
    {
     "data": {
      "application/vnd.plotly.v1+json": {
       "config": {
        "plotlyServerURL": "https://plot.ly"
       },
       "data": [
        {
         "fill": "tozeroy",
         "fillcolor": "rgba(255, 0, 0, 0.1)",
         "hovertemplate": "%{y:,.0f}<br>%{x}<extra></extra>",
         "line": {
          "color": "red",
          "width": 2
         },
         "name": "Subscribers",
         "type": "scatter",
         "x": [
          "2024-11-06T00:32:35.355662",
          "2024-11-05T00:32:35.355662",
          "2024-11-04T00:32:35.355662",
          "2024-11-03T00:32:35.355662",
          "2024-11-02T00:32:35.355662",
          "2024-11-01T00:32:35.355662",
          "2024-10-31T00:32:35.355662",
          "2024-10-30T00:32:35.355662",
          "2024-10-29T00:32:35.355662",
          "2024-10-28T00:32:35.355662",
          "2024-10-27T00:32:35.355662",
          "2024-10-26T00:32:35.355662",
          "2024-10-25T00:32:35.355662",
          "2024-10-24T00:32:35.355662",
          "2024-10-23T00:32:35.355662",
          "2024-10-22T00:32:35.355662",
          "2024-10-21T00:32:35.355662",
          "2024-10-20T00:32:35.355662",
          "2024-10-19T00:32:35.355662",
          "2024-10-18T00:32:35.355662",
          "2024-10-17T00:32:35.355662",
          "2024-10-16T00:32:35.355662",
          "2024-10-15T00:32:35.355662",
          "2024-10-14T00:32:35.355662",
          "2024-10-13T00:32:35.355662",
          "2024-10-12T00:32:35.355662",
          "2024-10-11T00:32:35.355662",
          "2024-10-10T00:32:35.355662",
          "2024-10-09T00:32:35.355662",
          "2024-10-08T00:32:35.355662",
          "2024-10-07T00:32:35.355662",
          "2024-10-06T00:32:35.355662",
          "2024-10-05T00:32:35.355662",
          "2024-10-04T00:32:35.355662",
          "2024-10-03T00:32:35.355662",
          "2024-10-02T00:32:35.355662",
          "2024-10-01T00:32:35.355662",
          "2024-09-30T00:32:35.355662",
          "2024-09-29T00:32:35.355662",
          "2024-09-28T00:32:35.355662",
          "2024-09-27T00:32:35.355662",
          "2024-09-26T00:32:35.355662",
          "2024-09-25T00:32:35.355662",
          "2024-09-24T00:32:35.355662",
          "2024-09-23T00:32:35.355662",
          "2024-09-22T00:32:35.355662",
          "2024-09-21T00:32:35.355662",
          "2024-09-20T00:32:35.355662",
          "2024-09-19T00:32:35.355662",
          "2024-09-18T00:32:35.355662",
          "2024-09-17T00:32:35.355662",
          "2024-09-16T00:32:35.355662",
          "2024-09-15T00:32:35.355662",
          "2024-09-14T00:32:35.355662",
          "2024-09-13T00:32:35.355662",
          "2024-09-12T00:32:35.355662",
          "2024-09-11T00:32:35.355662",
          "2024-09-10T00:32:35.355662",
          "2024-09-09T00:32:35.355662",
          "2024-09-08T00:32:35.355662",
          "2024-09-07T00:32:35.355662",
          "2024-09-06T00:32:35.355662",
          "2024-09-05T00:32:35.355662",
          "2024-09-04T00:32:35.355662",
          "2024-09-03T00:32:35.355662",
          "2024-09-02T00:32:35.355662",
          "2024-09-01T00:32:35.355662",
          "2024-08-31T00:32:35.355662",
          "2024-08-30T00:32:35.355662",
          "2024-08-29T00:32:35.355662",
          "2024-08-28T00:32:35.355662",
          "2024-08-27T00:32:35.355662",
          "2024-08-26T00:32:35.355662",
          "2024-08-25T00:32:35.355662",
          "2024-08-24T00:32:35.355662",
          "2024-08-23T00:32:35.355662",
          "2024-08-22T00:32:35.355662",
          "2024-08-21T00:32:35.355662",
          "2024-08-20T00:32:35.355662",
          "2024-08-19T00:32:35.355662",
          "2024-08-18T00:32:35.355662",
          "2024-08-17T00:32:35.355662",
          "2024-08-16T00:32:35.355662",
          "2024-08-15T00:32:35.355662",
          "2024-08-14T00:32:35.355662",
          "2024-08-13T00:32:35.355662",
          "2024-08-12T00:32:35.355662",
          "2024-08-11T00:32:35.355662",
          "2024-08-10T00:32:35.355662",
          "2024-08-09T00:32:35.355662",
          "2024-08-08T00:32:35.355662",
          "2024-08-07T00:32:35.355662",
          "2024-08-06T00:32:35.355662",
          "2024-08-05T00:32:35.355662",
          "2024-08-04T00:32:35.355662",
          "2024-08-03T00:32:35.355662",
          "2024-08-02T00:32:35.355662",
          "2024-08-01T00:32:35.355662",
          "2024-07-31T00:32:35.355662",
          "2024-07-30T00:32:35.355662",
          "2024-07-29T00:32:35.355662",
          "2024-07-28T00:32:35.355662",
          "2024-07-27T00:32:35.355662",
          "2024-07-26T00:32:35.355662",
          "2024-07-25T00:32:35.355662",
          "2024-07-24T00:32:35.355662",
          "2024-07-23T00:32:35.355662",
          "2024-07-22T00:32:35.355662",
          "2024-07-21T00:32:35.355662",
          "2024-07-20T00:32:35.355662",
          "2024-07-19T00:32:35.355662",
          "2024-07-18T00:32:35.355662",
          "2024-07-17T00:32:35.355662",
          "2024-07-16T00:32:35.355662",
          "2024-07-15T00:32:35.355662",
          "2024-07-14T00:32:35.355662",
          "2024-07-13T00:32:35.355662",
          "2024-07-12T00:32:35.355662",
          "2024-07-11T00:32:35.355662",
          "2024-07-10T00:32:35.355662",
          "2024-07-09T00:32:35.355662",
          "2024-07-08T00:32:35.355662",
          "2024-07-07T00:32:35.355662",
          "2024-07-06T00:32:35.355662",
          "2024-07-05T00:32:35.355662",
          "2024-07-04T00:32:35.355662",
          "2024-07-03T00:32:35.355662",
          "2024-07-02T00:32:35.355662",
          "2024-07-01T00:32:35.355662",
          "2024-06-30T00:32:35.355662",
          "2024-06-29T00:32:35.355662",
          "2024-06-28T00:32:35.355662",
          "2024-06-27T00:32:35.355662",
          "2024-06-26T00:32:35.355662",
          "2024-06-25T00:32:35.355662",
          "2024-06-24T00:32:35.355662",
          "2024-06-23T00:32:35.355662",
          "2024-06-22T00:32:35.355662",
          "2024-06-21T00:32:35.355662",
          "2024-06-20T00:32:35.355662",
          "2024-06-19T00:32:35.355662",
          "2024-06-18T00:32:35.355662",
          "2024-06-17T00:32:35.355662",
          "2024-06-16T00:32:35.355662",
          "2024-06-15T00:32:35.355662",
          "2024-06-14T00:32:35.355662",
          "2024-06-13T00:32:35.355662",
          "2024-06-12T00:32:35.355662",
          "2024-06-11T00:32:35.355662",
          "2024-06-10T00:32:35.355662",
          "2024-06-09T00:32:35.355662",
          "2024-06-08T00:32:35.355662",
          "2024-06-07T00:32:35.355662",
          "2024-06-06T00:32:35.355662",
          "2024-06-05T00:32:35.355662",
          "2024-06-04T00:32:35.355662",
          "2024-06-03T00:32:35.355662",
          "2024-06-02T00:32:35.355662",
          "2024-06-01T00:32:35.355662",
          "2024-05-31T00:32:35.355662",
          "2024-05-30T00:32:35.355662",
          "2024-05-29T00:32:35.355662",
          "2024-05-28T00:32:35.355662",
          "2024-05-27T00:32:35.355662",
          "2024-05-26T00:32:35.355662",
          "2024-05-25T00:32:35.355662",
          "2024-05-24T00:32:35.355662",
          "2024-05-23T00:32:35.355662",
          "2024-05-22T00:32:35.355662",
          "2024-05-21T00:32:35.355662",
          "2024-05-20T00:32:35.355662",
          "2024-05-19T00:32:35.355662",
          "2024-05-18T00:32:35.355662",
          "2024-05-17T00:32:35.355662",
          "2024-05-16T00:32:35.355662",
          "2024-05-15T00:32:35.355662",
          "2024-05-14T00:32:35.355662",
          "2024-05-13T00:32:35.355662",
          "2024-05-12T00:32:35.355662",
          "2024-05-11T00:32:35.355662",
          "2024-05-10T00:32:35.355662",
          "2024-05-09T00:32:35.355662",
          "2024-05-08T00:32:35.355662",
          "2024-05-07T00:32:35.355662",
          "2024-05-06T00:32:35.355662",
          "2024-05-05T00:32:35.355662",
          "2024-05-04T00:32:35.355662",
          "2024-05-03T00:32:35.355662",
          "2024-05-02T00:32:35.355662",
          "2024-05-01T00:32:35.355662",
          "2024-04-30T00:32:35.355662",
          "2024-04-29T00:32:35.355662",
          "2024-04-28T00:32:35.355662",
          "2024-04-27T00:32:35.355662",
          "2024-04-26T00:32:35.355662",
          "2024-04-25T00:32:35.355662",
          "2024-04-24T00:32:35.355662",
          "2024-04-23T00:32:35.355662",
          "2024-04-22T00:32:35.355662",
          "2024-04-21T00:32:35.355662",
          "2024-04-20T00:32:35.355662",
          "2024-04-19T00:32:35.355662",
          "2024-04-18T00:32:35.355662",
          "2024-04-17T00:32:35.355662",
          "2024-04-16T00:32:35.355662",
          "2024-04-15T00:32:35.355662",
          "2024-04-14T00:32:35.355662",
          "2024-04-13T00:32:35.355662",
          "2024-04-12T00:32:35.355662",
          "2024-04-11T00:32:35.355662",
          "2024-04-10T00:32:35.355662",
          "2024-04-09T00:32:35.355662",
          "2024-04-08T00:32:35.355662",
          "2024-04-07T00:32:35.355662",
          "2024-04-06T00:32:35.355662",
          "2024-04-05T00:32:35.355662",
          "2024-04-04T00:32:35.355662",
          "2024-04-03T00:32:35.355662",
          "2024-04-02T00:32:35.355662",
          "2024-04-01T00:32:35.355662",
          "2024-03-31T00:32:35.355662",
          "2024-03-30T00:32:35.355662",
          "2024-03-29T00:32:35.355662",
          "2024-03-28T00:32:35.355662",
          "2024-03-27T00:32:35.355662",
          "2024-03-26T00:32:35.355662",
          "2024-03-25T00:32:35.355662",
          "2024-03-24T00:32:35.355662",
          "2024-03-23T00:32:35.355662",
          "2024-03-22T00:32:35.355662",
          "2024-03-21T00:32:35.355662",
          "2024-03-20T00:32:35.355662",
          "2024-03-19T00:32:35.355662",
          "2024-03-18T00:32:35.355662",
          "2024-03-17T00:32:35.355662",
          "2024-03-16T00:32:35.355662",
          "2024-03-15T00:32:35.355662",
          "2024-03-14T00:32:35.355662",
          "2024-03-13T00:32:35.355662",
          "2024-03-12T00:32:35.355662",
          "2024-03-11T00:32:35.355662",
          "2024-03-10T00:32:35.355662",
          "2024-03-09T00:32:35.355662",
          "2024-03-08T00:32:35.355662",
          "2024-03-07T00:32:35.355662",
          "2024-03-06T00:32:35.355662",
          "2024-03-05T00:32:35.355662",
          "2024-03-04T00:32:35.355662",
          "2024-03-03T00:32:35.355662",
          "2024-03-02T00:32:35.355662",
          "2024-03-01T00:32:35.355662",
          "2024-02-29T00:32:35.355662",
          "2024-02-28T00:32:35.355662",
          "2024-02-27T00:32:35.355662",
          "2024-02-26T00:32:35.355662",
          "2024-02-25T00:32:35.355662",
          "2024-02-24T00:32:35.355662",
          "2024-02-23T00:32:35.355662",
          "2024-02-22T00:32:35.355662",
          "2024-02-21T00:32:35.355662",
          "2024-02-20T00:32:35.355662",
          "2024-02-19T00:32:35.355662",
          "2024-02-18T00:32:35.355662",
          "2024-02-17T00:32:35.355662",
          "2024-02-16T00:32:35.355662",
          "2024-02-15T00:32:35.355662",
          "2024-02-14T00:32:35.355662",
          "2024-02-13T00:32:35.355662",
          "2024-02-12T00:32:35.355662",
          "2024-02-11T00:32:35.355662",
          "2024-02-10T00:32:35.355662",
          "2024-02-09T00:32:35.355662",
          "2024-02-08T00:32:35.355662",
          "2024-02-07T00:32:35.355662",
          "2024-02-06T00:32:35.355662",
          "2024-02-05T00:32:35.355662",
          "2024-02-04T00:32:35.355662",
          "2024-02-03T00:32:35.355662",
          "2024-02-02T00:32:35.355662",
          "2024-02-01T00:32:35.355662",
          "2024-01-31T00:32:35.355662",
          "2024-01-30T00:32:35.355662",
          "2024-01-29T00:32:35.355662",
          "2024-01-28T00:32:35.355662",
          "2024-01-27T00:32:35.355662",
          "2024-01-26T00:32:35.355662",
          "2024-01-25T00:32:35.355662",
          "2024-01-24T00:32:35.355662",
          "2024-01-23T00:32:35.355662",
          "2024-01-22T00:32:35.355662",
          "2024-01-21T00:32:35.355662",
          "2024-01-20T00:32:35.355662",
          "2024-01-19T00:32:35.355662",
          "2024-01-18T00:32:35.355662",
          "2024-01-17T00:32:35.355662",
          "2024-01-16T00:32:35.355662",
          "2024-01-15T00:32:35.355662",
          "2024-01-14T00:32:35.355662",
          "2024-01-13T00:32:35.355662",
          "2024-01-12T00:32:35.355662",
          "2024-01-11T00:32:35.355662",
          "2024-01-10T00:32:35.355662",
          "2024-01-09T00:32:35.355662",
          "2024-01-08T00:32:35.355662",
          "2024-01-07T00:32:35.355662",
          "2024-01-06T00:32:35.355662",
          "2024-01-05T00:32:35.355662",
          "2024-01-04T00:32:35.355662",
          "2024-01-03T00:32:35.355662",
          "2024-01-02T00:32:35.355662",
          "2024-01-01T00:32:35.355662",
          "2023-12-31T00:32:35.355662",
          "2023-12-30T00:32:35.355662",
          "2023-12-29T00:32:35.355662",
          "2023-12-28T00:32:35.355662",
          "2023-12-27T00:32:35.355662",
          "2023-12-26T00:32:35.355662",
          "2023-12-25T00:32:35.355662",
          "2023-12-24T00:32:35.355662",
          "2023-12-23T00:32:35.355662",
          "2023-12-22T00:32:35.355662",
          "2023-12-21T00:32:35.355662",
          "2023-12-20T00:32:35.355662",
          "2023-12-19T00:32:35.355662",
          "2023-12-18T00:32:35.355662",
          "2023-12-17T00:32:35.355662",
          "2023-12-16T00:32:35.355662",
          "2023-12-15T00:32:35.355662",
          "2023-12-14T00:32:35.355662",
          "2023-12-13T00:32:35.355662",
          "2023-12-12T00:32:35.355662",
          "2023-12-11T00:32:35.355662",
          "2023-12-10T00:32:35.355662",
          "2023-12-09T00:32:35.355662",
          "2023-12-08T00:32:35.355662",
          "2023-12-07T00:32:35.355662",
          "2023-12-06T00:32:35.355662",
          "2023-12-05T00:32:35.355662",
          "2023-12-04T00:32:35.355662",
          "2023-12-03T00:32:35.355662",
          "2023-12-02T00:32:35.355662",
          "2023-12-01T00:32:35.355662",
          "2023-11-30T00:32:35.355662",
          "2023-11-29T00:32:35.355662",
          "2023-11-28T00:32:35.355662",
          "2023-11-27T00:32:35.355662",
          "2023-11-26T00:32:35.355662",
          "2023-11-25T00:32:35.355662",
          "2023-11-24T00:32:35.355662",
          "2023-11-23T00:32:35.355662",
          "2023-11-22T00:32:35.355662",
          "2023-11-21T00:32:35.355662",
          "2023-11-20T00:32:35.355662",
          "2023-11-19T00:32:35.355662",
          "2023-11-18T00:32:35.355662",
          "2023-11-17T00:32:35.355662",
          "2023-11-16T00:32:35.355662",
          "2023-11-15T00:32:35.355662",
          "2023-11-14T00:32:35.355662",
          "2023-11-13T00:32:35.355662",
          "2023-11-12T00:32:35.355662",
          "2023-11-11T00:32:35.355662",
          "2023-11-10T00:32:35.355662",
          "2023-11-09T00:32:35.355662",
          "2023-11-08T00:32:35.355662",
          "2023-11-07T00:32:35.355662"
         ],
         "y": [
          1560000,
          1559333,
          1557616,
          1554666,
          1551251,
          1547002,
          1542624,
          1541428,
          1538540,
          1533478,
          1528706,
          1526844,
          1522615,
          1516807,
          1513043,
          1508916,
          1506256,
          1504770,
          1501269,
          1499696,
          1497770,
          1494865,
          1490930,
          1485126,
          1480181,
          1477976,
          1475748,
          1472723,
          1469600,
          1469119,
          1465901,
          1463371,
          1462367,
          1459612,
          1455354,
          1450699,
          1448489,
          1447380,
          1443567,
          1441204,
          1438325,
          1434113,
          1431053,
          1428632,
          1424746,
          1421950,
          1418036,
          1417051,
          1414838,
          1410881,
          1407070,
          1403526,
          1399317,
          1396976,
          1394290,
          1392688,
          1388609,
          1383211,
          1382276,
          1377680,
          1374734,
          1371026,
          1368317,
          1364782,
          1363438,
          1358724,
          1354333,
          1349903,
          1347181,
          1344823,
          1343803,
          1340009,
          1336837,
          1332984,
          1331286,
          1328527,
          1325585,
          1324720,
          1323616,
          1320229,
          1316086,
          1312417,
          1308775,
          1304996,
          1303869,
          1301575,
          1298470,
          1297099,
          1295801,
          1295564,
          1293121,
          1291011,
          1289899,
          1286674,
          1283109,
          1281644,
          1279086,
          1275400,
          1272286,
          1271237,
          1267993,
          1265263,
          1264446,
          1262190,
          1258702,
          1257305,
          1253703,
          1252406,
          1250874,
          1248046,
          1247275,
          1246110,
          1243897,
          1241343,
          1239342,
          1233804,
          1231636,
          1229949,
          1226677,
          1222795,
          1220017,
          1215969,
          1212987,
          1210364,
          1208635,
          1206970,
          1203470,
          1203160,
          1201611,
          1198643,
          1196608,
          1193865,
          1193254,
          1190735,
          1185365,
          1184013,
          1181130,
          1179228,
          1178329,
          1177524,
          1174185,
          1174033,
          1171908,
          1169284,
          1167697,
          1165097,
          1163116,
          1162446,
          1160656,
          1159937,
          1157140,
          1157181,
          1156141,
          1155121,
          1153163,
          1150873,
          1147635,
          1146989,
          1145370,
          1144378,
          1140759,
          1138176,
          1135985,
          1135008,
          1130232,
          1128628,
          1126272,
          1124922,
          1120868,
          1118174,
          1117021,
          1114913,
          1113768,
          1113483,
          1111357,
          1110734,
          1109688,
          1105740,
          1101876,
          1098799,
          1097112,
          1095287,
          1092713,
          1091268,
          1089546,
          1086094,
          1083550,
          1081328,
          1079979,
          1077831,
          1074223,
          1070718,
          1068423,
          1066291,
          1063345,
          1062428,
          1060094,
          1058881,
          1057461,
          1055487,
          1052546,
          1050896,
          1049842,
          1049066,
          1046705,
          1043248,
          1041150,
          1039288,
          1037214,
          1034690,
          1032606,
          1032116,
          1029023,
          1026410,
          1025582,
          1023642,
          1020373,
          1018338,
          1015965,
          1015632,
          1012440,
          1008454,
          1005596,
          1003022,
          1001933,
          999153,
          998358,
          996227,
          994544,
          992682,
          990784,
          990357,
          988746,
          988094,
          986607,
          983938,
          981243,
          980089,
          978599,
          977321,
          974059,
          971767,
          970490,
          968797,
          967177,
          965093,
          962611,
          960859,
          958530,
          955930,
          953898,
          952167,
          950473,
          949366,
          948623,
          946057,
          944044,
          941332,
          939437,
          936645,
          934690,
          934366,
          932355,
          931696,
          930526,
          929214,
          926482,
          926838,
          924534,
          922134,
          920242,
          918559,
          916803,
          916006,
          912383,
          911317,
          909888,
          905820,
          903254,
          900858,
          899502,
          896739,
          894040,
          892461,
          889281,
          886327,
          885323,
          882668,
          882993,
          882150,
          881347,
          880185,
          878363,
          875339,
          873105,
          871343,
          869176,
          867670,
          866251,
          863870,
          861250,
          859586,
          856959,
          856784,
          854764,
          854599,
          851756,
          851879,
          850789,
          849430,
          846409,
          844390,
          843727,
          842181,
          839637,
          837123,
          836684,
          833995,
          831730,
          830041,
          828709,
          828488,
          826917,
          827043,
          825130,
          824021,
          822947,
          823738,
          822452,
          819412,
          817320,
          816686,
          814356,
          812909,
          809904,
          807442,
          805596,
          803371,
          801944,
          801151,
          798959,
          797655,
          797242,
          795827,
          794407,
          792480,
          790567,
          789191,
          786042,
          783190,
          781682,
          779070,
          778495,
          776949,
          775201,
          772722,
          771822,
          769605,
          767831,
          766518,
          765303,
          763946,
          761750,
          759856,
          758905,
          758922
         ]
        }
       ],
       "layout": {
        "annotations": [
         {
          "font": {
           "color": "red",
           "size": 16
          },
          "showarrow": false,
          "text": "-51.35%",
          "x": "2023-11-07T00:32:35.355662",
          "xanchor": "right",
          "y": 1560000,
          "yanchor": "top"
         },
         {
          "font": {
           "size": 16
          },
          "showarrow": false,
          "text": "Current: 758,922",
          "x": "2024-11-06T00:32:35.355662",
          "xanchor": "left",
          "y": 1560000,
          "yanchor": "top"
         }
        ],
        "hovermode": "x unified",
        "margin": {
         "b": 30,
         "l": 50,
         "r": 50,
         "t": 50
        },
        "plot_bgcolor": "white",
        "showlegend": false,
        "template": {
         "data": {
          "bar": [
           {
            "error_x": {
             "color": "#f2f5fa"
            },
            "error_y": {
             "color": "#f2f5fa"
            },
            "marker": {
             "line": {
              "color": "rgb(17,17,17)",
              "width": 0.5
             },
             "pattern": {
              "fillmode": "overlay",
              "size": 10,
              "solidity": 0.2
             }
            },
            "type": "bar"
           }
          ],
          "barpolar": [
           {
            "marker": {
             "line": {
              "color": "rgb(17,17,17)",
              "width": 0.5
             },
             "pattern": {
              "fillmode": "overlay",
              "size": 10,
              "solidity": 0.2
             }
            },
            "type": "barpolar"
           }
          ],
          "carpet": [
           {
            "aaxis": {
             "endlinecolor": "#A2B1C6",
             "gridcolor": "#506784",
             "linecolor": "#506784",
             "minorgridcolor": "#506784",
             "startlinecolor": "#A2B1C6"
            },
            "baxis": {
             "endlinecolor": "#A2B1C6",
             "gridcolor": "#506784",
             "linecolor": "#506784",
             "minorgridcolor": "#506784",
             "startlinecolor": "#A2B1C6"
            },
            "type": "carpet"
           }
          ],
          "choropleth": [
           {
            "colorbar": {
             "outlinewidth": 0,
             "ticks": ""
            },
            "type": "choropleth"
           }
          ],
          "contour": [
           {
            "colorbar": {
             "outlinewidth": 0,
             "ticks": ""
            },
            "colorscale": [
             [
              0,
              "#0d0887"
             ],
             [
              0.1111111111111111,
              "#46039f"
             ],
             [
              0.2222222222222222,
              "#7201a8"
             ],
             [
              0.3333333333333333,
              "#9c179e"
             ],
             [
              0.4444444444444444,
              "#bd3786"
             ],
             [
              0.5555555555555556,
              "#d8576b"
             ],
             [
              0.6666666666666666,
              "#ed7953"
             ],
             [
              0.7777777777777778,
              "#fb9f3a"
             ],
             [
              0.8888888888888888,
              "#fdca26"
             ],
             [
              1,
              "#f0f921"
             ]
            ],
            "type": "contour"
           }
          ],
          "contourcarpet": [
           {
            "colorbar": {
             "outlinewidth": 0,
             "ticks": ""
            },
            "type": "contourcarpet"
           }
          ],
          "heatmap": [
           {
            "colorbar": {
             "outlinewidth": 0,
             "ticks": ""
            },
            "colorscale": [
             [
              0,
              "#0d0887"
             ],
             [
              0.1111111111111111,
              "#46039f"
             ],
             [
              0.2222222222222222,
              "#7201a8"
             ],
             [
              0.3333333333333333,
              "#9c179e"
             ],
             [
              0.4444444444444444,
              "#bd3786"
             ],
             [
              0.5555555555555556,
              "#d8576b"
             ],
             [
              0.6666666666666666,
              "#ed7953"
             ],
             [
              0.7777777777777778,
              "#fb9f3a"
             ],
             [
              0.8888888888888888,
              "#fdca26"
             ],
             [
              1,
              "#f0f921"
             ]
            ],
            "type": "heatmap"
           }
          ],
          "heatmapgl": [
           {
            "colorbar": {
             "outlinewidth": 0,
             "ticks": ""
            },
            "colorscale": [
             [
              0,
              "#0d0887"
             ],
             [
              0.1111111111111111,
              "#46039f"
             ],
             [
              0.2222222222222222,
              "#7201a8"
             ],
             [
              0.3333333333333333,
              "#9c179e"
             ],
             [
              0.4444444444444444,
              "#bd3786"
             ],
             [
              0.5555555555555556,
              "#d8576b"
             ],
             [
              0.6666666666666666,
              "#ed7953"
             ],
             [
              0.7777777777777778,
              "#fb9f3a"
             ],
             [
              0.8888888888888888,
              "#fdca26"
             ],
             [
              1,
              "#f0f921"
             ]
            ],
            "type": "heatmapgl"
           }
          ],
          "histogram": [
           {
            "marker": {
             "pattern": {
              "fillmode": "overlay",
              "size": 10,
              "solidity": 0.2
             }
            },
            "type": "histogram"
           }
          ],
          "histogram2d": [
           {
            "colorbar": {
             "outlinewidth": 0,
             "ticks": ""
            },
            "colorscale": [
             [
              0,
              "#0d0887"
             ],
             [
              0.1111111111111111,
              "#46039f"
             ],
             [
              0.2222222222222222,
              "#7201a8"
             ],
             [
              0.3333333333333333,
              "#9c179e"
             ],
             [
              0.4444444444444444,
              "#bd3786"
             ],
             [
              0.5555555555555556,
              "#d8576b"
             ],
             [
              0.6666666666666666,
              "#ed7953"
             ],
             [
              0.7777777777777778,
              "#fb9f3a"
             ],
             [
              0.8888888888888888,
              "#fdca26"
             ],
             [
              1,
              "#f0f921"
             ]
            ],
            "type": "histogram2d"
           }
          ],
          "histogram2dcontour": [
           {
            "colorbar": {
             "outlinewidth": 0,
             "ticks": ""
            },
            "colorscale": [
             [
              0,
              "#0d0887"
             ],
             [
              0.1111111111111111,
              "#46039f"
             ],
             [
              0.2222222222222222,
              "#7201a8"
             ],
             [
              0.3333333333333333,
              "#9c179e"
             ],
             [
              0.4444444444444444,
              "#bd3786"
             ],
             [
              0.5555555555555556,
              "#d8576b"
             ],
             [
              0.6666666666666666,
              "#ed7953"
             ],
             [
              0.7777777777777778,
              "#fb9f3a"
             ],
             [
              0.8888888888888888,
              "#fdca26"
             ],
             [
              1,
              "#f0f921"
             ]
            ],
            "type": "histogram2dcontour"
           }
          ],
          "mesh3d": [
           {
            "colorbar": {
             "outlinewidth": 0,
             "ticks": ""
            },
            "type": "mesh3d"
           }
          ],
          "parcoords": [
           {
            "line": {
             "colorbar": {
              "outlinewidth": 0,
              "ticks": ""
             }
            },
            "type": "parcoords"
           }
          ],
          "pie": [
           {
            "automargin": true,
            "type": "pie"
           }
          ],
          "scatter": [
           {
            "marker": {
             "line": {
              "color": "#283442"
             }
            },
            "type": "scatter"
           }
          ],
          "scatter3d": [
           {
            "line": {
             "colorbar": {
              "outlinewidth": 0,
              "ticks": ""
             }
            },
            "marker": {
             "colorbar": {
              "outlinewidth": 0,
              "ticks": ""
             }
            },
            "type": "scatter3d"
           }
          ],
          "scattercarpet": [
           {
            "marker": {
             "colorbar": {
              "outlinewidth": 0,
              "ticks": ""
             }
            },
            "type": "scattercarpet"
           }
          ],
          "scattergeo": [
           {
            "marker": {
             "colorbar": {
              "outlinewidth": 0,
              "ticks": ""
             }
            },
            "type": "scattergeo"
           }
          ],
          "scattergl": [
           {
            "marker": {
             "line": {
              "color": "#283442"
             }
            },
            "type": "scattergl"
           }
          ],
          "scattermapbox": [
           {
            "marker": {
             "colorbar": {
              "outlinewidth": 0,
              "ticks": ""
             }
            },
            "type": "scattermapbox"
           }
          ],
          "scatterpolar": [
           {
            "marker": {
             "colorbar": {
              "outlinewidth": 0,
              "ticks": ""
             }
            },
            "type": "scatterpolar"
           }
          ],
          "scatterpolargl": [
           {
            "marker": {
             "colorbar": {
              "outlinewidth": 0,
              "ticks": ""
             }
            },
            "type": "scatterpolargl"
           }
          ],
          "scatterternary": [
           {
            "marker": {
             "colorbar": {
              "outlinewidth": 0,
              "ticks": ""
             }
            },
            "type": "scatterternary"
           }
          ],
          "surface": [
           {
            "colorbar": {
             "outlinewidth": 0,
             "ticks": ""
            },
            "colorscale": [
             [
              0,
              "#0d0887"
             ],
             [
              0.1111111111111111,
              "#46039f"
             ],
             [
              0.2222222222222222,
              "#7201a8"
             ],
             [
              0.3333333333333333,
              "#9c179e"
             ],
             [
              0.4444444444444444,
              "#bd3786"
             ],
             [
              0.5555555555555556,
              "#d8576b"
             ],
             [
              0.6666666666666666,
              "#ed7953"
             ],
             [
              0.7777777777777778,
              "#fb9f3a"
             ],
             [
              0.8888888888888888,
              "#fdca26"
             ],
             [
              1,
              "#f0f921"
             ]
            ],
            "type": "surface"
           }
          ],
          "table": [
           {
            "cells": {
             "fill": {
              "color": "#506784"
             },
             "line": {
              "color": "rgb(17,17,17)"
             }
            },
            "header": {
             "fill": {
              "color": "#2a3f5f"
             },
             "line": {
              "color": "rgb(17,17,17)"
             }
            },
            "type": "table"
           }
          ]
         },
         "layout": {
          "annotationdefaults": {
           "arrowcolor": "#f2f5fa",
           "arrowhead": 0,
           "arrowwidth": 1
          },
          "autotypenumbers": "strict",
          "coloraxis": {
           "colorbar": {
            "outlinewidth": 0,
            "ticks": ""
           }
          },
          "colorscale": {
           "diverging": [
            [
             0,
             "#8e0152"
            ],
            [
             0.1,
             "#c51b7d"
            ],
            [
             0.2,
             "#de77ae"
            ],
            [
             0.3,
             "#f1b6da"
            ],
            [
             0.4,
             "#fde0ef"
            ],
            [
             0.5,
             "#f7f7f7"
            ],
            [
             0.6,
             "#e6f5d0"
            ],
            [
             0.7,
             "#b8e186"
            ],
            [
             0.8,
             "#7fbc41"
            ],
            [
             0.9,
             "#4d9221"
            ],
            [
             1,
             "#276419"
            ]
           ],
           "sequential": [
            [
             0,
             "#0d0887"
            ],
            [
             0.1111111111111111,
             "#46039f"
            ],
            [
             0.2222222222222222,
             "#7201a8"
            ],
            [
             0.3333333333333333,
             "#9c179e"
            ],
            [
             0.4444444444444444,
             "#bd3786"
            ],
            [
             0.5555555555555556,
             "#d8576b"
            ],
            [
             0.6666666666666666,
             "#ed7953"
            ],
            [
             0.7777777777777778,
             "#fb9f3a"
            ],
            [
             0.8888888888888888,
             "#fdca26"
            ],
            [
             1,
             "#f0f921"
            ]
           ],
           "sequentialminus": [
            [
             0,
             "#0d0887"
            ],
            [
             0.1111111111111111,
             "#46039f"
            ],
            [
             0.2222222222222222,
             "#7201a8"
            ],
            [
             0.3333333333333333,
             "#9c179e"
            ],
            [
             0.4444444444444444,
             "#bd3786"
            ],
            [
             0.5555555555555556,
             "#d8576b"
            ],
            [
             0.6666666666666666,
             "#ed7953"
            ],
            [
             0.7777777777777778,
             "#fb9f3a"
            ],
            [
             0.8888888888888888,
             "#fdca26"
            ],
            [
             1,
             "#f0f921"
            ]
           ]
          },
          "colorway": [
           "#636efa",
           "#EF553B",
           "#00cc96",
           "#ab63fa",
           "#FFA15A",
           "#19d3f3",
           "#FF6692",
           "#B6E880",
           "#FF97FF",
           "#FECB52"
          ],
          "font": {
           "color": "#f2f5fa"
          },
          "geo": {
           "bgcolor": "rgb(17,17,17)",
           "lakecolor": "rgb(17,17,17)",
           "landcolor": "rgb(17,17,17)",
           "showlakes": true,
           "showland": true,
           "subunitcolor": "#506784"
          },
          "hoverlabel": {
           "align": "left"
          },
          "hovermode": "closest",
          "mapbox": {
           "style": "dark"
          },
          "paper_bgcolor": "rgb(17,17,17)",
          "plot_bgcolor": "rgb(17,17,17)",
          "polar": {
           "angularaxis": {
            "gridcolor": "#506784",
            "linecolor": "#506784",
            "ticks": ""
           },
           "bgcolor": "rgb(17,17,17)",
           "radialaxis": {
            "gridcolor": "#506784",
            "linecolor": "#506784",
            "ticks": ""
           }
          },
          "scene": {
           "xaxis": {
            "backgroundcolor": "rgb(17,17,17)",
            "gridcolor": "#506784",
            "gridwidth": 2,
            "linecolor": "#506784",
            "showbackground": true,
            "ticks": "",
            "zerolinecolor": "#C8D4E3"
           },
           "yaxis": {
            "backgroundcolor": "rgb(17,17,17)",
            "gridcolor": "#506784",
            "gridwidth": 2,
            "linecolor": "#506784",
            "showbackground": true,
            "ticks": "",
            "zerolinecolor": "#C8D4E3"
           },
           "zaxis": {
            "backgroundcolor": "rgb(17,17,17)",
            "gridcolor": "#506784",
            "gridwidth": 2,
            "linecolor": "#506784",
            "showbackground": true,
            "ticks": "",
            "zerolinecolor": "#C8D4E3"
           }
          },
          "shapedefaults": {
           "line": {
            "color": "#f2f5fa"
           }
          },
          "sliderdefaults": {
           "bgcolor": "#C8D4E3",
           "bordercolor": "rgb(17,17,17)",
           "borderwidth": 1,
           "tickwidth": 0
          },
          "ternary": {
           "aaxis": {
            "gridcolor": "#506784",
            "linecolor": "#506784",
            "ticks": ""
           },
           "baxis": {
            "gridcolor": "#506784",
            "linecolor": "#506784",
            "ticks": ""
           },
           "bgcolor": "rgb(17,17,17)",
           "caxis": {
            "gridcolor": "#506784",
            "linecolor": "#506784",
            "ticks": ""
           }
          },
          "title": {
           "x": 0.05
          },
          "updatemenudefaults": {
           "bgcolor": "#506784",
           "borderwidth": 0
          },
          "xaxis": {
           "automargin": true,
           "gridcolor": "#283442",
           "linecolor": "#506784",
           "ticks": "",
           "title": {
            "standoff": 15
           },
           "zerolinecolor": "#283442",
           "zerolinewidth": 2
          },
          "yaxis": {
           "automargin": true,
           "gridcolor": "#283442",
           "linecolor": "#506784",
           "ticks": "",
           "title": {
            "standoff": 15
           },
           "zerolinecolor": "#283442",
           "zerolinewidth": 2
          }
         }
        },
        "title": {
         "text": "Subscribers - Last ALL"
        },
        "xaxis": {
         "showgrid": false,
         "zeroline": false
        },
        "yaxis": {
         "gridcolor": "rgba(128, 128, 128, 0.2)",
         "showgrid": true,
         "zeroline": false
        }
       }
      }
     },
     "metadata": {},
     "output_type": "display_data"
    }
   ],
   "source": [
    "# Main execution code\n",
    "channel_url = \"https://www.youtube.com/@arsalancba\"  # Example channel URL\n",
    "channel_info, videos = get_channel_data(channel_url)\n",
    "\n",
    "if channel_info and videos:\n",
    "    # Create visualizer\n",
    "    viz = YouTubeVisualizer()\n",
    "    channel_id = yt.get_channel_id(channel_url)\n",
    "    \n",
    "    # Process video dates\n",
    "    videos_df = pd.DataFrame(videos)\n",
    "    videos_df['published_at'] = pd.to_datetime(videos_df['published_at']).dt.tz_localize(None)\n",
    "    \n",
    "    # Generate and save views data\n",
    "    views_data = viz.generate_views_data(videos_df)\n",
    "    if views_data is not None:\n",
    "        views_filename = 'analytics_output/views_trends_all_periods.csv'\n",
    "        views_data.to_csv(views_filename, index=False)\n",
    "        print(f\"\\nSaved all views data to {views_filename}\")\n",
    "        \n",
    "    # Generate and save subscriber data\n",
    "    subscriber_data = viz.generate_subscriber_data(channel_id)\n",
    "    if subscriber_data is not None:\n",
    "        subs_filename = 'analytics_output/subscriber_trends_all_periods.csv'\n",
    "        subscriber_data.to_csv(subs_filename, index=False)\n",
    "        print(f\"\\nSaved all subscriber data to {subs_filename}\")\n",
    "    \n",
    "    # Generate and show visualizations\n",
    "    views_graphs, subscriber_graphs = viz.get_all_trend_graphs(videos, channel_id)\n",
    "    \n",
    "    # Display views graphs\n",
    "    for time_range, graph in views_graphs.items():\n",
    "        print(f\"Displaying views trend graph for {time_range}...\")\n",
    "        graph.show()\n",
    "    \n",
    "    # Display subscriber graphs\n",
    "    for time_range, graph in subscriber_graphs.items():\n",
    "        print(f\"Displaying subscriber trend graph for {time_range}...\")\n",
    "        graph.show()\n",
    "else:\n",
    "    print(\"Could not fetch channel data\")"
   ]
  },
  {
   "cell_type": "markdown",
   "metadata": {},
   "source": [
    "\n",
    "\n",
    "<div style=\"border-radius: 30px 0 30px 0; border: 2px solid #00ea98; padding: 20px; background-color: #0a141b; text-align: center; box-shadow: 0px 2px 4px rgba(0, 0, 0, 0.2);\">\n",
    "    <h1 style=\"color: #7ab052; text-shadow: 2px 2px 4px rgba(0, 0, 0, 0.5); font-weight: bold; margin-bottom: 10px; font-size: 36px;\">Analysis Results </h1>\n",
    "</div>\n",
    "The analysis generates:\n",
    "1. Channel Overview\n",
    "   - Basic channel statistics\n",
    "   - Performance metrics\n",
    "   - Upload patterns\n",
    "\n",
    "2. Trend Analysis\n",
    "   - Views trends for different periods (7D, 28D, 90D, MAX)\n",
    "   - Subscriber growth patterns\n",
    "   - Engagement metrics over time\n",
    "\n",
    "3. Data Files\n",
    "   - views_trends_all_periods.csv: Comprehensive view data\n",
    "   - subscriber_trends_all_periods.csv: Subscriber growth data\n",
    "\n",
    "4. Visualizations\n",
    "   - Views trend graphs\n",
    "   - Upload schedule heatmap\n",
    "   - Engagement analysis\n",
    "   - Subscriber growth visualization\n",
    "\n",
    "All output files are saved in the analytics_output directory for further analysis.\n"
   ]
  }
 ],
 "metadata": {
  "kernelspec": {
   "display_name": "youtube_scraping",
   "language": "python",
   "name": "python3"
  },
  "language_info": {
   "codemirror_mode": {
    "name": "ipython",
    "version": 3
   },
   "file_extension": ".py",
   "mimetype": "text/x-python",
   "name": "python",
   "nbconvert_exporter": "python",
   "pygments_lexer": "ipython3",
   "version": "3.12.7"
  }
 },
 "nbformat": 4,
 "nbformat_minor": 2
}
